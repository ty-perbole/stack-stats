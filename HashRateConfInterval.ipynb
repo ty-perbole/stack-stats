{
 "cells": [
  {
   "cell_type": "code",
   "execution_count": 8,
   "metadata": {},
   "outputs": [
    {
     "name": "stdout",
     "output_type": "stream",
     "text": [
      "The autoreload extension is already loaded. To reload it, use:\n",
      "  %reload_ext autoreload\n"
     ]
    }
   ],
   "source": [
    "import os\n",
    "import pandas as pd\n",
    "import numpy as np\n",
    "\n",
    "import matplotlib.pyplot as plt\n",
    "from scipy.stats import chisquare\n",
    "from scipy.stats import chi2\n",
    "from scipy.stats import poisson\n",
    "\n",
    "%load_ext autoreload\n",
    "%autoreload 2\n",
    "%config InlineBackend.figure_format = 'retina'\n",
    "\n",
    "import chart_utils"
   ]
  },
  {
   "cell_type": "code",
   "execution_count": 7,
   "metadata": {},
   "outputs": [
    {
     "name": "stdout",
     "output_type": "stream",
     "text": [
      "Collecting plotly\n",
      "  Downloading plotly-5.1.0-py2.py3-none-any.whl (20.6 MB)\n",
      "\u001b[K     |████████████████████████████████| 20.6 MB 3.9 MB/s eta 0:00:01\n",
      "\u001b[?25hCollecting tenacity>=6.2.0\n",
      "  Downloading tenacity-7.0.0-py2.py3-none-any.whl (23 kB)\n",
      "Requirement already satisfied: six in /home/twood/git/envs/analysis/lib/python3.9/site-packages (from plotly) (1.16.0)\n",
      "Installing collected packages: tenacity, plotly\n",
      "Successfully installed plotly-5.1.0 tenacity-7.0.0\n"
     ]
    }
   ],
   "source": [
    "! pip install plotly"
   ]
  },
  {
   "cell_type": "code",
   "execution_count": 2,
   "metadata": {},
   "outputs": [
    {
     "name": "stdout",
     "output_type": "stream",
     "text": [
      "--2021-06-21 20:12:33--  https://coinmetrics.io/newdata/btc.csv\n",
      "Resolving coinmetrics.io (coinmetrics.io)... 2606:4700:20::681a:f42, 2606:4700:20::ac43:4bae, 2606:4700:20::681a:e42, ...\n",
      "Connecting to coinmetrics.io (coinmetrics.io)|2606:4700:20::681a:f42|:443... connected.\n",
      "HTTP request sent, awaiting response... 200 OK\n",
      "Length: 8511253 (8.1M) [application/octet-stream]\n",
      "Saving to: ‘btc.csv’\n",
      "\n",
      "btc.csv             100%[===================>]   8.12M  4.31MB/s    in 1.9s    \n",
      "\n",
      "2021-06-21 20:12:36 (4.31 MB/s) - ‘btc.csv’ saved [8511253/8511253]\n",
      "\n"
     ]
    }
   ],
   "source": [
    "try:\n",
    "    os.remove(\"btc.csv\")\n",
    "except FileNotFoundError:\n",
    "    pass\n",
    "!wget https://coinmetrics.io/newdata/btc.csv"
   ]
  },
  {
   "cell_type": "code",
   "execution_count": 3,
   "metadata": {},
   "outputs": [
    {
     "data": {
      "text/plain": [
       "array(['date', 'AdrActCnt', 'AdrBal1in100KCnt', 'AdrBal1in100MCnt',\n",
       "       'AdrBal1in10BCnt', 'AdrBal1in10KCnt', 'AdrBal1in10MCnt',\n",
       "       'AdrBal1in1BCnt', 'AdrBal1in1KCnt', 'AdrBal1in1MCnt', 'AdrBalCnt',\n",
       "       'AdrBalNtv0.001Cnt', 'AdrBalNtv0.01Cnt', 'AdrBalNtv0.1Cnt',\n",
       "       'AdrBalNtv100Cnt', 'AdrBalNtv100KCnt', 'AdrBalNtv10Cnt',\n",
       "       'AdrBalNtv10KCnt', 'AdrBalNtv1Cnt', 'AdrBalNtv1KCnt',\n",
       "       'AdrBalNtv1MCnt', 'AdrBalUSD100Cnt', 'AdrBalUSD100KCnt',\n",
       "       'AdrBalUSD10Cnt', 'AdrBalUSD10KCnt', 'AdrBalUSD10MCnt',\n",
       "       'AdrBalUSD1Cnt', 'AdrBalUSD1KCnt', 'AdrBalUSD1MCnt',\n",
       "       'AssetEODCompletionTime', 'BlkCnt', 'BlkSizeMeanByte',\n",
       "       'BlkWghtMean', 'BlkWghtTot', 'CapAct1yrUSD', 'CapMVRVCur',\n",
       "       'CapMVRVFF', 'CapMrktCurUSD', 'CapMrktFFUSD', 'CapRealUSD',\n",
       "       'DiffLast', 'DiffMean', 'FeeByteMeanNtv', 'FeeMeanNtv',\n",
       "       'FeeMeanUSD', 'FeeMedNtv', 'FeeMedUSD', 'FeeTotNtv', 'FeeTotUSD',\n",
       "       'FlowInExNtv', 'FlowInExUSD', 'FlowOutExNtv', 'FlowOutExUSD',\n",
       "       'FlowTfrFromExCnt', 'HashRate', 'HashRate30d', 'IssContNtv',\n",
       "       'IssContPctAnn', 'IssContPctDay', 'IssContUSD', 'IssTotNtv',\n",
       "       'IssTotUSD', 'NDF', 'NVTAdj', 'NVTAdj90', 'NVTAdjFF', 'NVTAdjFF90',\n",
       "       'PriceBTC', 'PriceUSD', 'ROI1yr', 'ROI30d', 'RevAllTimeUSD',\n",
       "       'RevHashNtv', 'RevHashRateNtv', 'RevHashRateUSD', 'RevHashUSD',\n",
       "       'RevNtv', 'RevUSD', 'SER', 'SplyAct10yr', 'SplyAct180d',\n",
       "       'SplyAct1d', 'SplyAct1yr', 'SplyAct2yr', 'SplyAct30d',\n",
       "       'SplyAct3yr', 'SplyAct4yr', 'SplyAct5yr', 'SplyAct7d',\n",
       "       'SplyAct90d', 'SplyActEver', 'SplyActPct1yr', 'SplyAdrBal1in100K',\n",
       "       'SplyAdrBal1in100M', 'SplyAdrBal1in10B', 'SplyAdrBal1in10K',\n",
       "       'SplyAdrBal1in10M', 'SplyAdrBal1in1B', 'SplyAdrBal1in1K',\n",
       "       'SplyAdrBal1in1M', 'SplyAdrBalNtv0.001', 'SplyAdrBalNtv0.01',\n",
       "       'SplyAdrBalNtv0.1', 'SplyAdrBalNtv1', 'SplyAdrBalNtv10',\n",
       "       'SplyAdrBalNtv100', 'SplyAdrBalNtv100K', 'SplyAdrBalNtv10K',\n",
       "       'SplyAdrBalNtv1K', 'SplyAdrBalNtv1M', 'SplyAdrBalUSD1',\n",
       "       'SplyAdrBalUSD10', 'SplyAdrBalUSD100', 'SplyAdrBalUSD100K',\n",
       "       'SplyAdrBalUSD10K', 'SplyAdrBalUSD10M', 'SplyAdrBalUSD1K',\n",
       "       'SplyAdrBalUSD1M', 'SplyAdrTop100', 'SplyAdrTop10Pct',\n",
       "       'SplyAdrTop1Pct', 'SplyCur', 'SplyExpFut10yr', 'SplyFF',\n",
       "       'SplyMiner0HopAllNtv', 'SplyMiner0HopAllUSD',\n",
       "       'SplyMiner1HopAllNtv', 'SplyMiner1HopAllUSD', 'TxCnt', 'TxCntSec',\n",
       "       'TxTfrCnt', 'TxTfrValAdjNtv', 'TxTfrValAdjUSD', 'TxTfrValMeanNtv',\n",
       "       'TxTfrValMeanUSD', 'TxTfrValMedNtv', 'TxTfrValMedUSD', 'VelCur1yr',\n",
       "       'VtyDayRet180d', 'VtyDayRet30d'], dtype=object)"
      ]
     },
     "execution_count": 3,
     "metadata": {},
     "output_type": "execute_result"
    }
   ],
   "source": [
    "data = pd.read_csv(\"btc.csv\").dropna()\n",
    "data.columns.values"
   ]
  },
  {
   "cell_type": "code",
   "execution_count": 4,
   "metadata": {},
   "outputs": [
    {
     "data": {
      "text/plain": [
       "926     170\n",
       "927     142\n",
       "928     149\n",
       "929     152\n",
       "930     151\n",
       "       ... \n",
       "4547    123\n",
       "4548    130\n",
       "4549    124\n",
       "4550    103\n",
       "4551    105\n",
       "Name: BlkCnt, Length: 3626, dtype: int64"
      ]
     },
     "execution_count": 4,
     "metadata": {},
     "output_type": "execute_result"
    }
   ],
   "source": [
    "data['BlkCnt']"
   ]
  },
  {
   "cell_type": "code",
   "execution_count": 20,
   "metadata": {},
   "outputs": [],
   "source": [
    "alpha = 0.025 # Free alpha\n",
    "\n",
    "data['HashRateL7DInc'] = data['HashRate'].rolling(7).mean()\n",
    "data['HashRateL7D'] = data['HashRateL7DInc'].shift()\n",
    "data['HashRateATH'] = data['HashRateL7D'].max()\n",
    "\n",
    "data['BlkCntLower'] = [poisson.interval(1 - alpha, x)[0] for x in data['BlkCnt']]\n",
    "data['BlkCntUpper'] = [poisson.interval(1 - alpha, x)[1] for x in data['BlkCnt']]\n",
    "data['HashRateLower'] = [(x / 144) * y * (((2 ** 32) / (10 **12)) / 600)\n",
    "                         for x, y in zip(data['BlkCntLower'], data['DiffMean'])]\n",
    "data['HashRateUpper'] = [(x / 144) * y * (((2 ** 32) / (10 **12)) / 600)\n",
    "                         for x, y in zip(data['BlkCntUpper'], data['DiffMean'])]\n",
    "\n",
    "data['HashRateLowerPct'] = (data['HashRateLower'] / data['HashRate']) - 1\n",
    "data['HashRateUpperPct'] = (data['HashRateUpper'] / data['HashRate']) - 1\n",
    "\n",
    "\n",
    "data['BlkCntLower1Side'] = [poisson.interval(1 - alpha * 2, x)[0] for x in data['BlkCnt']]\n",
    "data['BlkCntUpper1Side'] = [poisson.interval(1 - alpha * 2, x)[1] for x in data['BlkCnt']]\n",
    "data['HashRateLower1Side'] = [(x / 144) * y * (((2 ** 32) / (10 **12)) / 600)\n",
    "                         for x, y in zip(data['BlkCntLower1Side'], data['DiffMean'])]\n",
    "data['HashRateUpper1Side'] = [(x / 144) * y * (((2 ** 32) / (10 **12)) / 600)\n",
    "                         for x, y in zip(data['BlkCntUpper1Side'], data['DiffMean'])]\n",
    "\n",
    "data['HashRateLower1Side'] = [x if z > y else z\n",
    "                              for x, y, z in zip(data['HashRateLower1Side'], data['HashRateL7D'], data['HashRate'])]\n",
    "data['HashRateUpper1Side'] = [x if z < y else z\n",
    "                              for x, y, z in zip(data['HashRateUpper1Side'], data['HashRateL7D'], data['HashRate'])]\n",
    "\n",
    "data['HashRateLower1SideDelta'] = ((data['HashRateLower1Side'] / data['HashRateL7D']) - 1) * 1\n",
    "data['HashRateUpper1SideDelta'] = ((data['HashRateUpper1Side'] / data['HashRateL7D']) - 1) * 1\n",
    "\n",
    "data['HashRateLower1SideDeltaATH'] = ((data['HashRateLower1Side'] / data['HashRateATH']) - 1) * 1\n",
    "data['HashRateUpper1SideDeltaATH'] = ((data['HashRateUpper1Side'] / data['HashRateATH']) - 1) * 1"
   ]
  },
  {
   "cell_type": "code",
   "execution_count": 27,
   "metadata": {},
   "outputs": [],
   "source": [
    "subset = data.loc[\n",
    "#     (data['date'] >= '2021-03-01')\n",
    "    (data['date'] == '2021-04-16')\n",
    "    | (data['date'] == '2021-04-17')\n",
    "    | (data['date'] == '2021-05-18')\n",
    "    | (data['date'] == '2021-06-11')\n",
    "    | (data['date'] == '2021-05-18')\n",
    "    | (data['date'] == '2021-06-19')\n",
    "    | (data['date'] == '2021-06-20')\n",
    "#     & (data['date'] <= '2021-04-17')\n",
    "][\n",
    " ['date', 'HashRate', 'HashRateL7D', 'HashRateLower1Side', 'HashRateUpper1Side', \n",
    "#      'HashRateLower1SideDelta', 'HashRateUpper1SideDelta', \n",
    "  'HashRateLower1SideDeltaATH', 'HashRateUpper1SideDeltaATH']\n",
    "#   , 'HashRateLowerPct', 'HashRateUpperPct']\n",
    "]#.style.format(\"{:.2%}\")"
   ]
  },
  {
   "cell_type": "code",
   "execution_count": 28,
   "metadata": {
    "scrolled": false
   },
   "outputs": [
    {
     "data": {
      "text/html": [
       "<style  type=\"text/css\" >\n",
       "</style><table id=\"T_31bb3676_d30a_11eb_85f2_03542673cc15\" ><thead>    <tr>        <th class=\"blank level0\" ></th>        <th class=\"col_heading level0 col0\" >date</th>        <th class=\"col_heading level0 col1\" >HashRate</th>        <th class=\"col_heading level0 col2\" >HashRateL7D</th>        <th class=\"col_heading level0 col3\" >HashRateLower1Side</th>        <th class=\"col_heading level0 col4\" >HashRateUpper1Side</th>        <th class=\"col_heading level0 col5\" >HashRateLower1SideDeltaATH</th>        <th class=\"col_heading level0 col6\" >HashRateUpper1SideDeltaATH</th>    </tr></thead><tbody>\n",
       "                <tr>\n",
       "                        <th id=\"T_31bb3676_d30a_11eb_85f2_03542673cc15level0_row0\" class=\"row_heading level0 row0\" >4486</th>\n",
       "                        <td id=\"T_31bb3676_d30a_11eb_85f2_03542673cc15row0_col0\" class=\"data row0 col0\" >2021-04-16</td>\n",
       "                        <td id=\"T_31bb3676_d30a_11eb_85f2_03542673cc15row0_col1\" class=\"data row0 col1\" >1.20743E+08</td>\n",
       "                        <td id=\"T_31bb3676_d30a_11eb_85f2_03542673cc15row0_col2\" class=\"data row0 col2\" >1.72146E+08</td>\n",
       "                        <td id=\"T_31bb3676_d30a_11eb_85f2_03542673cc15row0_col3\" class=\"data row0 col3\" >1.20743E+08</td>\n",
       "                        <td id=\"T_31bb3676_d30a_11eb_85f2_03542673cc15row0_col4\" class=\"data row0 col4\" >1.44189E+08</td>\n",
       "                        <td id=\"T_31bb3676_d30a_11eb_85f2_03542673cc15row0_col5\" class=\"data row0 col5\" >-33.23%</td>\n",
       "                        <td id=\"T_31bb3676_d30a_11eb_85f2_03542673cc15row0_col6\" class=\"data row0 col6\" >-20.26%</td>\n",
       "            </tr>\n",
       "            <tr>\n",
       "                        <th id=\"T_31bb3676_d30a_11eb_85f2_03542673cc15level0_row1\" class=\"row_heading level0 row1\" >4487</th>\n",
       "                        <td id=\"T_31bb3676_d30a_11eb_85f2_03542673cc15row1_col0\" class=\"data row1 col0\" >2021-04-17</td>\n",
       "                        <td id=\"T_31bb3676_d30a_11eb_85f2_03542673cc15row1_col1\" class=\"data row1 col1\" >1.06676E+08</td>\n",
       "                        <td id=\"T_31bb3676_d30a_11eb_85f2_03542673cc15row1_col2\" class=\"data row1 col2\" >1.64420E+08</td>\n",
       "                        <td id=\"T_31bb3676_d30a_11eb_85f2_03542673cc15row1_col3\" class=\"data row1 col3\" >1.06676E+08</td>\n",
       "                        <td id=\"T_31bb3676_d30a_11eb_85f2_03542673cc15row1_col4\" class=\"data row1 col4\" >1.28949E+08</td>\n",
       "                        <td id=\"T_31bb3676_d30a_11eb_85f2_03542673cc15row1_col5\" class=\"data row1 col5\" >-41.01%</td>\n",
       "                        <td id=\"T_31bb3676_d30a_11eb_85f2_03542673cc15row1_col6\" class=\"data row1 col6\" >-28.69%</td>\n",
       "            </tr>\n",
       "            <tr>\n",
       "                        <th id=\"T_31bb3676_d30a_11eb_85f2_03542673cc15level0_row2\" class=\"row_heading level0 row2\" >4518</th>\n",
       "                        <td id=\"T_31bb3676_d30a_11eb_85f2_03542673cc15row2_col0\" class=\"data row2 col0\" >2021-05-18</td>\n",
       "                        <td id=\"T_31bb3676_d30a_11eb_85f2_03542673cc15row2_col1\" class=\"data row2 col1\" >1.24507E+08</td>\n",
       "                        <td id=\"T_31bb3676_d30a_11eb_85f2_03542673cc15row2_col2\" class=\"data row2 col2\" >1.67772E+08</td>\n",
       "                        <td id=\"T_31bb3676_d30a_11eb_85f2_03542673cc15row2_col3\" class=\"data row2 col3\" >1.24507E+08</td>\n",
       "                        <td id=\"T_31bb3676_d30a_11eb_85f2_03542673cc15row2_col4\" class=\"data row2 col4\" >1.49408E+08</td>\n",
       "                        <td id=\"T_31bb3676_d30a_11eb_85f2_03542673cc15row2_col5\" class=\"data row2 col5\" >-31.14%</td>\n",
       "                        <td id=\"T_31bb3676_d30a_11eb_85f2_03542673cc15row2_col6\" class=\"data row2 col6\" >-17.37%</td>\n",
       "            </tr>\n",
       "            <tr>\n",
       "                        <th id=\"T_31bb3676_d30a_11eb_85f2_03542673cc15level0_row3\" class=\"row_heading level0 row3\" >4542</th>\n",
       "                        <td id=\"T_31bb3676_d30a_11eb_85f2_03542673cc15row3_col0\" class=\"data row3 col0\" >2021-06-11</td>\n",
       "                        <td id=\"T_31bb3676_d30a_11eb_85f2_03542673cc15row3_col1\" class=\"data row3 col1\" >1.09860E+08</td>\n",
       "                        <td id=\"T_31bb3676_d30a_11eb_85f2_03542673cc15row3_col2\" class=\"data row3 col2\" >1.40203E+08</td>\n",
       "                        <td id=\"T_31bb3676_d30a_11eb_85f2_03542673cc15row3_col3\" class=\"data row3 col3\" >1.09860E+08</td>\n",
       "                        <td id=\"T_31bb3676_d30a_11eb_85f2_03542673cc15row3_col4\" class=\"data row3 col4\" >1.31832E+08</td>\n",
       "                        <td id=\"T_31bb3676_d30a_11eb_85f2_03542673cc15row3_col5\" class=\"data row3 col5\" >-39.24%</td>\n",
       "                        <td id=\"T_31bb3676_d30a_11eb_85f2_03542673cc15row3_col6\" class=\"data row3 col6\" >-27.09%</td>\n",
       "            </tr>\n",
       "            <tr>\n",
       "                        <th id=\"T_31bb3676_d30a_11eb_85f2_03542673cc15level0_row4\" class=\"row_heading level0 row4\" >4550</th>\n",
       "                        <td id=\"T_31bb3676_d30a_11eb_85f2_03542673cc15row4_col0\" class=\"data row4 col0\" >2021-06-19</td>\n",
       "                        <td id=\"T_31bb3676_d30a_11eb_85f2_03542673cc15row4_col1\" class=\"data row4 col1\" >1.02059E+08</td>\n",
       "                        <td id=\"T_31bb3676_d30a_11eb_85f2_03542673cc15row4_col2\" class=\"data row4 col2\" >1.30240E+08</td>\n",
       "                        <td id=\"T_31bb3676_d30a_11eb_85f2_03542673cc15row4_col3\" class=\"data row4 col3\" >1.02059E+08</td>\n",
       "                        <td id=\"T_31bb3676_d30a_11eb_85f2_03542673cc15row4_col4\" class=\"data row4 col4\" >1.21876E+08</td>\n",
       "                        <td id=\"T_31bb3676_d30a_11eb_85f2_03542673cc15row4_col5\" class=\"data row4 col5\" >-43.56%</td>\n",
       "                        <td id=\"T_31bb3676_d30a_11eb_85f2_03542673cc15row4_col6\" class=\"data row4 col6\" >-32.60%</td>\n",
       "            </tr>\n",
       "            <tr>\n",
       "                        <th id=\"T_31bb3676_d30a_11eb_85f2_03542673cc15level0_row5\" class=\"row_heading level0 row5\" >4551</th>\n",
       "                        <td id=\"T_31bb3676_d30a_11eb_85f2_03542673cc15row5_col0\" class=\"data row5 col0\" >2021-06-20</td>\n",
       "                        <td id=\"T_31bb3676_d30a_11eb_85f2_03542673cc15row5_col1\" class=\"data row5 col1\" >1.04041E+08</td>\n",
       "                        <td id=\"T_31bb3676_d30a_11eb_85f2_03542673cc15row5_col2\" class=\"data row5 col2\" >1.25090E+08</td>\n",
       "                        <td id=\"T_31bb3676_d30a_11eb_85f2_03542673cc15row5_col3\" class=\"data row5 col3\" >1.04041E+08</td>\n",
       "                        <td id=\"T_31bb3676_d30a_11eb_85f2_03542673cc15row5_col4\" class=\"data row5 col4\" >1.24849E+08</td>\n",
       "                        <td id=\"T_31bb3676_d30a_11eb_85f2_03542673cc15row5_col5\" class=\"data row5 col5\" >-42.46%</td>\n",
       "                        <td id=\"T_31bb3676_d30a_11eb_85f2_03542673cc15row5_col6\" class=\"data row5 col6\" >-30.96%</td>\n",
       "            </tr>\n",
       "    </tbody></table>"
      ],
      "text/plain": [
       "<pandas.io.formats.style.Styler at 0x7f9bb3a89fd0>"
      ]
     },
     "execution_count": 28,
     "metadata": {},
     "output_type": "execute_result"
    }
   ],
   "source": [
    "subset.style.format({\n",
    "    'HashRate': '{:.5E}',\n",
    "    'HashRateL7D': '{:.5E}',\n",
    "    'HashRateLower1Side': '{:.5E}',\n",
    "    'HashRateUpper1Side': '{:.5E}',\n",
    "#     'HashRateLower1SideDelta': '{:,.2%}',\n",
    "#     'HashRateUpper1SideDelta': '{:,.2%}',\n",
    "    'HashRateLower1SideDeltaATH': '{:,.2%}',\n",
    "    'HashRateUpper1SideDeltaATH': '{:,.2%}',\n",
    "#     'HashRateLower': '{:,.2%}',\n",
    "#     'HashRateUpper': '{:,.2%}',\n",
    "})"
   ]
  },
  {
   "cell_type": "code",
   "execution_count": 32,
   "metadata": {},
   "outputs": [
    {
     "data": {
      "text/html": [
       "<div>\n",
       "<style scoped>\n",
       "    .dataframe tbody tr th:only-of-type {\n",
       "        vertical-align: middle;\n",
       "    }\n",
       "\n",
       "    .dataframe tbody tr th {\n",
       "        vertical-align: top;\n",
       "    }\n",
       "\n",
       "    .dataframe thead th {\n",
       "        text-align: right;\n",
       "    }\n",
       "</style>\n",
       "<table border=\"1\" class=\"dataframe\">\n",
       "  <thead>\n",
       "    <tr style=\"text-align: right;\">\n",
       "      <th></th>\n",
       "      <th>date</th>\n",
       "      <th>HashRate</th>\n",
       "      <th>HashRateLower1Side</th>\n",
       "      <th>HashRateUpper1Side</th>\n",
       "      <th>HashRateLower1SideDelta</th>\n",
       "      <th>HashRateUpper1SideDelta</th>\n",
       "    </tr>\n",
       "  </thead>\n",
       "  <tbody>\n",
       "    <tr>\n",
       "      <th>4493</th>\n",
       "      <td>2021-04-23</td>\n",
       "      <td>1.582560e+08</td>\n",
       "      <td>1.324661e+08</td>\n",
       "      <td>1.582560e+08</td>\n",
       "      <td>0.005083</td>\n",
       "      <td>2.007624e-01</td>\n",
       "    </tr>\n",
       "    <tr>\n",
       "      <th>4494</th>\n",
       "      <td>2021-04-24</td>\n",
       "      <td>1.699787e+08</td>\n",
       "      <td>1.430165e+08</td>\n",
       "      <td>1.699787e+08</td>\n",
       "      <td>0.042735</td>\n",
       "      <td>2.393162e-01</td>\n",
       "    </tr>\n",
       "    <tr>\n",
       "      <th>4495</th>\n",
       "      <td>2021-04-25</td>\n",
       "      <td>1.652896e+08</td>\n",
       "      <td>1.383275e+08</td>\n",
       "      <td>1.652896e+08</td>\n",
       "      <td>-0.053837</td>\n",
       "      <td>1.305842e-01</td>\n",
       "    </tr>\n",
       "    <tr>\n",
       "      <th>4496</th>\n",
       "      <td>2021-04-26</td>\n",
       "      <td>1.336384e+08</td>\n",
       "      <td>1.336384e+08</td>\n",
       "      <td>1.582560e+08</td>\n",
       "      <td>-0.103371</td>\n",
       "      <td>6.179775e-02</td>\n",
       "    </tr>\n",
       "    <tr>\n",
       "      <th>4497</th>\n",
       "      <td>2021-04-27</td>\n",
       "      <td>1.664619e+08</td>\n",
       "      <td>1.394997e+08</td>\n",
       "      <td>1.664619e+08</td>\n",
       "      <td>-0.081588</td>\n",
       "      <td>9.592061e-02</td>\n",
       "    </tr>\n",
       "    <tr>\n",
       "      <th>4498</th>\n",
       "      <td>2021-04-28</td>\n",
       "      <td>1.664619e+08</td>\n",
       "      <td>1.394997e+08</td>\n",
       "      <td>1.664619e+08</td>\n",
       "      <td>-0.095548</td>\n",
       "      <td>7.926167e-02</td>\n",
       "    </tr>\n",
       "    <tr>\n",
       "      <th>4499</th>\n",
       "      <td>2021-04-29</td>\n",
       "      <td>1.430165e+08</td>\n",
       "      <td>1.430165e+08</td>\n",
       "      <td>1.688064e+08</td>\n",
       "      <td>-0.112266</td>\n",
       "      <td>4.781705e-02</td>\n",
       "    </tr>\n",
       "    <tr>\n",
       "      <th>4500</th>\n",
       "      <td>2021-04-30</td>\n",
       "      <td>1.699787e+08</td>\n",
       "      <td>1.430165e+08</td>\n",
       "      <td>1.699787e+08</td>\n",
       "      <td>-0.092455</td>\n",
       "      <td>7.863974e-02</td>\n",
       "    </tr>\n",
       "    <tr>\n",
       "      <th>4501</th>\n",
       "      <td>2021-05-01</td>\n",
       "      <td>1.582156e+08</td>\n",
       "      <td>1.582156e+08</td>\n",
       "      <td>1.855334e+08</td>\n",
       "      <td>-0.006563</td>\n",
       "      <td>1.649660e-01</td>\n",
       "    </tr>\n",
       "    <tr>\n",
       "      <th>4502</th>\n",
       "      <td>2021-05-02</td>\n",
       "      <td>1.895272e+08</td>\n",
       "      <td>1.628909e+08</td>\n",
       "      <td>1.895272e+08</td>\n",
       "      <td>0.033701</td>\n",
       "      <td>2.027335e-01</td>\n",
       "    </tr>\n",
       "    <tr>\n",
       "      <th>4503</th>\n",
       "      <td>2021-05-03</td>\n",
       "      <td>1.813314e+08</td>\n",
       "      <td>1.546952e+08</td>\n",
       "      <td>1.813314e+08</td>\n",
       "      <td>-0.039416</td>\n",
       "      <td>1.259822e-01</td>\n",
       "    </tr>\n",
       "    <tr>\n",
       "      <th>4504</th>\n",
       "      <td>2021-05-04</td>\n",
       "      <td>1.854293e+08</td>\n",
       "      <td>1.587930e+08</td>\n",
       "      <td>1.854293e+08</td>\n",
       "      <td>-0.053993</td>\n",
       "      <td>1.046916e-01</td>\n",
       "    </tr>\n",
       "    <tr>\n",
       "      <th>4505</th>\n",
       "      <td>2021-05-05</td>\n",
       "      <td>1.608420e+08</td>\n",
       "      <td>1.608420e+08</td>\n",
       "      <td>1.864538e+08</td>\n",
       "      <td>-0.057009</td>\n",
       "      <td>9.314866e-02</td>\n",
       "    </tr>\n",
       "    <tr>\n",
       "      <th>4506</th>\n",
       "      <td>2021-05-06</td>\n",
       "      <td>1.741601e+08</td>\n",
       "      <td>1.485483e+08</td>\n",
       "      <td>1.741601e+08</td>\n",
       "      <td>-0.124966</td>\n",
       "      <td>2.590177e-02</td>\n",
       "    </tr>\n",
       "    <tr>\n",
       "      <th>4507</th>\n",
       "      <td>2021-05-07</td>\n",
       "      <td>1.762091e+08</td>\n",
       "      <td>1.505973e+08</td>\n",
       "      <td>1.762091e+08</td>\n",
       "      <td>-0.135552</td>\n",
       "      <td>1.146314e-02</td>\n",
       "    </tr>\n",
       "    <tr>\n",
       "      <th>4508</th>\n",
       "      <td>2021-05-08</td>\n",
       "      <td>1.751846e+08</td>\n",
       "      <td>1.495728e+08</td>\n",
       "      <td>1.751846e+08</td>\n",
       "      <td>-0.145797</td>\n",
       "      <td>4.711005e-04</td>\n",
       "    </tr>\n",
       "    <tr>\n",
       "      <th>4509</th>\n",
       "      <td>2021-05-09</td>\n",
       "      <td>1.905517e+08</td>\n",
       "      <td>1.639154e+08</td>\n",
       "      <td>1.905517e+08</td>\n",
       "      <td>-0.076669</td>\n",
       "      <td>7.337181e-02</td>\n",
       "    </tr>\n",
       "    <tr>\n",
       "      <th>4510</th>\n",
       "      <td>2021-05-10</td>\n",
       "      <td>1.844048e+08</td>\n",
       "      <td>1.577686e+08</td>\n",
       "      <td>1.844048e+08</td>\n",
       "      <td>-0.112026</td>\n",
       "      <td>3.789127e-02</td>\n",
       "    </tr>\n",
       "    <tr>\n",
       "      <th>4511</th>\n",
       "      <td>2021-05-11</td>\n",
       "      <td>1.762091e+08</td>\n",
       "      <td>1.762091e+08</td>\n",
       "      <td>2.028453e+08</td>\n",
       "      <td>-0.010682</td>\n",
       "      <td>1.388661e-01</td>\n",
       "    </tr>\n",
       "    <tr>\n",
       "      <th>4512</th>\n",
       "      <td>2021-05-12</td>\n",
       "      <td>1.762091e+08</td>\n",
       "      <td>1.762091e+08</td>\n",
       "      <td>2.028453e+08</td>\n",
       "      <td>-0.003311</td>\n",
       "      <td>1.473510e-01</td>\n",
       "    </tr>\n",
       "    <tr>\n",
       "      <th>4513</th>\n",
       "      <td>2021-05-13</td>\n",
       "      <td>1.869995e+08</td>\n",
       "      <td>1.591238e+08</td>\n",
       "      <td>1.869995e+08</td>\n",
       "      <td>-0.110989</td>\n",
       "      <td>4.474974e-02</td>\n",
       "    </tr>\n",
       "    <tr>\n",
       "      <th>4514</th>\n",
       "      <td>2021-05-14</td>\n",
       "      <td>1.668391e+08</td>\n",
       "      <td>1.668391e+08</td>\n",
       "      <td>1.954756e+08</td>\n",
       "      <td>-0.077340</td>\n",
       "      <td>8.102717e-02</td>\n",
       "    </tr>\n",
       "    <tr>\n",
       "      <th>4515</th>\n",
       "      <td>2021-05-15</td>\n",
       "      <td>1.531433e+08</td>\n",
       "      <td>1.531433e+08</td>\n",
       "      <td>1.805348e+08</td>\n",
       "      <td>-0.146764</td>\n",
       "      <td>5.846787e-03</td>\n",
       "    </tr>\n",
       "    <tr>\n",
       "      <th>4516</th>\n",
       "      <td>2021-05-16</td>\n",
       "      <td>1.643489e+08</td>\n",
       "      <td>1.643489e+08</td>\n",
       "      <td>1.929855e+08</td>\n",
       "      <td>-0.067982</td>\n",
       "      <td>9.441510e-02</td>\n",
       "    </tr>\n",
       "    <tr>\n",
       "      <th>4517</th>\n",
       "      <td>2021-05-17</td>\n",
       "      <td>1.506532e+08</td>\n",
       "      <td>1.506532e+08</td>\n",
       "      <td>1.780447e+08</td>\n",
       "      <td>-0.127121</td>\n",
       "      <td>3.158450e-02</td>\n",
       "    </tr>\n",
       "    <tr>\n",
       "      <th>4518</th>\n",
       "      <td>2021-05-18</td>\n",
       "      <td>1.245068e+08</td>\n",
       "      <td>1.245068e+08</td>\n",
       "      <td>1.494081e+08</td>\n",
       "      <td>-0.257880</td>\n",
       "      <td>-1.094560e-01</td>\n",
       "    </tr>\n",
       "    <tr>\n",
       "      <th>4519</th>\n",
       "      <td>2021-05-19</td>\n",
       "      <td>1.556335e+08</td>\n",
       "      <td>1.556335e+08</td>\n",
       "      <td>1.830249e+08</td>\n",
       "      <td>-0.029630</td>\n",
       "      <td>1.411551e-01</td>\n",
       "    </tr>\n",
       "    <tr>\n",
       "      <th>4520</th>\n",
       "      <td>2021-05-20</td>\n",
       "      <td>1.394476e+08</td>\n",
       "      <td>1.394476e+08</td>\n",
       "      <td>1.655940e+08</td>\n",
       "      <td>-0.114317</td>\n",
       "      <td>5.174892e-02</td>\n",
       "    </tr>\n",
       "    <tr>\n",
       "      <th>4521</th>\n",
       "      <td>2021-05-21</td>\n",
       "      <td>1.369574e+08</td>\n",
       "      <td>1.369574e+08</td>\n",
       "      <td>1.631039e+08</td>\n",
       "      <td>-0.090909</td>\n",
       "      <td>8.264463e-02</td>\n",
       "    </tr>\n",
       "    <tr>\n",
       "      <th>4522</th>\n",
       "      <td>2021-05-22</td>\n",
       "      <td>1.444278e+08</td>\n",
       "      <td>1.444278e+08</td>\n",
       "      <td>1.718193e+08</td>\n",
       "      <td>-0.013366</td>\n",
       "      <td>1.737546e-01</td>\n",
       "    </tr>\n",
       "    <tr>\n",
       "      <th>4523</th>\n",
       "      <td>2021-05-23</td>\n",
       "      <td>1.481631e+08</td>\n",
       "      <td>1.220166e+08</td>\n",
       "      <td>1.481631e+08</td>\n",
       "      <td>-0.159314</td>\n",
       "      <td>2.083333e-02</td>\n",
       "    </tr>\n",
       "    <tr>\n",
       "      <th>4524</th>\n",
       "      <td>2021-05-24</td>\n",
       "      <td>1.568785e+08</td>\n",
       "      <td>1.294870e+08</td>\n",
       "      <td>1.568785e+08</td>\n",
       "      <td>-0.093400</td>\n",
       "      <td>9.838107e-02</td>\n",
       "    </tr>\n",
       "    <tr>\n",
       "      <th>4525</th>\n",
       "      <td>2021-05-25</td>\n",
       "      <td>1.531433e+08</td>\n",
       "      <td>1.269969e+08</td>\n",
       "      <td>1.531433e+08</td>\n",
       "      <td>-0.116337</td>\n",
       "      <td>6.559406e-02</td>\n",
       "    </tr>\n",
       "    <tr>\n",
       "      <th>4526</th>\n",
       "      <td>2021-05-26</td>\n",
       "      <td>1.518983e+08</td>\n",
       "      <td>1.257518e+08</td>\n",
       "      <td>1.518983e+08</td>\n",
       "      <td>-0.149218</td>\n",
       "      <td>2.767749e-02</td>\n",
       "    </tr>\n",
       "    <tr>\n",
       "      <th>4527</th>\n",
       "      <td>2021-05-27</td>\n",
       "      <td>1.456729e+08</td>\n",
       "      <td>1.456729e+08</td>\n",
       "      <td>1.730644e+08</td>\n",
       "      <td>-0.010870</td>\n",
       "      <td>1.751208e-01</td>\n",
       "    </tr>\n",
       "    <tr>\n",
       "      <th>4528</th>\n",
       "      <td>2021-05-28</td>\n",
       "      <td>1.481631e+08</td>\n",
       "      <td>1.220166e+08</td>\n",
       "      <td>1.481631e+08</td>\n",
       "      <td>-0.176471</td>\n",
       "      <td>2.886580e-15</td>\n",
       "    </tr>\n",
       "    <tr>\n",
       "      <th>4529</th>\n",
       "      <td>2021-05-29</td>\n",
       "      <td>1.444278e+08</td>\n",
       "      <td>1.444278e+08</td>\n",
       "      <td>1.718193e+08</td>\n",
       "      <td>-0.035629</td>\n",
       "      <td>1.472684e-01</td>\n",
       "    </tr>\n",
       "    <tr>\n",
       "      <th>4530</th>\n",
       "      <td>2021-05-30</td>\n",
       "      <td>1.508643e+08</td>\n",
       "      <td>1.267679e+08</td>\n",
       "      <td>1.508643e+08</td>\n",
       "      <td>-0.153548</td>\n",
       "      <td>7.347911e-03</td>\n",
       "    </tr>\n",
       "    <tr>\n",
       "      <th>4531</th>\n",
       "      <td>2021-05-31</td>\n",
       "      <td>1.475267e+08</td>\n",
       "      <td>1.475267e+08</td>\n",
       "      <td>1.726376e+08</td>\n",
       "      <td>-0.017470</td>\n",
       "      <td>1.497694e-01</td>\n",
       "    </tr>\n",
       "    <tr>\n",
       "      <th>4532</th>\n",
       "      <td>2021-06-01</td>\n",
       "      <td>1.485729e+08</td>\n",
       "      <td>1.485729e+08</td>\n",
       "      <td>1.736839e+08</td>\n",
       "      <td>-0.001618</td>\n",
       "      <td>1.671223e-01</td>\n",
       "    </tr>\n",
       "    <tr>\n",
       "      <th>4533</th>\n",
       "      <td>2021-06-02</td>\n",
       "      <td>1.736839e+08</td>\n",
       "      <td>1.475267e+08</td>\n",
       "      <td>1.736839e+08</td>\n",
       "      <td>-0.004280</td>\n",
       "      <td>1.722656e-01</td>\n",
       "    </tr>\n",
       "    <tr>\n",
       "      <th>4534</th>\n",
       "      <td>2021-06-03</td>\n",
       "      <td>1.538044e+08</td>\n",
       "      <td>1.297398e+08</td>\n",
       "      <td>1.538044e+08</td>\n",
       "      <td>-0.142347</td>\n",
       "      <td>1.673334e-02</td>\n",
       "    </tr>\n",
       "    <tr>\n",
       "      <th>4535</th>\n",
       "      <td>2021-06-04</td>\n",
       "      <td>1.370638e+08</td>\n",
       "      <td>1.370638e+08</td>\n",
       "      <td>1.611284e+08</td>\n",
       "      <td>-0.100836</td>\n",
       "      <td>5.703218e-02</td>\n",
       "    </tr>\n",
       "    <tr>\n",
       "      <th>4536</th>\n",
       "      <td>2021-06-05</td>\n",
       "      <td>1.370638e+08</td>\n",
       "      <td>1.370638e+08</td>\n",
       "      <td>1.611284e+08</td>\n",
       "      <td>-0.091385</td>\n",
       "      <td>6.814289e-02</td>\n",
       "    </tr>\n",
       "    <tr>\n",
       "      <th>4537</th>\n",
       "      <td>2021-06-06</td>\n",
       "      <td>1.569433e+08</td>\n",
       "      <td>1.318323e+08</td>\n",
       "      <td>1.569433e+08</td>\n",
       "      <td>-0.119927</td>\n",
       "      <td>4.770554e-02</td>\n",
       "    </tr>\n",
       "    <tr>\n",
       "      <th>4538</th>\n",
       "      <td>2021-06-07</td>\n",
       "      <td>1.391564e+08</td>\n",
       "      <td>1.391564e+08</td>\n",
       "      <td>1.632210e+08</td>\n",
       "      <td>-0.076389</td>\n",
       "      <td>8.333333e-02</td>\n",
       "    </tr>\n",
       "    <tr>\n",
       "      <th>4539</th>\n",
       "      <td>2021-06-08</td>\n",
       "      <td>1.558970e+08</td>\n",
       "      <td>1.318323e+08</td>\n",
       "      <td>1.558970e+08</td>\n",
       "      <td>-0.118000</td>\n",
       "      <td>4.300000e-02</td>\n",
       "    </tr>\n",
       "    <tr>\n",
       "      <th>4540</th>\n",
       "      <td>2021-06-09</td>\n",
       "      <td>1.318323e+08</td>\n",
       "      <td>1.318323e+08</td>\n",
       "      <td>1.548507e+08</td>\n",
       "      <td>-0.124131</td>\n",
       "      <td>2.879841e-02</td>\n",
       "    </tr>\n",
       "    <tr>\n",
       "      <th>4541</th>\n",
       "      <td>2021-06-10</td>\n",
       "      <td>1.234620e+08</td>\n",
       "      <td>1.234620e+08</td>\n",
       "      <td>1.464804e+08</td>\n",
       "      <td>-0.145812</td>\n",
       "      <td>1.344364e-02</td>\n",
       "    </tr>\n",
       "    <tr>\n",
       "      <th>4542</th>\n",
       "      <td>2021-06-11</td>\n",
       "      <td>1.098603e+08</td>\n",
       "      <td>1.098603e+08</td>\n",
       "      <td>1.318323e+08</td>\n",
       "      <td>-0.216418</td>\n",
       "      <td>-5.970149e-02</td>\n",
       "    </tr>\n",
       "  </tbody>\n",
       "</table>\n",
       "</div>"
      ],
      "text/plain": [
       "            date      HashRate  HashRateLower1Side  HashRateUpper1Side  \\\n",
       "4493  2021-04-23  1.582560e+08        1.324661e+08        1.582560e+08   \n",
       "4494  2021-04-24  1.699787e+08        1.430165e+08        1.699787e+08   \n",
       "4495  2021-04-25  1.652896e+08        1.383275e+08        1.652896e+08   \n",
       "4496  2021-04-26  1.336384e+08        1.336384e+08        1.582560e+08   \n",
       "4497  2021-04-27  1.664619e+08        1.394997e+08        1.664619e+08   \n",
       "4498  2021-04-28  1.664619e+08        1.394997e+08        1.664619e+08   \n",
       "4499  2021-04-29  1.430165e+08        1.430165e+08        1.688064e+08   \n",
       "4500  2021-04-30  1.699787e+08        1.430165e+08        1.699787e+08   \n",
       "4501  2021-05-01  1.582156e+08        1.582156e+08        1.855334e+08   \n",
       "4502  2021-05-02  1.895272e+08        1.628909e+08        1.895272e+08   \n",
       "4503  2021-05-03  1.813314e+08        1.546952e+08        1.813314e+08   \n",
       "4504  2021-05-04  1.854293e+08        1.587930e+08        1.854293e+08   \n",
       "4505  2021-05-05  1.608420e+08        1.608420e+08        1.864538e+08   \n",
       "4506  2021-05-06  1.741601e+08        1.485483e+08        1.741601e+08   \n",
       "4507  2021-05-07  1.762091e+08        1.505973e+08        1.762091e+08   \n",
       "4508  2021-05-08  1.751846e+08        1.495728e+08        1.751846e+08   \n",
       "4509  2021-05-09  1.905517e+08        1.639154e+08        1.905517e+08   \n",
       "4510  2021-05-10  1.844048e+08        1.577686e+08        1.844048e+08   \n",
       "4511  2021-05-11  1.762091e+08        1.762091e+08        2.028453e+08   \n",
       "4512  2021-05-12  1.762091e+08        1.762091e+08        2.028453e+08   \n",
       "4513  2021-05-13  1.869995e+08        1.591238e+08        1.869995e+08   \n",
       "4514  2021-05-14  1.668391e+08        1.668391e+08        1.954756e+08   \n",
       "4515  2021-05-15  1.531433e+08        1.531433e+08        1.805348e+08   \n",
       "4516  2021-05-16  1.643489e+08        1.643489e+08        1.929855e+08   \n",
       "4517  2021-05-17  1.506532e+08        1.506532e+08        1.780447e+08   \n",
       "4518  2021-05-18  1.245068e+08        1.245068e+08        1.494081e+08   \n",
       "4519  2021-05-19  1.556335e+08        1.556335e+08        1.830249e+08   \n",
       "4520  2021-05-20  1.394476e+08        1.394476e+08        1.655940e+08   \n",
       "4521  2021-05-21  1.369574e+08        1.369574e+08        1.631039e+08   \n",
       "4522  2021-05-22  1.444278e+08        1.444278e+08        1.718193e+08   \n",
       "4523  2021-05-23  1.481631e+08        1.220166e+08        1.481631e+08   \n",
       "4524  2021-05-24  1.568785e+08        1.294870e+08        1.568785e+08   \n",
       "4525  2021-05-25  1.531433e+08        1.269969e+08        1.531433e+08   \n",
       "4526  2021-05-26  1.518983e+08        1.257518e+08        1.518983e+08   \n",
       "4527  2021-05-27  1.456729e+08        1.456729e+08        1.730644e+08   \n",
       "4528  2021-05-28  1.481631e+08        1.220166e+08        1.481631e+08   \n",
       "4529  2021-05-29  1.444278e+08        1.444278e+08        1.718193e+08   \n",
       "4530  2021-05-30  1.508643e+08        1.267679e+08        1.508643e+08   \n",
       "4531  2021-05-31  1.475267e+08        1.475267e+08        1.726376e+08   \n",
       "4532  2021-06-01  1.485729e+08        1.485729e+08        1.736839e+08   \n",
       "4533  2021-06-02  1.736839e+08        1.475267e+08        1.736839e+08   \n",
       "4534  2021-06-03  1.538044e+08        1.297398e+08        1.538044e+08   \n",
       "4535  2021-06-04  1.370638e+08        1.370638e+08        1.611284e+08   \n",
       "4536  2021-06-05  1.370638e+08        1.370638e+08        1.611284e+08   \n",
       "4537  2021-06-06  1.569433e+08        1.318323e+08        1.569433e+08   \n",
       "4538  2021-06-07  1.391564e+08        1.391564e+08        1.632210e+08   \n",
       "4539  2021-06-08  1.558970e+08        1.318323e+08        1.558970e+08   \n",
       "4540  2021-06-09  1.318323e+08        1.318323e+08        1.548507e+08   \n",
       "4541  2021-06-10  1.234620e+08        1.234620e+08        1.464804e+08   \n",
       "4542  2021-06-11  1.098603e+08        1.098603e+08        1.318323e+08   \n",
       "\n",
       "      HashRateLower1SideDelta  HashRateUpper1SideDelta  \n",
       "4493                 0.005083             2.007624e-01  \n",
       "4494                 0.042735             2.393162e-01  \n",
       "4495                -0.053837             1.305842e-01  \n",
       "4496                -0.103371             6.179775e-02  \n",
       "4497                -0.081588             9.592061e-02  \n",
       "4498                -0.095548             7.926167e-02  \n",
       "4499                -0.112266             4.781705e-02  \n",
       "4500                -0.092455             7.863974e-02  \n",
       "4501                -0.006563             1.649660e-01  \n",
       "4502                 0.033701             2.027335e-01  \n",
       "4503                -0.039416             1.259822e-01  \n",
       "4504                -0.053993             1.046916e-01  \n",
       "4505                -0.057009             9.314866e-02  \n",
       "4506                -0.124966             2.590177e-02  \n",
       "4507                -0.135552             1.146314e-02  \n",
       "4508                -0.145797             4.711005e-04  \n",
       "4509                -0.076669             7.337181e-02  \n",
       "4510                -0.112026             3.789127e-02  \n",
       "4511                -0.010682             1.388661e-01  \n",
       "4512                -0.003311             1.473510e-01  \n",
       "4513                -0.110989             4.474974e-02  \n",
       "4514                -0.077340             8.102717e-02  \n",
       "4515                -0.146764             5.846787e-03  \n",
       "4516                -0.067982             9.441510e-02  \n",
       "4517                -0.127121             3.158450e-02  \n",
       "4518                -0.257880            -1.094560e-01  \n",
       "4519                -0.029630             1.411551e-01  \n",
       "4520                -0.114317             5.174892e-02  \n",
       "4521                -0.090909             8.264463e-02  \n",
       "4522                -0.013366             1.737546e-01  \n",
       "4523                -0.159314             2.083333e-02  \n",
       "4524                -0.093400             9.838107e-02  \n",
       "4525                -0.116337             6.559406e-02  \n",
       "4526                -0.149218             2.767749e-02  \n",
       "4527                -0.010870             1.751208e-01  \n",
       "4528                -0.176471             2.886580e-15  \n",
       "4529                -0.035629             1.472684e-01  \n",
       "4530                -0.153548             7.347911e-03  \n",
       "4531                -0.017470             1.497694e-01  \n",
       "4532                -0.001618             1.671223e-01  \n",
       "4533                -0.004280             1.722656e-01  \n",
       "4534                -0.142347             1.673334e-02  \n",
       "4535                -0.100836             5.703218e-02  \n",
       "4536                -0.091385             6.814289e-02  \n",
       "4537                -0.119927             4.770554e-02  \n",
       "4538                -0.076389             8.333333e-02  \n",
       "4539                -0.118000             4.300000e-02  \n",
       "4540                -0.124131             2.879841e-02  \n",
       "4541                -0.145812             1.344364e-02  \n",
       "4542                -0.216418            -5.970149e-02  "
      ]
     },
     "execution_count": 32,
     "metadata": {},
     "output_type": "execute_result"
    }
   ],
   "source": [
    "# data\n",
    "# data.style.format({\n",
    "#     'HashRateLower1SideDelta': '{:,.2f}',\n",
    "#     'HashRateUpper1SideDelta': '{:,.2f}',\n",
    "# })\n",
    "data[\n",
    "    ['date', 'HashRate', 'HashRateLower1Side', 'HashRateUpper1Side', \n",
    "     'HashRateLower1SideDelta', 'HashRateUpper1SideDelta']][-50:]"
   ]
  },
  {
   "cell_type": "code",
   "execution_count": 33,
   "metadata": {},
   "outputs": [
    {
     "data": {
      "application/vnd.plotly.v1+json": {
       "config": {
        "plotlyServerURL": "https://plot.ly"
       },
       "data": [
        {
         "line": {
          "color": "darkorange"
         },
         "mode": "lines",
         "name": "Hash Rate (Day)",
         "type": "scatter",
         "x": [
          "2021-01-01",
          "2021-01-02",
          "2021-01-03",
          "2021-01-04",
          "2021-01-05",
          "2021-01-06",
          "2021-01-07",
          "2021-01-08",
          "2021-01-09",
          "2021-01-10",
          "2021-01-11",
          "2021-01-12",
          "2021-01-13",
          "2021-01-14",
          "2021-01-15",
          "2021-01-16",
          "2021-01-17",
          "2021-01-18",
          "2021-01-19",
          "2021-01-20",
          "2021-01-21",
          "2021-01-22",
          "2021-01-23",
          "2021-01-24",
          "2021-01-25",
          "2021-01-26",
          "2021-01-27",
          "2021-01-28",
          "2021-01-29",
          "2021-01-30",
          "2021-01-31",
          "2021-02-01",
          "2021-02-02",
          "2021-02-03",
          "2021-02-04",
          "2021-02-05",
          "2021-02-06",
          "2021-02-07",
          "2021-02-08",
          "2021-02-09",
          "2021-02-10",
          "2021-02-11",
          "2021-02-12",
          "2021-02-13",
          "2021-02-14",
          "2021-02-15",
          "2021-02-16",
          "2021-02-17",
          "2021-02-18",
          "2021-02-19",
          "2021-02-20",
          "2021-02-21",
          "2021-02-22",
          "2021-02-23",
          "2021-02-24",
          "2021-02-25",
          "2021-02-26",
          "2021-02-27",
          "2021-02-28",
          "2021-03-01",
          "2021-03-02",
          "2021-03-03",
          "2021-03-04",
          "2021-03-05",
          "2021-03-06",
          "2021-03-07",
          "2021-03-08",
          "2021-03-09",
          "2021-03-10",
          "2021-03-11",
          "2021-03-12",
          "2021-03-13",
          "2021-03-14",
          "2021-03-15",
          "2021-03-16",
          "2021-03-17",
          "2021-03-18",
          "2021-03-19",
          "2021-03-20",
          "2021-03-21",
          "2021-03-22",
          "2021-03-23",
          "2021-03-24",
          "2021-03-25",
          "2021-03-26",
          "2021-03-27",
          "2021-03-28",
          "2021-03-29",
          "2021-03-30",
          "2021-03-31",
          "2021-04-01",
          "2021-04-02",
          "2021-04-03",
          "2021-04-04",
          "2021-04-05",
          "2021-04-06",
          "2021-04-07",
          "2021-04-08",
          "2021-04-09",
          "2021-04-10",
          "2021-04-11",
          "2021-04-12",
          "2021-04-13",
          "2021-04-14",
          "2021-04-15",
          "2021-04-16",
          "2021-04-17",
          "2021-04-18",
          "2021-04-19",
          "2021-04-20",
          "2021-04-21",
          "2021-04-22",
          "2021-04-23",
          "2021-04-24",
          "2021-04-25",
          "2021-04-26",
          "2021-04-27",
          "2021-04-28",
          "2021-04-29",
          "2021-04-30",
          "2021-05-01",
          "2021-05-02",
          "2021-05-03",
          "2021-05-04",
          "2021-05-05",
          "2021-05-06",
          "2021-05-07",
          "2021-05-08",
          "2021-05-09",
          "2021-05-10",
          "2021-05-11",
          "2021-05-12",
          "2021-05-13",
          "2021-05-14",
          "2021-05-15",
          "2021-05-16",
          "2021-05-17",
          "2021-05-18",
          "2021-05-19",
          "2021-05-20",
          "2021-05-21",
          "2021-05-22",
          "2021-05-23",
          "2021-05-24",
          "2021-05-25",
          "2021-05-26",
          "2021-05-27",
          "2021-05-28",
          "2021-05-29",
          "2021-05-30",
          "2021-05-31",
          "2021-06-01",
          "2021-06-02",
          "2021-06-03",
          "2021-06-04",
          "2021-06-05",
          "2021-06-06",
          "2021-06-07",
          "2021-06-08",
          "2021-06-09",
          "2021-06-10",
          "2021-06-11"
         ],
         "y": [
          137764026.7335514,
          139613208.60028526,
          146085344.09831175,
          159954206.02773148,
          145160753.60874835,
          163652569.02152643,
          155331252.39643875,
          136839436.24398822,
          134307072.19635198,
          162879650.92477036,
          157757649.32336253,
          151611247.72948113,
          155708849.33841556,
          150586847.08139154,
          158782049.80754817,
          150586846.5896793,
          136245242.43354538,
          148538046.4408284,
          152635647.72195467,
          144440445.15970212,
          132147640.82461096,
          144440445.15970212,
          160859266.69140872,
          143884925.71895775,
          144920068.404579,
          166658079.04619855,
          146990355.43205088,
          150095785.47638997,
          157341788.91318125,
          140779494.68088108,
          149060642.12827694,
          123182058.42545108,
          158376932.26129428,
          155271502.21695518,
          165622935.53246272,
          174939225.66548002,
          169173097.28623733,
          166219497.49211165,
          172612555.61907768,
          152367873.85185274,
          152367873.85185274,
          137450738.2222654,
          151302363.3968582,
          167285007.9471062,
          157695421.52382413,
          161957460.27513483,
          128926662.25397786,
          147040324.6455475,
          145974815.72488675,
          163253417.2080339,
          157667240.26214835,
          152267677.5909614,
          143628376.07300296,
          137148899.93453413,
          171706104.45129374,
          168466365.60452223,
          150107852.21147177,
          169546279.07180414,
          141468550.69351333,
          140388638.78130564,
          154427502.97045097,
          164146716.40061715,
          138228813.401816,
          160906977.5538457,
          162185767.0079194,
          155665152.0772381,
          165260949.11257938,
          149267953.54190147,
          158863750.57724273,
          140738357.0301135,
          159929951.10079587,
          152466553.57723358,
          167393348.62435818,
          157797551.589017,
          158863750.57724273,
          145003154.51834372,
          162062350.61257476,
          158461331.28345826,
          167389188.34834236,
          169563074.09425306,
          164128360.5120752,
          174997789.24162847,
          165215304.16762936,
          167389188.34834236,
          147824218.2003441,
          172823903.49571785,
          172823903.49571785,
          164128360.5120752,
          158693646.9298973,
          170650017.74980715,
          157606703.27434322,
          160833893.90764645,
          150672055.3630555,
          167924581.38053048,
          179426264.28801885,
          165624244.46778432,
          180576433.57251322,
          154122561.56029588,
          174825592.11876905,
          180576433.57251322,
          166774412.0960362,
          165624244.46778432,
          163323907.55503815,
          155272729.1885478,
          198624496.42859578,
          120743465.93956694,
          106676264.94260551,
          145361065.15215343,
          113709865.44108625,
          150050132.1511406,
          118398932.44007339,
          167634132.55331042,
          158255998.55533603,
          169978664.36474,
          165289599.0538168,
          133638399.3427496,
          166461864.95953158,
          166461864.95953158,
          143016531.65265983,
          169978664.36474,
          158215613.46069756,
          189527186.1724504,
          181331416.76498827,
          185429300.73110002,
          160841991.0334749,
          174160117.98024434,
          176209059.2256809,
          175184588.60296264,
          190551658.2704073,
          184404830.10838172,
          176209059.2256809,
          176209059.2256809,
          186999513.86234713,
          166839066.08152363,
          153143321.7171525,
          164348930.5795564,
          150653186.21518525,
          124506764.34097786,
          155633457.21911973,
          139447577.35278136,
          136957441.85081413,
          144427848.3567158,
          148163050.71321806,
          156878524.07365465,
          153143321.7171525,
          151898253.06972018,
          145672915.21125072,
          148163050.71321806,
          144427848.3567158,
          150864303.39569443,
          147526659.5228379,
          148572947.21506175,
          173683868.40164095,
          153804388.68949127,
          137063775.06732354,
          137063775.06732354,
          156943254.7794732,
          139156351.95842642,
          155896965.5805942,
          131832333.59289402,
          123462026.02848256,
          109860278.4962968
         ]
        },
        {
         "line": {
          "color": "yellow"
         },
         "mode": "lines",
         "name": "Hash Rate (7DMA)",
         "type": "scatter",
         "x": [
          "2021-01-01",
          "2021-01-02",
          "2021-01-03",
          "2021-01-04",
          "2021-01-05",
          "2021-01-06",
          "2021-01-07",
          "2021-01-08",
          "2021-01-09",
          "2021-01-10",
          "2021-01-11",
          "2021-01-12",
          "2021-01-13",
          "2021-01-14",
          "2021-01-15",
          "2021-01-16",
          "2021-01-17",
          "2021-01-18",
          "2021-01-19",
          "2021-01-20",
          "2021-01-21",
          "2021-01-22",
          "2021-01-23",
          "2021-01-24",
          "2021-01-25",
          "2021-01-26",
          "2021-01-27",
          "2021-01-28",
          "2021-01-29",
          "2021-01-30",
          "2021-01-31",
          "2021-02-01",
          "2021-02-02",
          "2021-02-03",
          "2021-02-04",
          "2021-02-05",
          "2021-02-06",
          "2021-02-07",
          "2021-02-08",
          "2021-02-09",
          "2021-02-10",
          "2021-02-11",
          "2021-02-12",
          "2021-02-13",
          "2021-02-14",
          "2021-02-15",
          "2021-02-16",
          "2021-02-17",
          "2021-02-18",
          "2021-02-19",
          "2021-02-20",
          "2021-02-21",
          "2021-02-22",
          "2021-02-23",
          "2021-02-24",
          "2021-02-25",
          "2021-02-26",
          "2021-02-27",
          "2021-02-28",
          "2021-03-01",
          "2021-03-02",
          "2021-03-03",
          "2021-03-04",
          "2021-03-05",
          "2021-03-06",
          "2021-03-07",
          "2021-03-08",
          "2021-03-09",
          "2021-03-10",
          "2021-03-11",
          "2021-03-12",
          "2021-03-13",
          "2021-03-14",
          "2021-03-15",
          "2021-03-16",
          "2021-03-17",
          "2021-03-18",
          "2021-03-19",
          "2021-03-20",
          "2021-03-21",
          "2021-03-22",
          "2021-03-23",
          "2021-03-24",
          "2021-03-25",
          "2021-03-26",
          "2021-03-27",
          "2021-03-28",
          "2021-03-29",
          "2021-03-30",
          "2021-03-31",
          "2021-04-01",
          "2021-04-02",
          "2021-04-03",
          "2021-04-04",
          "2021-04-05",
          "2021-04-06",
          "2021-04-07",
          "2021-04-08",
          "2021-04-09",
          "2021-04-10",
          "2021-04-11",
          "2021-04-12",
          "2021-04-13",
          "2021-04-14",
          "2021-04-15",
          "2021-04-16",
          "2021-04-17",
          "2021-04-18",
          "2021-04-19",
          "2021-04-20",
          "2021-04-21",
          "2021-04-22",
          "2021-04-23",
          "2021-04-24",
          "2021-04-25",
          "2021-04-26",
          "2021-04-27",
          "2021-04-28",
          "2021-04-29",
          "2021-04-30",
          "2021-05-01",
          "2021-05-02",
          "2021-05-03",
          "2021-05-04",
          "2021-05-05",
          "2021-05-06",
          "2021-05-07",
          "2021-05-08",
          "2021-05-09",
          "2021-05-10",
          "2021-05-11",
          "2021-05-12",
          "2021-05-13",
          "2021-05-14",
          "2021-05-15",
          "2021-05-16",
          "2021-05-17",
          "2021-05-18",
          "2021-05-19",
          "2021-05-20",
          "2021-05-21",
          "2021-05-22",
          "2021-05-23",
          "2021-05-24",
          "2021-05-25",
          "2021-05-26",
          "2021-05-27",
          "2021-05-28",
          "2021-05-29",
          "2021-05-30",
          "2021-05-31",
          "2021-06-01",
          "2021-06-02",
          "2021-06-03",
          "2021-06-04",
          "2021-06-05",
          "2021-06-06",
          "2021-06-07",
          "2021-06-08",
          "2021-06-09",
          "2021-06-10",
          "2021-06-11"
         ],
         "y": [
          142732071.00325897,
          143320321.63921073,
          145100840.226336,
          146349512.8941493,
          148066610.08822858,
          148727032.1200901,
          149387454.10968465,
          149651622.92665598,
          149519538.5710041,
          148761519.0847279,
          151160705.774222,
          150846911.95931214,
          151768411.11941683,
          150633594.02182955,
          149955821.83396566,
          153090480.91447422,
          155416162.97066382,
          151611247.4719174,
          150294161.34584108,
          150440504.2019087,
          148830732.17637822,
          146196559.853981,
          144147759.19000298,
          145615247.77596432,
          146706631.1024518,
          146189777.0972733,
          148192981.57216528,
          148557254.46821508,
          151121275.13275495,
          152964324.24039483,
          150095785.38174802,
          150835173.44022217,
          147729743.4432039,
          146546722.47393185,
          147729743.4432039,
          149947907.73692858,
          152461827.27297124,
          156518056.21659356,
          158969321.26856995,
          166030820.86765948,
          165172383.95202494,
          164757579.89986745,
          160732980.284125,
          157356285.67432186,
          157086558.62587455,
          155868833.48754779,
          154346677.00984165,
          150997932.4958595,
          150236854.0378159,
          151454579.39533323,
          153161872.79692978,
          151787905.98479292,
          151012513.99438396,
          148394073.39407942,
          149568678.777016,
          153092361.60640833,
          156305440.16064197,
          154427502.30399027,
          156124507.8482268,
          154581775.43430564,
          154118955.821206,
          156587327.68347982,
          155507415.10481173,
          151187764.7901394,
          152730496.9819071,
          151678995.25849497,
          153707081.17045566,
          157260268.36063763,
          156523189.87084484,
          155768480.46750566,
          156126986.70011955,
          155987411.49254102,
          154598952.43101448,
          156274409.08060306,
          155208209.43437985,
          156579037.58228573,
          154598952.43101448,
          157645237.22850895,
          157435434.39746073,
          159567239.364762,
          159877200.14617556,
          160781601.42089817,
          163086464.087239,
          165973914.03713694,
          166734890.8565323,
          165215303.27323028,
          165991691.15142676,
          166457523.92306456,
          166457523.92306456,
          164128360.7356744,
          164904748.39027125,
          163507250.52255708,
          165365775.62360027,
          162201225.8903628,
          161501322.7310503,
          163686737.55618516,
          164676822.91874045,
          166094882.3219842,
          165597147.79140598,
          167595961.82156634,
          171868015.8514889,
          171703705.95370403,
          169731988.83652765,
          169403369.2775639,
          165788554.36556885,
          172145973.63246885,
          164419955.60686854,
          153862788.65973887,
          150803739.09632707,
          143387399.23537022,
          141491145.60624197,
          136223460.35645992,
          131796265.51713344,
          137155198.7479576,
          146198398.66540536,
          149045332.0799287,
          151892265.49445203,
          154236798.75279358,
          161102931.96985903,
          157586131.84119466,
          159260798.38539526,
          157580362.54196066,
          161042874.98747972,
          167856163.19065666,
          170565796.8723093,
          169762957.7400155,
          174212041.50109902,
          175102097.90980482,
          177526237.2158427,
          177672590.3726937,
          178111649.4217499,
          176794472.06383285,
          178989767.51986226,
          180823966.93159124,
          179485396.48242593,
          176336644.07016733,
          172593397.25718865,
          167771733.84387487,
          160385691.71748874,
          157446320.00226572,
          150653186.2151849,
          146384382.75365496,
          145139315.13073543,
          142827046.57840136,
          143716380.5581827,
          147807317.32620764,
          147273716.7334363,
          148163050.71321765,
          149763851.97927532,
          149763851.97927535,
          150149745.2196291,
          148813764.56951243,
          148160853.9263566,
          151273084.6880596,
          152434723.75637966,
          150849112.9498233,
          149797102.4799101,
          150665524.10616422,
          149469765.88267687,
          150516054.22061008,
          144537263.53364626,
          140202640.29635927
         ]
        },
        {
         "line": {
          "width": 0
         },
         "marker": {
          "color": "#444"
         },
         "mode": "lines",
         "name": "Upper Bound",
         "showlegend": false,
         "type": "scatter",
         "x": [
          "2021-01-01",
          "2021-01-02",
          "2021-01-03",
          "2021-01-04",
          "2021-01-05",
          "2021-01-06",
          "2021-01-07",
          "2021-01-08",
          "2021-01-09",
          "2021-01-10",
          "2021-01-11",
          "2021-01-12",
          "2021-01-13",
          "2021-01-14",
          "2021-01-15",
          "2021-01-16",
          "2021-01-17",
          "2021-01-18",
          "2021-01-19",
          "2021-01-20",
          "2021-01-21",
          "2021-01-22",
          "2021-01-23",
          "2021-01-24",
          "2021-01-25",
          "2021-01-26",
          "2021-01-27",
          "2021-01-28",
          "2021-01-29",
          "2021-01-30",
          "2021-01-31",
          "2021-02-01",
          "2021-02-02",
          "2021-02-03",
          "2021-02-04",
          "2021-02-05",
          "2021-02-06",
          "2021-02-07",
          "2021-02-08",
          "2021-02-09",
          "2021-02-10",
          "2021-02-11",
          "2021-02-12",
          "2021-02-13",
          "2021-02-14",
          "2021-02-15",
          "2021-02-16",
          "2021-02-17",
          "2021-02-18",
          "2021-02-19",
          "2021-02-20",
          "2021-02-21",
          "2021-02-22",
          "2021-02-23",
          "2021-02-24",
          "2021-02-25",
          "2021-02-26",
          "2021-02-27",
          "2021-02-28",
          "2021-03-01",
          "2021-03-02",
          "2021-03-03",
          "2021-03-04",
          "2021-03-05",
          "2021-03-06",
          "2021-03-07",
          "2021-03-08",
          "2021-03-09",
          "2021-03-10",
          "2021-03-11",
          "2021-03-12",
          "2021-03-13",
          "2021-03-14",
          "2021-03-15",
          "2021-03-16",
          "2021-03-17",
          "2021-03-18",
          "2021-03-19",
          "2021-03-20",
          "2021-03-21",
          "2021-03-22",
          "2021-03-23",
          "2021-03-24",
          "2021-03-25",
          "2021-03-26",
          "2021-03-27",
          "2021-03-28",
          "2021-03-29",
          "2021-03-30",
          "2021-03-31",
          "2021-04-01",
          "2021-04-02",
          "2021-04-03",
          "2021-04-04",
          "2021-04-05",
          "2021-04-06",
          "2021-04-07",
          "2021-04-08",
          "2021-04-09",
          "2021-04-10",
          "2021-04-11",
          "2021-04-12",
          "2021-04-13",
          "2021-04-14",
          "2021-04-15",
          "2021-04-16",
          "2021-04-17",
          "2021-04-18",
          "2021-04-19",
          "2021-04-20",
          "2021-04-21",
          "2021-04-22",
          "2021-04-23",
          "2021-04-24",
          "2021-04-25",
          "2021-04-26",
          "2021-04-27",
          "2021-04-28",
          "2021-04-29",
          "2021-04-30",
          "2021-05-01",
          "2021-05-02",
          "2021-05-03",
          "2021-05-04",
          "2021-05-05",
          "2021-05-06",
          "2021-05-07",
          "2021-05-08",
          "2021-05-09",
          "2021-05-10",
          "2021-05-11",
          "2021-05-12",
          "2021-05-13",
          "2021-05-14",
          "2021-05-15",
          "2021-05-16",
          "2021-05-17",
          "2021-05-18",
          "2021-05-19",
          "2021-05-20",
          "2021-05-21",
          "2021-05-22",
          "2021-05-23",
          "2021-05-24",
          "2021-05-25",
          "2021-05-26",
          "2021-05-27",
          "2021-05-28",
          "2021-05-29",
          "2021-05-30",
          "2021-05-31",
          "2021-06-01",
          "2021-06-02",
          "2021-06-03",
          "2021-06-04",
          "2021-06-05",
          "2021-06-06",
          "2021-06-07",
          "2021-06-08",
          "2021-06-09",
          "2021-06-10",
          "2021-06-11"
         ],
         "y": [
          163652569.0215264,
          165501750.59239107,
          172898476.87584993,
          187691929.44276756,
          171973886.09041756,
          191390292.58449695,
          183068975.51560578,
          162727978.23609403,
          160395496.29204616,
          192587260.21293604,
          186440858.2912466,
          180294456.36955714,
          184392057.65068343,
          179270056.04927555,
          188489658.93180972,
          179270056.04927555,
          163904051.24505195,
          177221255.4087124,
          181318856.6898387,
          172099253.80730453,
          158782049.64364403,
          172099253.80730453,
          190762591.9096835,
          171833795.78676382,
          172868939.13487688,
          196677236.1414767,
          174939225.83110294,
          179079799.2235551,
          186325802.66034633,
          168728365.74242473,
          178044655.87544203,
          149060642.12827706,
          187360946.00845936,
          184255515.96412027,
          195642092.79336366,
          205993526.274494,
          200028567.25659692,
          197119276.4785764,
          203512334.09409773,
          181136632.4397729,
          181136632.4397729,
          165153988.4009694,
          180071122.83718598,
          198184786.0811633,
          187529690.05529428,
          191791728.46564186,
          155564401.97768727,
          175809084.42683837,
          174743574.82425147,
          193129859.57290292,
          187904792.9832126,
          181425317.36310184,
          172786016.53628746,
          165226628.31282488,
          203023569.43013778,
          199783831.6200824,
          179265492.15639824,
          200863744.2234342,
          169546278.72623205,
          168466366.12288028,
          183585142.56980544,
          194384268.6033234,
          166306540.91617668,
          191144530.79326802,
          192062091.70069572,
          185518742.68326327,
          196180739.38919792,
          178055344.98910904,
          188717341.69504368,
          168459547.9537678,
          189783541.36563715,
          181253944.00088942,
          198313138.7303849,
          187651142.0244502,
          188717341.69504368,
          173790546.30673513,
          191915940.7068241,
          188440501.6593764,
          197823587.05198324,
          201084415.40998298,
          194562758.69398353,
          206519129.33998248,
          195649701.47998342,
          197823587.05198324,
          177171674.11798495,
          204345243.7679827,
          204345243.7679827,
          194562758.69398353,
          189128044.76398396,
          202171358.19598284,
          188041101.97798404,
          191851859.59978256,
          180576433.20445925,
          200129295.39857268,
          212781147.40652847,
          197828958.66985348,
          213931315.7708881,
          185177106.66189775,
          207030305.5847304,
          213931315.7708881,
          198979127.03421307,
          197828958.66985348,
          194378453.57677463,
          186327275.02625737,
          233268304.8131864,
          147705598.651647,
          132466132.12409611,
          175839998.39481786,
          140671998.7158543,
          180529065.01867968,
          145361065.3397161,
          199285331.5141269,
          189907198.2664033,
          202802131.48202324,
          196940798.20219603,
          162945065.1791979,
          198113064.85816148,
          198113064.85816148,
          172323198.4269215,
          202802131.48202324,
          188948142.2590819,
          221285796.1300581,
          212065554.624639,
          217187911.0165385,
          190551657.77866116,
          204894255.6759797,
          206943198.2327395,
          205918726.95435962,
          222310267.408438,
          216163439.73815858,
          206943198.2327395,
          206943198.2327395,
          220682655.2335966,
          200455891.87189206,
          185515080.05535352,
          196720688.91775742,
          181779877.10121888,
          153143321.11952004,
          188005215.35810995,
          169329200.58743677,
          166839065.28468034,
          175554538.8443278,
          179289741.79846245,
          189250283.00948814,
          185515080.05535352,
          183024944.75259706,
          176799606.49570602,
          179289741.79846245,
          175554538.8443278,
          180199029.05596837,
          175776444.79052538,
          176822733.15237376,
          205072518.92227963,
          183100463.32346392,
          164267272.81019336,
          164267272.81019336,
          186239328.40900904,
          167406137.89573845,
          185193040.04716069,
          159035831.00095156,
          149619235.74431625,
          134971198.67843914
         ]
        },
        {
         "fill": "tonexty",
         "fillcolor": "rgba(190, 190, 190, 0.3)",
         "line": {
          "width": 0
         },
         "marker": {
          "color": "#444"
         },
         "mode": "lines",
         "name": "Lower Bound",
         "showlegend": false,
         "type": "scatter",
         "x": [
          "2021-01-01",
          "2021-01-02",
          "2021-01-03",
          "2021-01-04",
          "2021-01-05",
          "2021-01-06",
          "2021-01-07",
          "2021-01-08",
          "2021-01-09",
          "2021-01-10",
          "2021-01-11",
          "2021-01-12",
          "2021-01-13",
          "2021-01-14",
          "2021-01-15",
          "2021-01-16",
          "2021-01-17",
          "2021-01-18",
          "2021-01-19",
          "2021-01-20",
          "2021-01-21",
          "2021-01-22",
          "2021-01-23",
          "2021-01-24",
          "2021-01-25",
          "2021-01-26",
          "2021-01-27",
          "2021-01-28",
          "2021-01-29",
          "2021-01-30",
          "2021-01-31",
          "2021-02-01",
          "2021-02-02",
          "2021-02-03",
          "2021-02-04",
          "2021-02-05",
          "2021-02-06",
          "2021-02-07",
          "2021-02-08",
          "2021-02-09",
          "2021-02-10",
          "2021-02-11",
          "2021-02-12",
          "2021-02-13",
          "2021-02-14",
          "2021-02-15",
          "2021-02-16",
          "2021-02-17",
          "2021-02-18",
          "2021-02-19",
          "2021-02-20",
          "2021-02-21",
          "2021-02-22",
          "2021-02-23",
          "2021-02-24",
          "2021-02-25",
          "2021-02-26",
          "2021-02-27",
          "2021-02-28",
          "2021-03-01",
          "2021-03-02",
          "2021-03-03",
          "2021-03-04",
          "2021-03-05",
          "2021-03-06",
          "2021-03-07",
          "2021-03-08",
          "2021-03-09",
          "2021-03-10",
          "2021-03-11",
          "2021-03-12",
          "2021-03-13",
          "2021-03-14",
          "2021-03-15",
          "2021-03-16",
          "2021-03-17",
          "2021-03-18",
          "2021-03-19",
          "2021-03-20",
          "2021-03-21",
          "2021-03-22",
          "2021-03-23",
          "2021-03-24",
          "2021-03-25",
          "2021-03-26",
          "2021-03-27",
          "2021-03-28",
          "2021-03-29",
          "2021-03-30",
          "2021-03-31",
          "2021-04-01",
          "2021-04-02",
          "2021-04-03",
          "2021-04-04",
          "2021-04-05",
          "2021-04-06",
          "2021-04-07",
          "2021-04-08",
          "2021-04-09",
          "2021-04-10",
          "2021-04-11",
          "2021-04-12",
          "2021-04-13",
          "2021-04-14",
          "2021-04-15",
          "2021-04-16",
          "2021-04-17",
          "2021-04-18",
          "2021-04-19",
          "2021-04-20",
          "2021-04-21",
          "2021-04-22",
          "2021-04-23",
          "2021-04-24",
          "2021-04-25",
          "2021-04-26",
          "2021-04-27",
          "2021-04-28",
          "2021-04-29",
          "2021-04-30",
          "2021-05-01",
          "2021-05-02",
          "2021-05-03",
          "2021-05-04",
          "2021-05-05",
          "2021-05-06",
          "2021-05-07",
          "2021-05-08",
          "2021-05-09",
          "2021-05-10",
          "2021-05-11",
          "2021-05-12",
          "2021-05-13",
          "2021-05-14",
          "2021-05-15",
          "2021-05-16",
          "2021-05-17",
          "2021-05-18",
          "2021-05-19",
          "2021-05-20",
          "2021-05-21",
          "2021-05-22",
          "2021-05-23",
          "2021-05-24",
          "2021-05-25",
          "2021-05-26",
          "2021-05-27",
          "2021-05-28",
          "2021-05-29",
          "2021-05-30",
          "2021-05-31",
          "2021-06-01",
          "2021-06-02",
          "2021-06-03",
          "2021-06-04",
          "2021-06-05",
          "2021-06-06",
          "2021-06-07",
          "2021-06-08",
          "2021-06-09",
          "2021-06-10",
          "2021-06-11"
         ],
         "y": [
          112800075.82274699,
          114649257.39361171,
          121121392.89163816,
          133141073.10225874,
          120196802.10620582,
          136839436.24398816,
          129442709.96052933,
          111875485.03731464,
          109184886.03012781,
          134196441.95688628,
          130098840.67575999,
          123952438.75407054,
          128050040.03519683,
          123952438.75407054,
          131123240.99604154,
          123952438.75407054,
          110635234.59041007,
          121903638.11350736,
          124976839.0743521,
          117806036.83238108,
          106537633.30928376,
          117806036.83238108,
          133018239.76404957,
          116971198.33677296,
          118006341.68488601,
          137674065.2990337,
          120076628.38111208,
          123182058.42545117,
          129392918.5141294,
          114900911.6405469,
          122146915.07733814,
          98338618.07073835,
          130428061.86224242,
          127322631.81790331,
          136638921.95092064,
          145955212.08393794,
          139381608.03518188,
          137450738.73371,
          142778286.74664453,
          124664623.50266722,
          124664623.50266722,
          110812998.66903752,
          123599113.90008032,
          138516248.33629692,
          128926661.9130148,
          133188700.32336241,
          103354431.45092924,
          119337075.48973271,
          118271565.88714583,
          134443990.6419103,
          129589512.40221561,
          124189949.38545662,
          116630561.16199404,
          110151085.54188326,
          141468551.03908536,
          139308725.83238178,
          122030124.17875302,
          140388638.43573356,
          114470735.95529045,
          113390823.35193864,
          126349774.5921602,
          134989075.41897458,
          111230998.14523506,
          131749337.6089192,
          133376452.56992759,
          127943960.47121607,
          136473557.8359638,
          121546762.44765525,
          130076359.81240298,
          114083364.75350098,
          131142559.48299643,
          124745361.45943566,
          138605957.17715073,
          129010160.14180952,
          130076359.81240298,
          118348163.43587485,
          133274958.82418339,
          129552844.8908213,
          138041733.82198828,
          140215619.39398813,
          134780905.46398857,
          144563390.53798777,
          135867848.2499885,
          138041733.82198828,
          120650649.24598977,
          142389504.96598792,
          142389504.96598792,
          134780905.46398857,
          130433134.31998895,
          141302562.179988,
          129346191.53398904,
          130964742.48128867,
          121917846.62211901,
          138020203.7231536,
          148371719.00239012,
          135719866.99443436,
          149521887.36674973,
          125368351.71519785,
          143771045.54495168,
          149521887.36674973,
          136870035.35879397,
          135719866.99443436,
          133419530.26571515,
          126518520.07955745,
          165135483.11032504,
          94953599.13320164,
          82058665.91758166,
          117226665.59654523,
          89092265.85337438,
          120743465.5644416,
          92609065.82127075,
          137155198.74795792,
          128949332.15619974,
          139499732.05988884,
          134810665.43602705,
          106676265.69285616,
          135982932.0919925,
          135982932.0919925,
          114882132.28461434,
          139499732.05988884,
          128621325.75467625,
          158793048.14888427,
          151621749.200225,
          155719634.31374457,
          133181266.18938681,
          144450450.2515657,
          146499392.8083255,
          145474921.5299456,
          159817519.42726418,
          154695163.0353647,
          146499392.8083255,
          146499392.8083255,
          154477858.66351762,
          135712374.00022507,
          123261697.48644295,
          133222238.69746862,
          120771562.18368652,
          97115276.8075005,
          125751832.78919937,
          110811020.97266082,
          108320885.6699044,
          115791291.57817368,
          118281426.8809301,
          126996900.4405776,
          123261697.48644295,
          122016629.83506474,
          115791291.57817368,
          118281426.8809301,
          115791291.57817368,
          123624915.28258297,
          120323161.61256202,
          121369449.97441038,
          144387793.93507442,
          126600891.78365222,
          110906566.35592674,
          110906566.35592674,
          128693468.50734892,
          112999143.07962346,
          127647180.14550057,
          106721412.90853328,
          98351106.01374635,
          86841934.0334143
         ]
        }
       ],
       "layout": {
        "annotations": [
         {
          "showarrow": false,
          "text": "Chart by: @typerbole; Data: Coinmetrics",
          "x": 1,
          "xanchor": "right",
          "xref": "paper",
          "xshift": 0,
          "y": -0.1,
          "yanchor": "auto",
          "yref": "paper",
          "yshift": 0
         }
        ],
        "legend": {
         "orientation": "h"
        },
        "showlegend": true,
        "template": {
         "data": {
          "bar": [
           {
            "error_x": {
             "color": "#f2f5fa"
            },
            "error_y": {
             "color": "#f2f5fa"
            },
            "marker": {
             "line": {
              "color": "rgb(17,17,17)",
              "width": 0.5
             }
            },
            "type": "bar"
           }
          ],
          "barpolar": [
           {
            "marker": {
             "line": {
              "color": "rgb(17,17,17)",
              "width": 0.5
             }
            },
            "type": "barpolar"
           }
          ],
          "carpet": [
           {
            "aaxis": {
             "endlinecolor": "#A2B1C6",
             "gridcolor": "#506784",
             "linecolor": "#506784",
             "minorgridcolor": "#506784",
             "startlinecolor": "#A2B1C6"
            },
            "baxis": {
             "endlinecolor": "#A2B1C6",
             "gridcolor": "#506784",
             "linecolor": "#506784",
             "minorgridcolor": "#506784",
             "startlinecolor": "#A2B1C6"
            },
            "type": "carpet"
           }
          ],
          "choropleth": [
           {
            "colorbar": {
             "outlinewidth": 0,
             "ticks": ""
            },
            "type": "choropleth"
           }
          ],
          "contour": [
           {
            "colorbar": {
             "outlinewidth": 0,
             "ticks": ""
            },
            "colorscale": [
             [
              0,
              "#0d0887"
             ],
             [
              0.1111111111111111,
              "#46039f"
             ],
             [
              0.2222222222222222,
              "#7201a8"
             ],
             [
              0.3333333333333333,
              "#9c179e"
             ],
             [
              0.4444444444444444,
              "#bd3786"
             ],
             [
              0.5555555555555556,
              "#d8576b"
             ],
             [
              0.6666666666666666,
              "#ed7953"
             ],
             [
              0.7777777777777778,
              "#fb9f3a"
             ],
             [
              0.8888888888888888,
              "#fdca26"
             ],
             [
              1,
              "#f0f921"
             ]
            ],
            "type": "contour"
           }
          ],
          "contourcarpet": [
           {
            "colorbar": {
             "outlinewidth": 0,
             "ticks": ""
            },
            "type": "contourcarpet"
           }
          ],
          "heatmap": [
           {
            "colorbar": {
             "outlinewidth": 0,
             "ticks": ""
            },
            "colorscale": [
             [
              0,
              "#0d0887"
             ],
             [
              0.1111111111111111,
              "#46039f"
             ],
             [
              0.2222222222222222,
              "#7201a8"
             ],
             [
              0.3333333333333333,
              "#9c179e"
             ],
             [
              0.4444444444444444,
              "#bd3786"
             ],
             [
              0.5555555555555556,
              "#d8576b"
             ],
             [
              0.6666666666666666,
              "#ed7953"
             ],
             [
              0.7777777777777778,
              "#fb9f3a"
             ],
             [
              0.8888888888888888,
              "#fdca26"
             ],
             [
              1,
              "#f0f921"
             ]
            ],
            "type": "heatmap"
           }
          ],
          "heatmapgl": [
           {
            "colorbar": {
             "outlinewidth": 0,
             "ticks": ""
            },
            "colorscale": [
             [
              0,
              "#0d0887"
             ],
             [
              0.1111111111111111,
              "#46039f"
             ],
             [
              0.2222222222222222,
              "#7201a8"
             ],
             [
              0.3333333333333333,
              "#9c179e"
             ],
             [
              0.4444444444444444,
              "#bd3786"
             ],
             [
              0.5555555555555556,
              "#d8576b"
             ],
             [
              0.6666666666666666,
              "#ed7953"
             ],
             [
              0.7777777777777778,
              "#fb9f3a"
             ],
             [
              0.8888888888888888,
              "#fdca26"
             ],
             [
              1,
              "#f0f921"
             ]
            ],
            "type": "heatmapgl"
           }
          ],
          "histogram": [
           {
            "marker": {
             "colorbar": {
              "outlinewidth": 0,
              "ticks": ""
             }
            },
            "type": "histogram"
           }
          ],
          "histogram2d": [
           {
            "colorbar": {
             "outlinewidth": 0,
             "ticks": ""
            },
            "colorscale": [
             [
              0,
              "#0d0887"
             ],
             [
              0.1111111111111111,
              "#46039f"
             ],
             [
              0.2222222222222222,
              "#7201a8"
             ],
             [
              0.3333333333333333,
              "#9c179e"
             ],
             [
              0.4444444444444444,
              "#bd3786"
             ],
             [
              0.5555555555555556,
              "#d8576b"
             ],
             [
              0.6666666666666666,
              "#ed7953"
             ],
             [
              0.7777777777777778,
              "#fb9f3a"
             ],
             [
              0.8888888888888888,
              "#fdca26"
             ],
             [
              1,
              "#f0f921"
             ]
            ],
            "type": "histogram2d"
           }
          ],
          "histogram2dcontour": [
           {
            "colorbar": {
             "outlinewidth": 0,
             "ticks": ""
            },
            "colorscale": [
             [
              0,
              "#0d0887"
             ],
             [
              0.1111111111111111,
              "#46039f"
             ],
             [
              0.2222222222222222,
              "#7201a8"
             ],
             [
              0.3333333333333333,
              "#9c179e"
             ],
             [
              0.4444444444444444,
              "#bd3786"
             ],
             [
              0.5555555555555556,
              "#d8576b"
             ],
             [
              0.6666666666666666,
              "#ed7953"
             ],
             [
              0.7777777777777778,
              "#fb9f3a"
             ],
             [
              0.8888888888888888,
              "#fdca26"
             ],
             [
              1,
              "#f0f921"
             ]
            ],
            "type": "histogram2dcontour"
           }
          ],
          "mesh3d": [
           {
            "colorbar": {
             "outlinewidth": 0,
             "ticks": ""
            },
            "type": "mesh3d"
           }
          ],
          "parcoords": [
           {
            "line": {
             "colorbar": {
              "outlinewidth": 0,
              "ticks": ""
             }
            },
            "type": "parcoords"
           }
          ],
          "pie": [
           {
            "automargin": true,
            "type": "pie"
           }
          ],
          "scatter": [
           {
            "marker": {
             "line": {
              "color": "#283442"
             }
            },
            "type": "scatter"
           }
          ],
          "scatter3d": [
           {
            "line": {
             "colorbar": {
              "outlinewidth": 0,
              "ticks": ""
             }
            },
            "marker": {
             "colorbar": {
              "outlinewidth": 0,
              "ticks": ""
             }
            },
            "type": "scatter3d"
           }
          ],
          "scattercarpet": [
           {
            "marker": {
             "colorbar": {
              "outlinewidth": 0,
              "ticks": ""
             }
            },
            "type": "scattercarpet"
           }
          ],
          "scattergeo": [
           {
            "marker": {
             "colorbar": {
              "outlinewidth": 0,
              "ticks": ""
             }
            },
            "type": "scattergeo"
           }
          ],
          "scattergl": [
           {
            "marker": {
             "line": {
              "color": "#283442"
             }
            },
            "type": "scattergl"
           }
          ],
          "scattermapbox": [
           {
            "marker": {
             "colorbar": {
              "outlinewidth": 0,
              "ticks": ""
             }
            },
            "type": "scattermapbox"
           }
          ],
          "scatterpolar": [
           {
            "marker": {
             "colorbar": {
              "outlinewidth": 0,
              "ticks": ""
             }
            },
            "type": "scatterpolar"
           }
          ],
          "scatterpolargl": [
           {
            "marker": {
             "colorbar": {
              "outlinewidth": 0,
              "ticks": ""
             }
            },
            "type": "scatterpolargl"
           }
          ],
          "scatterternary": [
           {
            "marker": {
             "colorbar": {
              "outlinewidth": 0,
              "ticks": ""
             }
            },
            "type": "scatterternary"
           }
          ],
          "surface": [
           {
            "colorbar": {
             "outlinewidth": 0,
             "ticks": ""
            },
            "colorscale": [
             [
              0,
              "#0d0887"
             ],
             [
              0.1111111111111111,
              "#46039f"
             ],
             [
              0.2222222222222222,
              "#7201a8"
             ],
             [
              0.3333333333333333,
              "#9c179e"
             ],
             [
              0.4444444444444444,
              "#bd3786"
             ],
             [
              0.5555555555555556,
              "#d8576b"
             ],
             [
              0.6666666666666666,
              "#ed7953"
             ],
             [
              0.7777777777777778,
              "#fb9f3a"
             ],
             [
              0.8888888888888888,
              "#fdca26"
             ],
             [
              1,
              "#f0f921"
             ]
            ],
            "type": "surface"
           }
          ],
          "table": [
           {
            "cells": {
             "fill": {
              "color": "#506784"
             },
             "line": {
              "color": "rgb(17,17,17)"
             }
            },
            "header": {
             "fill": {
              "color": "#2a3f5f"
             },
             "line": {
              "color": "rgb(17,17,17)"
             }
            },
            "type": "table"
           }
          ]
         },
         "layout": {
          "annotationdefaults": {
           "arrowcolor": "#f2f5fa",
           "arrowhead": 0,
           "arrowwidth": 1
          },
          "coloraxis": {
           "colorbar": {
            "outlinewidth": 0,
            "ticks": ""
           }
          },
          "colorscale": {
           "diverging": [
            [
             0,
             "#8e0152"
            ],
            [
             0.1,
             "#c51b7d"
            ],
            [
             0.2,
             "#de77ae"
            ],
            [
             0.3,
             "#f1b6da"
            ],
            [
             0.4,
             "#fde0ef"
            ],
            [
             0.5,
             "#f7f7f7"
            ],
            [
             0.6,
             "#e6f5d0"
            ],
            [
             0.7,
             "#b8e186"
            ],
            [
             0.8,
             "#7fbc41"
            ],
            [
             0.9,
             "#4d9221"
            ],
            [
             1,
             "#276419"
            ]
           ],
           "sequential": [
            [
             0,
             "#0d0887"
            ],
            [
             0.1111111111111111,
             "#46039f"
            ],
            [
             0.2222222222222222,
             "#7201a8"
            ],
            [
             0.3333333333333333,
             "#9c179e"
            ],
            [
             0.4444444444444444,
             "#bd3786"
            ],
            [
             0.5555555555555556,
             "#d8576b"
            ],
            [
             0.6666666666666666,
             "#ed7953"
            ],
            [
             0.7777777777777778,
             "#fb9f3a"
            ],
            [
             0.8888888888888888,
             "#fdca26"
            ],
            [
             1,
             "#f0f921"
            ]
           ],
           "sequentialminus": [
            [
             0,
             "#0d0887"
            ],
            [
             0.1111111111111111,
             "#46039f"
            ],
            [
             0.2222222222222222,
             "#7201a8"
            ],
            [
             0.3333333333333333,
             "#9c179e"
            ],
            [
             0.4444444444444444,
             "#bd3786"
            ],
            [
             0.5555555555555556,
             "#d8576b"
            ],
            [
             0.6666666666666666,
             "#ed7953"
            ],
            [
             0.7777777777777778,
             "#fb9f3a"
            ],
            [
             0.8888888888888888,
             "#fdca26"
            ],
            [
             1,
             "#f0f921"
            ]
           ]
          },
          "colorway": [
           "#636efa",
           "#EF553B",
           "#00cc96",
           "#ab63fa",
           "#FFA15A",
           "#19d3f3",
           "#FF6692",
           "#B6E880",
           "#FF97FF",
           "#FECB52"
          ],
          "font": {
           "color": "#f2f5fa"
          },
          "geo": {
           "bgcolor": "rgb(17,17,17)",
           "lakecolor": "rgb(17,17,17)",
           "landcolor": "rgb(17,17,17)",
           "showlakes": true,
           "showland": true,
           "subunitcolor": "#506784"
          },
          "hoverlabel": {
           "align": "left"
          },
          "hovermode": "closest",
          "mapbox": {
           "style": "dark"
          },
          "paper_bgcolor": "rgb(17,17,17)",
          "plot_bgcolor": "rgb(17,17,17)",
          "polar": {
           "angularaxis": {
            "gridcolor": "#506784",
            "linecolor": "#506784",
            "ticks": ""
           },
           "bgcolor": "rgb(17,17,17)",
           "radialaxis": {
            "gridcolor": "#506784",
            "linecolor": "#506784",
            "ticks": ""
           }
          },
          "scene": {
           "xaxis": {
            "backgroundcolor": "rgb(17,17,17)",
            "gridcolor": "#506784",
            "gridwidth": 2,
            "linecolor": "#506784",
            "showbackground": true,
            "ticks": "",
            "zerolinecolor": "#C8D4E3"
           },
           "yaxis": {
            "backgroundcolor": "rgb(17,17,17)",
            "gridcolor": "#506784",
            "gridwidth": 2,
            "linecolor": "#506784",
            "showbackground": true,
            "ticks": "",
            "zerolinecolor": "#C8D4E3"
           },
           "zaxis": {
            "backgroundcolor": "rgb(17,17,17)",
            "gridcolor": "#506784",
            "gridwidth": 2,
            "linecolor": "#506784",
            "showbackground": true,
            "ticks": "",
            "zerolinecolor": "#C8D4E3"
           }
          },
          "shapedefaults": {
           "line": {
            "color": "#f2f5fa"
           }
          },
          "sliderdefaults": {
           "bgcolor": "#C8D4E3",
           "bordercolor": "rgb(17,17,17)",
           "borderwidth": 1,
           "tickwidth": 0
          },
          "ternary": {
           "aaxis": {
            "gridcolor": "#506784",
            "linecolor": "#506784",
            "ticks": ""
           },
           "baxis": {
            "gridcolor": "#506784",
            "linecolor": "#506784",
            "ticks": ""
           },
           "bgcolor": "rgb(17,17,17)",
           "caxis": {
            "gridcolor": "#506784",
            "linecolor": "#506784",
            "ticks": ""
           }
          },
          "title": {
           "x": 0.05
          },
          "updatemenudefaults": {
           "bgcolor": "#506784",
           "borderwidth": 0
          },
          "xaxis": {
           "automargin": true,
           "gridcolor": "#283442",
           "linecolor": "#506784",
           "ticks": "",
           "title": {
            "standoff": 15
           },
           "zerolinecolor": "#283442",
           "zerolinewidth": 2
          },
          "yaxis": {
           "automargin": true,
           "gridcolor": "#283442",
           "linecolor": "#506784",
           "ticks": "",
           "title": {
            "standoff": 15
           },
           "zerolinecolor": "#283442",
           "zerolinewidth": 2
          }
         }
        },
        "title": {
         "text": "Bitcoin Hash Rate with 95% Poisson Confidence Bounds"
        },
        "yaxis": {
         "title": {
          "text": "Hash Rate"
         }
        }
       }
      },
      "text/html": [
       "<div>                            <div id=\"92122c51-a697-43c0-84ab-1d9fb7b0b402\" class=\"plotly-graph-div\" style=\"height:525px; width:100%;\"></div>            <script type=\"text/javascript\">                require([\"plotly\"], function(Plotly) {                    window.PLOTLYENV=window.PLOTLYENV || {};                                    if (document.getElementById(\"92122c51-a697-43c0-84ab-1d9fb7b0b402\")) {                    Plotly.newPlot(                        \"92122c51-a697-43c0-84ab-1d9fb7b0b402\",                        [{\"line\": {\"color\": \"darkorange\"}, \"mode\": \"lines\", \"name\": \"Hash Rate (Day)\", \"type\": \"scatter\", \"x\": [\"2021-01-01\", \"2021-01-02\", \"2021-01-03\", \"2021-01-04\", \"2021-01-05\", \"2021-01-06\", \"2021-01-07\", \"2021-01-08\", \"2021-01-09\", \"2021-01-10\", \"2021-01-11\", \"2021-01-12\", \"2021-01-13\", \"2021-01-14\", \"2021-01-15\", \"2021-01-16\", \"2021-01-17\", \"2021-01-18\", \"2021-01-19\", \"2021-01-20\", \"2021-01-21\", \"2021-01-22\", \"2021-01-23\", \"2021-01-24\", \"2021-01-25\", \"2021-01-26\", \"2021-01-27\", \"2021-01-28\", \"2021-01-29\", \"2021-01-30\", \"2021-01-31\", \"2021-02-01\", \"2021-02-02\", \"2021-02-03\", \"2021-02-04\", \"2021-02-05\", \"2021-02-06\", \"2021-02-07\", \"2021-02-08\", \"2021-02-09\", \"2021-02-10\", \"2021-02-11\", \"2021-02-12\", \"2021-02-13\", \"2021-02-14\", \"2021-02-15\", \"2021-02-16\", \"2021-02-17\", \"2021-02-18\", \"2021-02-19\", \"2021-02-20\", \"2021-02-21\", \"2021-02-22\", \"2021-02-23\", \"2021-02-24\", \"2021-02-25\", \"2021-02-26\", \"2021-02-27\", \"2021-02-28\", \"2021-03-01\", \"2021-03-02\", \"2021-03-03\", \"2021-03-04\", \"2021-03-05\", \"2021-03-06\", \"2021-03-07\", \"2021-03-08\", \"2021-03-09\", \"2021-03-10\", \"2021-03-11\", \"2021-03-12\", \"2021-03-13\", \"2021-03-14\", \"2021-03-15\", \"2021-03-16\", \"2021-03-17\", \"2021-03-18\", \"2021-03-19\", \"2021-03-20\", \"2021-03-21\", \"2021-03-22\", \"2021-03-23\", \"2021-03-24\", \"2021-03-25\", \"2021-03-26\", \"2021-03-27\", \"2021-03-28\", \"2021-03-29\", \"2021-03-30\", \"2021-03-31\", \"2021-04-01\", \"2021-04-02\", \"2021-04-03\", \"2021-04-04\", \"2021-04-05\", \"2021-04-06\", \"2021-04-07\", \"2021-04-08\", \"2021-04-09\", \"2021-04-10\", \"2021-04-11\", \"2021-04-12\", \"2021-04-13\", \"2021-04-14\", \"2021-04-15\", \"2021-04-16\", \"2021-04-17\", \"2021-04-18\", \"2021-04-19\", \"2021-04-20\", \"2021-04-21\", \"2021-04-22\", \"2021-04-23\", \"2021-04-24\", \"2021-04-25\", \"2021-04-26\", \"2021-04-27\", \"2021-04-28\", \"2021-04-29\", \"2021-04-30\", \"2021-05-01\", \"2021-05-02\", \"2021-05-03\", \"2021-05-04\", \"2021-05-05\", \"2021-05-06\", \"2021-05-07\", \"2021-05-08\", \"2021-05-09\", \"2021-05-10\", \"2021-05-11\", \"2021-05-12\", \"2021-05-13\", \"2021-05-14\", \"2021-05-15\", \"2021-05-16\", \"2021-05-17\", \"2021-05-18\", \"2021-05-19\", \"2021-05-20\", \"2021-05-21\", \"2021-05-22\", \"2021-05-23\", \"2021-05-24\", \"2021-05-25\", \"2021-05-26\", \"2021-05-27\", \"2021-05-28\", \"2021-05-29\", \"2021-05-30\", \"2021-05-31\", \"2021-06-01\", \"2021-06-02\", \"2021-06-03\", \"2021-06-04\", \"2021-06-05\", \"2021-06-06\", \"2021-06-07\", \"2021-06-08\", \"2021-06-09\", \"2021-06-10\", \"2021-06-11\"], \"y\": [137764026.7335514, 139613208.60028526, 146085344.09831175, 159954206.02773148, 145160753.60874835, 163652569.02152643, 155331252.39643875, 136839436.24398822, 134307072.19635198, 162879650.92477036, 157757649.32336253, 151611247.72948113, 155708849.33841556, 150586847.08139154, 158782049.80754817, 150586846.5896793, 136245242.43354538, 148538046.4408284, 152635647.72195467, 144440445.15970212, 132147640.82461096, 144440445.15970212, 160859266.69140872, 143884925.71895775, 144920068.404579, 166658079.04619855, 146990355.43205088, 150095785.47638997, 157341788.91318125, 140779494.68088108, 149060642.12827694, 123182058.42545108, 158376932.26129428, 155271502.21695518, 165622935.53246272, 174939225.66548002, 169173097.28623733, 166219497.49211165, 172612555.61907768, 152367873.85185274, 152367873.85185274, 137450738.2222654, 151302363.3968582, 167285007.9471062, 157695421.52382413, 161957460.27513483, 128926662.25397786, 147040324.6455475, 145974815.72488675, 163253417.2080339, 157667240.26214835, 152267677.5909614, 143628376.07300296, 137148899.93453413, 171706104.45129374, 168466365.60452223, 150107852.21147177, 169546279.07180414, 141468550.69351333, 140388638.78130564, 154427502.97045097, 164146716.40061715, 138228813.401816, 160906977.5538457, 162185767.0079194, 155665152.0772381, 165260949.11257938, 149267953.54190147, 158863750.57724273, 140738357.0301135, 159929951.10079587, 152466553.57723358, 167393348.62435818, 157797551.589017, 158863750.57724273, 145003154.51834372, 162062350.61257476, 158461331.28345826, 167389188.34834236, 169563074.09425306, 164128360.5120752, 174997789.24162847, 165215304.16762936, 167389188.34834236, 147824218.2003441, 172823903.49571785, 172823903.49571785, 164128360.5120752, 158693646.9298973, 170650017.74980715, 157606703.27434322, 160833893.90764645, 150672055.3630555, 167924581.38053048, 179426264.28801885, 165624244.46778432, 180576433.57251322, 154122561.56029588, 174825592.11876905, 180576433.57251322, 166774412.0960362, 165624244.46778432, 163323907.55503815, 155272729.1885478, 198624496.42859578, 120743465.93956694, 106676264.94260551, 145361065.15215343, 113709865.44108625, 150050132.1511406, 118398932.44007339, 167634132.55331042, 158255998.55533603, 169978664.36474, 165289599.0538168, 133638399.3427496, 166461864.95953158, 166461864.95953158, 143016531.65265983, 169978664.36474, 158215613.46069756, 189527186.1724504, 181331416.76498827, 185429300.73110002, 160841991.0334749, 174160117.98024434, 176209059.2256809, 175184588.60296264, 190551658.2704073, 184404830.10838172, 176209059.2256809, 176209059.2256809, 186999513.86234713, 166839066.08152363, 153143321.7171525, 164348930.5795564, 150653186.21518525, 124506764.34097786, 155633457.21911973, 139447577.35278136, 136957441.85081413, 144427848.3567158, 148163050.71321806, 156878524.07365465, 153143321.7171525, 151898253.06972018, 145672915.21125072, 148163050.71321806, 144427848.3567158, 150864303.39569443, 147526659.5228379, 148572947.21506175, 173683868.40164095, 153804388.68949127, 137063775.06732354, 137063775.06732354, 156943254.7794732, 139156351.95842642, 155896965.5805942, 131832333.59289402, 123462026.02848256, 109860278.4962968]}, {\"line\": {\"color\": \"yellow\"}, \"mode\": \"lines\", \"name\": \"Hash Rate (7DMA)\", \"type\": \"scatter\", \"x\": [\"2021-01-01\", \"2021-01-02\", \"2021-01-03\", \"2021-01-04\", \"2021-01-05\", \"2021-01-06\", \"2021-01-07\", \"2021-01-08\", \"2021-01-09\", \"2021-01-10\", \"2021-01-11\", \"2021-01-12\", \"2021-01-13\", \"2021-01-14\", \"2021-01-15\", \"2021-01-16\", \"2021-01-17\", \"2021-01-18\", \"2021-01-19\", \"2021-01-20\", \"2021-01-21\", \"2021-01-22\", \"2021-01-23\", \"2021-01-24\", \"2021-01-25\", \"2021-01-26\", \"2021-01-27\", \"2021-01-28\", \"2021-01-29\", \"2021-01-30\", \"2021-01-31\", \"2021-02-01\", \"2021-02-02\", \"2021-02-03\", \"2021-02-04\", \"2021-02-05\", \"2021-02-06\", \"2021-02-07\", \"2021-02-08\", \"2021-02-09\", \"2021-02-10\", \"2021-02-11\", \"2021-02-12\", \"2021-02-13\", \"2021-02-14\", \"2021-02-15\", \"2021-02-16\", \"2021-02-17\", \"2021-02-18\", \"2021-02-19\", \"2021-02-20\", \"2021-02-21\", \"2021-02-22\", \"2021-02-23\", \"2021-02-24\", \"2021-02-25\", \"2021-02-26\", \"2021-02-27\", \"2021-02-28\", \"2021-03-01\", \"2021-03-02\", \"2021-03-03\", \"2021-03-04\", \"2021-03-05\", \"2021-03-06\", \"2021-03-07\", \"2021-03-08\", \"2021-03-09\", \"2021-03-10\", \"2021-03-11\", \"2021-03-12\", \"2021-03-13\", \"2021-03-14\", \"2021-03-15\", \"2021-03-16\", \"2021-03-17\", \"2021-03-18\", \"2021-03-19\", \"2021-03-20\", \"2021-03-21\", \"2021-03-22\", \"2021-03-23\", \"2021-03-24\", \"2021-03-25\", \"2021-03-26\", \"2021-03-27\", \"2021-03-28\", \"2021-03-29\", \"2021-03-30\", \"2021-03-31\", \"2021-04-01\", \"2021-04-02\", \"2021-04-03\", \"2021-04-04\", \"2021-04-05\", \"2021-04-06\", \"2021-04-07\", \"2021-04-08\", \"2021-04-09\", \"2021-04-10\", \"2021-04-11\", \"2021-04-12\", \"2021-04-13\", \"2021-04-14\", \"2021-04-15\", \"2021-04-16\", \"2021-04-17\", \"2021-04-18\", \"2021-04-19\", \"2021-04-20\", \"2021-04-21\", \"2021-04-22\", \"2021-04-23\", \"2021-04-24\", \"2021-04-25\", \"2021-04-26\", \"2021-04-27\", \"2021-04-28\", \"2021-04-29\", \"2021-04-30\", \"2021-05-01\", \"2021-05-02\", \"2021-05-03\", \"2021-05-04\", \"2021-05-05\", \"2021-05-06\", \"2021-05-07\", \"2021-05-08\", \"2021-05-09\", \"2021-05-10\", \"2021-05-11\", \"2021-05-12\", \"2021-05-13\", \"2021-05-14\", \"2021-05-15\", \"2021-05-16\", \"2021-05-17\", \"2021-05-18\", \"2021-05-19\", \"2021-05-20\", \"2021-05-21\", \"2021-05-22\", \"2021-05-23\", \"2021-05-24\", \"2021-05-25\", \"2021-05-26\", \"2021-05-27\", \"2021-05-28\", \"2021-05-29\", \"2021-05-30\", \"2021-05-31\", \"2021-06-01\", \"2021-06-02\", \"2021-06-03\", \"2021-06-04\", \"2021-06-05\", \"2021-06-06\", \"2021-06-07\", \"2021-06-08\", \"2021-06-09\", \"2021-06-10\", \"2021-06-11\"], \"y\": [142732071.00325897, 143320321.63921073, 145100840.226336, 146349512.8941493, 148066610.08822858, 148727032.1200901, 149387454.10968465, 149651622.92665598, 149519538.5710041, 148761519.0847279, 151160705.774222, 150846911.95931214, 151768411.11941683, 150633594.02182955, 149955821.83396566, 153090480.91447422, 155416162.97066382, 151611247.4719174, 150294161.34584108, 150440504.2019087, 148830732.17637822, 146196559.853981, 144147759.19000298, 145615247.77596432, 146706631.1024518, 146189777.0972733, 148192981.57216528, 148557254.46821508, 151121275.13275495, 152964324.24039483, 150095785.38174802, 150835173.44022217, 147729743.4432039, 146546722.47393185, 147729743.4432039, 149947907.73692858, 152461827.27297124, 156518056.21659356, 158969321.26856995, 166030820.86765948, 165172383.95202494, 164757579.89986745, 160732980.284125, 157356285.67432186, 157086558.62587455, 155868833.48754779, 154346677.00984165, 150997932.4958595, 150236854.0378159, 151454579.39533323, 153161872.79692978, 151787905.98479292, 151012513.99438396, 148394073.39407942, 149568678.777016, 153092361.60640833, 156305440.16064197, 154427502.30399027, 156124507.8482268, 154581775.43430564, 154118955.821206, 156587327.68347982, 155507415.10481173, 151187764.7901394, 152730496.9819071, 151678995.25849497, 153707081.17045566, 157260268.36063763, 156523189.87084484, 155768480.46750566, 156126986.70011955, 155987411.49254102, 154598952.43101448, 156274409.08060306, 155208209.43437985, 156579037.58228573, 154598952.43101448, 157645237.22850895, 157435434.39746073, 159567239.364762, 159877200.14617556, 160781601.42089817, 163086464.087239, 165973914.03713694, 166734890.8565323, 165215303.27323028, 165991691.15142676, 166457523.92306456, 166457523.92306456, 164128360.7356744, 164904748.39027125, 163507250.52255708, 165365775.62360027, 162201225.8903628, 161501322.7310503, 163686737.55618516, 164676822.91874045, 166094882.3219842, 165597147.79140598, 167595961.82156634, 171868015.8514889, 171703705.95370403, 169731988.83652765, 169403369.2775639, 165788554.36556885, 172145973.63246885, 164419955.60686854, 153862788.65973887, 150803739.09632707, 143387399.23537022, 141491145.60624197, 136223460.35645992, 131796265.51713344, 137155198.7479576, 146198398.66540536, 149045332.0799287, 151892265.49445203, 154236798.75279358, 161102931.96985903, 157586131.84119466, 159260798.38539526, 157580362.54196066, 161042874.98747972, 167856163.19065666, 170565796.8723093, 169762957.7400155, 174212041.50109902, 175102097.90980482, 177526237.2158427, 177672590.3726937, 178111649.4217499, 176794472.06383285, 178989767.51986226, 180823966.93159124, 179485396.48242593, 176336644.07016733, 172593397.25718865, 167771733.84387487, 160385691.71748874, 157446320.00226572, 150653186.2151849, 146384382.75365496, 145139315.13073543, 142827046.57840136, 143716380.5581827, 147807317.32620764, 147273716.7334363, 148163050.71321765, 149763851.97927532, 149763851.97927535, 150149745.2196291, 148813764.56951243, 148160853.9263566, 151273084.6880596, 152434723.75637966, 150849112.9498233, 149797102.4799101, 150665524.10616422, 149469765.88267687, 150516054.22061008, 144537263.53364626, 140202640.29635927]}, {\"line\": {\"width\": 0}, \"marker\": {\"color\": \"#444\"}, \"mode\": \"lines\", \"name\": \"Upper Bound\", \"showlegend\": false, \"type\": \"scatter\", \"x\": [\"2021-01-01\", \"2021-01-02\", \"2021-01-03\", \"2021-01-04\", \"2021-01-05\", \"2021-01-06\", \"2021-01-07\", \"2021-01-08\", \"2021-01-09\", \"2021-01-10\", \"2021-01-11\", \"2021-01-12\", \"2021-01-13\", \"2021-01-14\", \"2021-01-15\", \"2021-01-16\", \"2021-01-17\", \"2021-01-18\", \"2021-01-19\", \"2021-01-20\", \"2021-01-21\", \"2021-01-22\", \"2021-01-23\", \"2021-01-24\", \"2021-01-25\", \"2021-01-26\", \"2021-01-27\", \"2021-01-28\", \"2021-01-29\", \"2021-01-30\", \"2021-01-31\", \"2021-02-01\", \"2021-02-02\", \"2021-02-03\", \"2021-02-04\", \"2021-02-05\", \"2021-02-06\", \"2021-02-07\", \"2021-02-08\", \"2021-02-09\", \"2021-02-10\", \"2021-02-11\", \"2021-02-12\", \"2021-02-13\", \"2021-02-14\", \"2021-02-15\", \"2021-02-16\", \"2021-02-17\", \"2021-02-18\", \"2021-02-19\", \"2021-02-20\", \"2021-02-21\", \"2021-02-22\", \"2021-02-23\", \"2021-02-24\", \"2021-02-25\", \"2021-02-26\", \"2021-02-27\", \"2021-02-28\", \"2021-03-01\", \"2021-03-02\", \"2021-03-03\", \"2021-03-04\", \"2021-03-05\", \"2021-03-06\", \"2021-03-07\", \"2021-03-08\", \"2021-03-09\", \"2021-03-10\", \"2021-03-11\", \"2021-03-12\", \"2021-03-13\", \"2021-03-14\", \"2021-03-15\", \"2021-03-16\", \"2021-03-17\", \"2021-03-18\", \"2021-03-19\", \"2021-03-20\", \"2021-03-21\", \"2021-03-22\", \"2021-03-23\", \"2021-03-24\", \"2021-03-25\", \"2021-03-26\", \"2021-03-27\", \"2021-03-28\", \"2021-03-29\", \"2021-03-30\", \"2021-03-31\", \"2021-04-01\", \"2021-04-02\", \"2021-04-03\", \"2021-04-04\", \"2021-04-05\", \"2021-04-06\", \"2021-04-07\", \"2021-04-08\", \"2021-04-09\", \"2021-04-10\", \"2021-04-11\", \"2021-04-12\", \"2021-04-13\", \"2021-04-14\", \"2021-04-15\", \"2021-04-16\", \"2021-04-17\", \"2021-04-18\", \"2021-04-19\", \"2021-04-20\", \"2021-04-21\", \"2021-04-22\", \"2021-04-23\", \"2021-04-24\", \"2021-04-25\", \"2021-04-26\", \"2021-04-27\", \"2021-04-28\", \"2021-04-29\", \"2021-04-30\", \"2021-05-01\", \"2021-05-02\", \"2021-05-03\", \"2021-05-04\", \"2021-05-05\", \"2021-05-06\", \"2021-05-07\", \"2021-05-08\", \"2021-05-09\", \"2021-05-10\", \"2021-05-11\", \"2021-05-12\", \"2021-05-13\", \"2021-05-14\", \"2021-05-15\", \"2021-05-16\", \"2021-05-17\", \"2021-05-18\", \"2021-05-19\", \"2021-05-20\", \"2021-05-21\", \"2021-05-22\", \"2021-05-23\", \"2021-05-24\", \"2021-05-25\", \"2021-05-26\", \"2021-05-27\", \"2021-05-28\", \"2021-05-29\", \"2021-05-30\", \"2021-05-31\", \"2021-06-01\", \"2021-06-02\", \"2021-06-03\", \"2021-06-04\", \"2021-06-05\", \"2021-06-06\", \"2021-06-07\", \"2021-06-08\", \"2021-06-09\", \"2021-06-10\", \"2021-06-11\"], \"y\": [163652569.0215264, 165501750.59239107, 172898476.87584993, 187691929.44276756, 171973886.09041756, 191390292.58449695, 183068975.51560578, 162727978.23609403, 160395496.29204616, 192587260.21293604, 186440858.2912466, 180294456.36955714, 184392057.65068343, 179270056.04927555, 188489658.93180972, 179270056.04927555, 163904051.24505195, 177221255.4087124, 181318856.6898387, 172099253.80730453, 158782049.64364403, 172099253.80730453, 190762591.9096835, 171833795.78676382, 172868939.13487688, 196677236.1414767, 174939225.83110294, 179079799.2235551, 186325802.66034633, 168728365.74242473, 178044655.87544203, 149060642.12827706, 187360946.00845936, 184255515.96412027, 195642092.79336366, 205993526.274494, 200028567.25659692, 197119276.4785764, 203512334.09409773, 181136632.4397729, 181136632.4397729, 165153988.4009694, 180071122.83718598, 198184786.0811633, 187529690.05529428, 191791728.46564186, 155564401.97768727, 175809084.42683837, 174743574.82425147, 193129859.57290292, 187904792.9832126, 181425317.36310184, 172786016.53628746, 165226628.31282488, 203023569.43013778, 199783831.6200824, 179265492.15639824, 200863744.2234342, 169546278.72623205, 168466366.12288028, 183585142.56980544, 194384268.6033234, 166306540.91617668, 191144530.79326802, 192062091.70069572, 185518742.68326327, 196180739.38919792, 178055344.98910904, 188717341.69504368, 168459547.9537678, 189783541.36563715, 181253944.00088942, 198313138.7303849, 187651142.0244502, 188717341.69504368, 173790546.30673513, 191915940.7068241, 188440501.6593764, 197823587.05198324, 201084415.40998298, 194562758.69398353, 206519129.33998248, 195649701.47998342, 197823587.05198324, 177171674.11798495, 204345243.7679827, 204345243.7679827, 194562758.69398353, 189128044.76398396, 202171358.19598284, 188041101.97798404, 191851859.59978256, 180576433.20445925, 200129295.39857268, 212781147.40652847, 197828958.66985348, 213931315.7708881, 185177106.66189775, 207030305.5847304, 213931315.7708881, 198979127.03421307, 197828958.66985348, 194378453.57677463, 186327275.02625737, 233268304.8131864, 147705598.651647, 132466132.12409611, 175839998.39481786, 140671998.7158543, 180529065.01867968, 145361065.3397161, 199285331.5141269, 189907198.2664033, 202802131.48202324, 196940798.20219603, 162945065.1791979, 198113064.85816148, 198113064.85816148, 172323198.4269215, 202802131.48202324, 188948142.2590819, 221285796.1300581, 212065554.624639, 217187911.0165385, 190551657.77866116, 204894255.6759797, 206943198.2327395, 205918726.95435962, 222310267.408438, 216163439.73815858, 206943198.2327395, 206943198.2327395, 220682655.2335966, 200455891.87189206, 185515080.05535352, 196720688.91775742, 181779877.10121888, 153143321.11952004, 188005215.35810995, 169329200.58743677, 166839065.28468034, 175554538.8443278, 179289741.79846245, 189250283.00948814, 185515080.05535352, 183024944.75259706, 176799606.49570602, 179289741.79846245, 175554538.8443278, 180199029.05596837, 175776444.79052538, 176822733.15237376, 205072518.92227963, 183100463.32346392, 164267272.81019336, 164267272.81019336, 186239328.40900904, 167406137.89573845, 185193040.04716069, 159035831.00095156, 149619235.74431625, 134971198.67843914]}, {\"fill\": \"tonexty\", \"fillcolor\": \"rgba(190, 190, 190, 0.3)\", \"line\": {\"width\": 0}, \"marker\": {\"color\": \"#444\"}, \"mode\": \"lines\", \"name\": \"Lower Bound\", \"showlegend\": false, \"type\": \"scatter\", \"x\": [\"2021-01-01\", \"2021-01-02\", \"2021-01-03\", \"2021-01-04\", \"2021-01-05\", \"2021-01-06\", \"2021-01-07\", \"2021-01-08\", \"2021-01-09\", \"2021-01-10\", \"2021-01-11\", \"2021-01-12\", \"2021-01-13\", \"2021-01-14\", \"2021-01-15\", \"2021-01-16\", \"2021-01-17\", \"2021-01-18\", \"2021-01-19\", \"2021-01-20\", \"2021-01-21\", \"2021-01-22\", \"2021-01-23\", \"2021-01-24\", \"2021-01-25\", \"2021-01-26\", \"2021-01-27\", \"2021-01-28\", \"2021-01-29\", \"2021-01-30\", \"2021-01-31\", \"2021-02-01\", \"2021-02-02\", \"2021-02-03\", \"2021-02-04\", \"2021-02-05\", \"2021-02-06\", \"2021-02-07\", \"2021-02-08\", \"2021-02-09\", \"2021-02-10\", \"2021-02-11\", \"2021-02-12\", \"2021-02-13\", \"2021-02-14\", \"2021-02-15\", \"2021-02-16\", \"2021-02-17\", \"2021-02-18\", \"2021-02-19\", \"2021-02-20\", \"2021-02-21\", \"2021-02-22\", \"2021-02-23\", \"2021-02-24\", \"2021-02-25\", \"2021-02-26\", \"2021-02-27\", \"2021-02-28\", \"2021-03-01\", \"2021-03-02\", \"2021-03-03\", \"2021-03-04\", \"2021-03-05\", \"2021-03-06\", \"2021-03-07\", \"2021-03-08\", \"2021-03-09\", \"2021-03-10\", \"2021-03-11\", \"2021-03-12\", \"2021-03-13\", \"2021-03-14\", \"2021-03-15\", \"2021-03-16\", \"2021-03-17\", \"2021-03-18\", \"2021-03-19\", \"2021-03-20\", \"2021-03-21\", \"2021-03-22\", \"2021-03-23\", \"2021-03-24\", \"2021-03-25\", \"2021-03-26\", \"2021-03-27\", \"2021-03-28\", \"2021-03-29\", \"2021-03-30\", \"2021-03-31\", \"2021-04-01\", \"2021-04-02\", \"2021-04-03\", \"2021-04-04\", \"2021-04-05\", \"2021-04-06\", \"2021-04-07\", \"2021-04-08\", \"2021-04-09\", \"2021-04-10\", \"2021-04-11\", \"2021-04-12\", \"2021-04-13\", \"2021-04-14\", \"2021-04-15\", \"2021-04-16\", \"2021-04-17\", \"2021-04-18\", \"2021-04-19\", \"2021-04-20\", \"2021-04-21\", \"2021-04-22\", \"2021-04-23\", \"2021-04-24\", \"2021-04-25\", \"2021-04-26\", \"2021-04-27\", \"2021-04-28\", \"2021-04-29\", \"2021-04-30\", \"2021-05-01\", \"2021-05-02\", \"2021-05-03\", \"2021-05-04\", \"2021-05-05\", \"2021-05-06\", \"2021-05-07\", \"2021-05-08\", \"2021-05-09\", \"2021-05-10\", \"2021-05-11\", \"2021-05-12\", \"2021-05-13\", \"2021-05-14\", \"2021-05-15\", \"2021-05-16\", \"2021-05-17\", \"2021-05-18\", \"2021-05-19\", \"2021-05-20\", \"2021-05-21\", \"2021-05-22\", \"2021-05-23\", \"2021-05-24\", \"2021-05-25\", \"2021-05-26\", \"2021-05-27\", \"2021-05-28\", \"2021-05-29\", \"2021-05-30\", \"2021-05-31\", \"2021-06-01\", \"2021-06-02\", \"2021-06-03\", \"2021-06-04\", \"2021-06-05\", \"2021-06-06\", \"2021-06-07\", \"2021-06-08\", \"2021-06-09\", \"2021-06-10\", \"2021-06-11\"], \"y\": [112800075.82274699, 114649257.39361171, 121121392.89163816, 133141073.10225874, 120196802.10620582, 136839436.24398816, 129442709.96052933, 111875485.03731464, 109184886.03012781, 134196441.95688628, 130098840.67575999, 123952438.75407054, 128050040.03519683, 123952438.75407054, 131123240.99604154, 123952438.75407054, 110635234.59041007, 121903638.11350736, 124976839.0743521, 117806036.83238108, 106537633.30928376, 117806036.83238108, 133018239.76404957, 116971198.33677296, 118006341.68488601, 137674065.2990337, 120076628.38111208, 123182058.42545117, 129392918.5141294, 114900911.6405469, 122146915.07733814, 98338618.07073835, 130428061.86224242, 127322631.81790331, 136638921.95092064, 145955212.08393794, 139381608.03518188, 137450738.73371, 142778286.74664453, 124664623.50266722, 124664623.50266722, 110812998.66903752, 123599113.90008032, 138516248.33629692, 128926661.9130148, 133188700.32336241, 103354431.45092924, 119337075.48973271, 118271565.88714583, 134443990.6419103, 129589512.40221561, 124189949.38545662, 116630561.16199404, 110151085.54188326, 141468551.03908536, 139308725.83238178, 122030124.17875302, 140388638.43573356, 114470735.95529045, 113390823.35193864, 126349774.5921602, 134989075.41897458, 111230998.14523506, 131749337.6089192, 133376452.56992759, 127943960.47121607, 136473557.8359638, 121546762.44765525, 130076359.81240298, 114083364.75350098, 131142559.48299643, 124745361.45943566, 138605957.17715073, 129010160.14180952, 130076359.81240298, 118348163.43587485, 133274958.82418339, 129552844.8908213, 138041733.82198828, 140215619.39398813, 134780905.46398857, 144563390.53798777, 135867848.2499885, 138041733.82198828, 120650649.24598977, 142389504.96598792, 142389504.96598792, 134780905.46398857, 130433134.31998895, 141302562.179988, 129346191.53398904, 130964742.48128867, 121917846.62211901, 138020203.7231536, 148371719.00239012, 135719866.99443436, 149521887.36674973, 125368351.71519785, 143771045.54495168, 149521887.36674973, 136870035.35879397, 135719866.99443436, 133419530.26571515, 126518520.07955745, 165135483.11032504, 94953599.13320164, 82058665.91758166, 117226665.59654523, 89092265.85337438, 120743465.5644416, 92609065.82127075, 137155198.74795792, 128949332.15619974, 139499732.05988884, 134810665.43602705, 106676265.69285616, 135982932.0919925, 135982932.0919925, 114882132.28461434, 139499732.05988884, 128621325.75467625, 158793048.14888427, 151621749.200225, 155719634.31374457, 133181266.18938681, 144450450.2515657, 146499392.8083255, 145474921.5299456, 159817519.42726418, 154695163.0353647, 146499392.8083255, 146499392.8083255, 154477858.66351762, 135712374.00022507, 123261697.48644295, 133222238.69746862, 120771562.18368652, 97115276.8075005, 125751832.78919937, 110811020.97266082, 108320885.6699044, 115791291.57817368, 118281426.8809301, 126996900.4405776, 123261697.48644295, 122016629.83506474, 115791291.57817368, 118281426.8809301, 115791291.57817368, 123624915.28258297, 120323161.61256202, 121369449.97441038, 144387793.93507442, 126600891.78365222, 110906566.35592674, 110906566.35592674, 128693468.50734892, 112999143.07962346, 127647180.14550057, 106721412.90853328, 98351106.01374635, 86841934.0334143]}],                        {\"annotations\": [{\"showarrow\": false, \"text\": \"Chart by: @typerbole; Data: Coinmetrics\", \"x\": 1, \"xanchor\": \"right\", \"xref\": \"paper\", \"xshift\": 0, \"y\": -0.1, \"yanchor\": \"auto\", \"yref\": \"paper\", \"yshift\": 0}], \"legend\": {\"orientation\": \"h\"}, \"showlegend\": true, \"template\": {\"data\": {\"bar\": [{\"error_x\": {\"color\": \"#f2f5fa\"}, \"error_y\": {\"color\": \"#f2f5fa\"}, \"marker\": {\"line\": {\"color\": \"rgb(17,17,17)\", \"width\": 0.5}}, \"type\": \"bar\"}], \"barpolar\": [{\"marker\": {\"line\": {\"color\": \"rgb(17,17,17)\", \"width\": 0.5}}, \"type\": \"barpolar\"}], \"carpet\": [{\"aaxis\": {\"endlinecolor\": \"#A2B1C6\", \"gridcolor\": \"#506784\", \"linecolor\": \"#506784\", \"minorgridcolor\": \"#506784\", \"startlinecolor\": \"#A2B1C6\"}, \"baxis\": {\"endlinecolor\": \"#A2B1C6\", \"gridcolor\": \"#506784\", \"linecolor\": \"#506784\", \"minorgridcolor\": \"#506784\", \"startlinecolor\": \"#A2B1C6\"}, \"type\": \"carpet\"}], \"choropleth\": [{\"colorbar\": {\"outlinewidth\": 0, \"ticks\": \"\"}, \"type\": \"choropleth\"}], \"contour\": [{\"colorbar\": {\"outlinewidth\": 0, \"ticks\": \"\"}, \"colorscale\": [[0.0, \"#0d0887\"], [0.1111111111111111, \"#46039f\"], [0.2222222222222222, \"#7201a8\"], [0.3333333333333333, \"#9c179e\"], [0.4444444444444444, \"#bd3786\"], [0.5555555555555556, \"#d8576b\"], [0.6666666666666666, \"#ed7953\"], [0.7777777777777778, \"#fb9f3a\"], [0.8888888888888888, \"#fdca26\"], [1.0, \"#f0f921\"]], \"type\": \"contour\"}], \"contourcarpet\": [{\"colorbar\": {\"outlinewidth\": 0, \"ticks\": \"\"}, \"type\": \"contourcarpet\"}], \"heatmap\": [{\"colorbar\": {\"outlinewidth\": 0, \"ticks\": \"\"}, \"colorscale\": [[0.0, \"#0d0887\"], [0.1111111111111111, \"#46039f\"], [0.2222222222222222, \"#7201a8\"], [0.3333333333333333, \"#9c179e\"], [0.4444444444444444, \"#bd3786\"], [0.5555555555555556, \"#d8576b\"], [0.6666666666666666, \"#ed7953\"], [0.7777777777777778, \"#fb9f3a\"], [0.8888888888888888, \"#fdca26\"], [1.0, \"#f0f921\"]], \"type\": \"heatmap\"}], \"heatmapgl\": [{\"colorbar\": {\"outlinewidth\": 0, \"ticks\": \"\"}, \"colorscale\": [[0.0, \"#0d0887\"], [0.1111111111111111, \"#46039f\"], [0.2222222222222222, \"#7201a8\"], [0.3333333333333333, \"#9c179e\"], [0.4444444444444444, \"#bd3786\"], [0.5555555555555556, \"#d8576b\"], [0.6666666666666666, \"#ed7953\"], [0.7777777777777778, \"#fb9f3a\"], [0.8888888888888888, \"#fdca26\"], [1.0, \"#f0f921\"]], \"type\": \"heatmapgl\"}], \"histogram\": [{\"marker\": {\"colorbar\": {\"outlinewidth\": 0, \"ticks\": \"\"}}, \"type\": \"histogram\"}], \"histogram2d\": [{\"colorbar\": {\"outlinewidth\": 0, \"ticks\": \"\"}, \"colorscale\": [[0.0, \"#0d0887\"], [0.1111111111111111, \"#46039f\"], [0.2222222222222222, \"#7201a8\"], [0.3333333333333333, \"#9c179e\"], [0.4444444444444444, \"#bd3786\"], [0.5555555555555556, \"#d8576b\"], [0.6666666666666666, \"#ed7953\"], [0.7777777777777778, \"#fb9f3a\"], [0.8888888888888888, \"#fdca26\"], [1.0, \"#f0f921\"]], \"type\": \"histogram2d\"}], \"histogram2dcontour\": [{\"colorbar\": {\"outlinewidth\": 0, \"ticks\": \"\"}, \"colorscale\": [[0.0, \"#0d0887\"], [0.1111111111111111, \"#46039f\"], [0.2222222222222222, \"#7201a8\"], [0.3333333333333333, \"#9c179e\"], [0.4444444444444444, \"#bd3786\"], [0.5555555555555556, \"#d8576b\"], [0.6666666666666666, \"#ed7953\"], [0.7777777777777778, \"#fb9f3a\"], [0.8888888888888888, \"#fdca26\"], [1.0, \"#f0f921\"]], \"type\": \"histogram2dcontour\"}], \"mesh3d\": [{\"colorbar\": {\"outlinewidth\": 0, \"ticks\": \"\"}, \"type\": \"mesh3d\"}], \"parcoords\": [{\"line\": {\"colorbar\": {\"outlinewidth\": 0, \"ticks\": \"\"}}, \"type\": \"parcoords\"}], \"pie\": [{\"automargin\": true, \"type\": \"pie\"}], \"scatter\": [{\"marker\": {\"line\": {\"color\": \"#283442\"}}, \"type\": \"scatter\"}], \"scatter3d\": [{\"line\": {\"colorbar\": {\"outlinewidth\": 0, \"ticks\": \"\"}}, \"marker\": {\"colorbar\": {\"outlinewidth\": 0, \"ticks\": \"\"}}, \"type\": \"scatter3d\"}], \"scattercarpet\": [{\"marker\": {\"colorbar\": {\"outlinewidth\": 0, \"ticks\": \"\"}}, \"type\": \"scattercarpet\"}], \"scattergeo\": [{\"marker\": {\"colorbar\": {\"outlinewidth\": 0, \"ticks\": \"\"}}, \"type\": \"scattergeo\"}], \"scattergl\": [{\"marker\": {\"line\": {\"color\": \"#283442\"}}, \"type\": \"scattergl\"}], \"scattermapbox\": [{\"marker\": {\"colorbar\": {\"outlinewidth\": 0, \"ticks\": \"\"}}, \"type\": \"scattermapbox\"}], \"scatterpolar\": [{\"marker\": {\"colorbar\": {\"outlinewidth\": 0, \"ticks\": \"\"}}, \"type\": \"scatterpolar\"}], \"scatterpolargl\": [{\"marker\": {\"colorbar\": {\"outlinewidth\": 0, \"ticks\": \"\"}}, \"type\": \"scatterpolargl\"}], \"scatterternary\": [{\"marker\": {\"colorbar\": {\"outlinewidth\": 0, \"ticks\": \"\"}}, \"type\": \"scatterternary\"}], \"surface\": [{\"colorbar\": {\"outlinewidth\": 0, \"ticks\": \"\"}, \"colorscale\": [[0.0, \"#0d0887\"], [0.1111111111111111, \"#46039f\"], [0.2222222222222222, \"#7201a8\"], [0.3333333333333333, \"#9c179e\"], [0.4444444444444444, \"#bd3786\"], [0.5555555555555556, \"#d8576b\"], [0.6666666666666666, \"#ed7953\"], [0.7777777777777778, \"#fb9f3a\"], [0.8888888888888888, \"#fdca26\"], [1.0, \"#f0f921\"]], \"type\": \"surface\"}], \"table\": [{\"cells\": {\"fill\": {\"color\": \"#506784\"}, \"line\": {\"color\": \"rgb(17,17,17)\"}}, \"header\": {\"fill\": {\"color\": \"#2a3f5f\"}, \"line\": {\"color\": \"rgb(17,17,17)\"}}, \"type\": \"table\"}]}, \"layout\": {\"annotationdefaults\": {\"arrowcolor\": \"#f2f5fa\", \"arrowhead\": 0, \"arrowwidth\": 1}, \"coloraxis\": {\"colorbar\": {\"outlinewidth\": 0, \"ticks\": \"\"}}, \"colorscale\": {\"diverging\": [[0, \"#8e0152\"], [0.1, \"#c51b7d\"], [0.2, \"#de77ae\"], [0.3, \"#f1b6da\"], [0.4, \"#fde0ef\"], [0.5, \"#f7f7f7\"], [0.6, \"#e6f5d0\"], [0.7, \"#b8e186\"], [0.8, \"#7fbc41\"], [0.9, \"#4d9221\"], [1, \"#276419\"]], \"sequential\": [[0.0, \"#0d0887\"], [0.1111111111111111, \"#46039f\"], [0.2222222222222222, \"#7201a8\"], [0.3333333333333333, \"#9c179e\"], [0.4444444444444444, \"#bd3786\"], [0.5555555555555556, \"#d8576b\"], [0.6666666666666666, \"#ed7953\"], [0.7777777777777778, \"#fb9f3a\"], [0.8888888888888888, \"#fdca26\"], [1.0, \"#f0f921\"]], \"sequentialminus\": [[0.0, \"#0d0887\"], [0.1111111111111111, \"#46039f\"], [0.2222222222222222, \"#7201a8\"], [0.3333333333333333, \"#9c179e\"], [0.4444444444444444, \"#bd3786\"], [0.5555555555555556, \"#d8576b\"], [0.6666666666666666, \"#ed7953\"], [0.7777777777777778, \"#fb9f3a\"], [0.8888888888888888, \"#fdca26\"], [1.0, \"#f0f921\"]]}, \"colorway\": [\"#636efa\", \"#EF553B\", \"#00cc96\", \"#ab63fa\", \"#FFA15A\", \"#19d3f3\", \"#FF6692\", \"#B6E880\", \"#FF97FF\", \"#FECB52\"], \"font\": {\"color\": \"#f2f5fa\"}, \"geo\": {\"bgcolor\": \"rgb(17,17,17)\", \"lakecolor\": \"rgb(17,17,17)\", \"landcolor\": \"rgb(17,17,17)\", \"showlakes\": true, \"showland\": true, \"subunitcolor\": \"#506784\"}, \"hoverlabel\": {\"align\": \"left\"}, \"hovermode\": \"closest\", \"mapbox\": {\"style\": \"dark\"}, \"paper_bgcolor\": \"rgb(17,17,17)\", \"plot_bgcolor\": \"rgb(17,17,17)\", \"polar\": {\"angularaxis\": {\"gridcolor\": \"#506784\", \"linecolor\": \"#506784\", \"ticks\": \"\"}, \"bgcolor\": \"rgb(17,17,17)\", \"radialaxis\": {\"gridcolor\": \"#506784\", \"linecolor\": \"#506784\", \"ticks\": \"\"}}, \"scene\": {\"xaxis\": {\"backgroundcolor\": \"rgb(17,17,17)\", \"gridcolor\": \"#506784\", \"gridwidth\": 2, \"linecolor\": \"#506784\", \"showbackground\": true, \"ticks\": \"\", \"zerolinecolor\": \"#C8D4E3\"}, \"yaxis\": {\"backgroundcolor\": \"rgb(17,17,17)\", \"gridcolor\": \"#506784\", \"gridwidth\": 2, \"linecolor\": \"#506784\", \"showbackground\": true, \"ticks\": \"\", \"zerolinecolor\": \"#C8D4E3\"}, \"zaxis\": {\"backgroundcolor\": \"rgb(17,17,17)\", \"gridcolor\": \"#506784\", \"gridwidth\": 2, \"linecolor\": \"#506784\", \"showbackground\": true, \"ticks\": \"\", \"zerolinecolor\": \"#C8D4E3\"}}, \"shapedefaults\": {\"line\": {\"color\": \"#f2f5fa\"}}, \"sliderdefaults\": {\"bgcolor\": \"#C8D4E3\", \"bordercolor\": \"rgb(17,17,17)\", \"borderwidth\": 1, \"tickwidth\": 0}, \"ternary\": {\"aaxis\": {\"gridcolor\": \"#506784\", \"linecolor\": \"#506784\", \"ticks\": \"\"}, \"baxis\": {\"gridcolor\": \"#506784\", \"linecolor\": \"#506784\", \"ticks\": \"\"}, \"bgcolor\": \"rgb(17,17,17)\", \"caxis\": {\"gridcolor\": \"#506784\", \"linecolor\": \"#506784\", \"ticks\": \"\"}}, \"title\": {\"x\": 0.05}, \"updatemenudefaults\": {\"bgcolor\": \"#506784\", \"borderwidth\": 0}, \"xaxis\": {\"automargin\": true, \"gridcolor\": \"#283442\", \"linecolor\": \"#506784\", \"ticks\": \"\", \"title\": {\"standoff\": 15}, \"zerolinecolor\": \"#283442\", \"zerolinewidth\": 2}, \"yaxis\": {\"automargin\": true, \"gridcolor\": \"#283442\", \"linecolor\": \"#506784\", \"ticks\": \"\", \"title\": {\"standoff\": 15}, \"zerolinecolor\": \"#283442\", \"zerolinewidth\": 2}}}, \"title\": {\"text\": \"Bitcoin Hash Rate with 95% Poisson Confidence Bounds\"}, \"yaxis\": {\"title\": {\"text\": \"Hash Rate\"}}},                        {\"responsive\": true}                    ).then(function(){\n",
       "                            \n",
       "var gd = document.getElementById('92122c51-a697-43c0-84ab-1d9fb7b0b402');\n",
       "var x = new MutationObserver(function (mutations, observer) {{\n",
       "        var display = window.getComputedStyle(gd).display;\n",
       "        if (!display || display === 'none') {{\n",
       "            console.log([gd, 'removed!']);\n",
       "            Plotly.purge(gd);\n",
       "            observer.disconnect();\n",
       "        }}\n",
       "}});\n",
       "\n",
       "// Listen for the removal of the full notebook cells\n",
       "var notebookContainer = gd.closest('#notebook-container');\n",
       "if (notebookContainer) {{\n",
       "    x.observe(notebookContainer, {childList: true});\n",
       "}}\n",
       "\n",
       "// Listen for the clearing of the current output cell\n",
       "var outputEl = gd.closest('.output');\n",
       "if (outputEl) {{\n",
       "    x.observe(outputEl, {childList: true});\n",
       "}}\n",
       "\n",
       "                        })                };                });            </script>        </div>"
      ]
     },
     "metadata": {},
     "output_type": "display_data"
    }
   ],
   "source": [
    "import plotly.graph_objs as go\n",
    "\n",
    "temp = data.loc[\n",
    "    data['date'] >= '2021-01-01'\n",
    "]\n",
    "\n",
    "\n",
    "fig = go.Figure([\n",
    "    go.Scatter(\n",
    "        x=temp['date'],\n",
    "        y=temp['HashRate'],\n",
    "        line=dict(color='darkorange'),\n",
    "        mode='lines',\n",
    "        name='Hash Rate (Day)'\n",
    "    ),\n",
    "    go.Scatter(\n",
    "        x=temp['date'],\n",
    "        y=temp['HashRateL7D'],\n",
    "        line=dict(color='yellow'),\n",
    "        mode='lines',\n",
    "        name='Hash Rate (7DMA)'\n",
    "    ),\n",
    "    go.Scatter(\n",
    "        name='Upper Bound',\n",
    "        x=temp['date'],\n",
    "        y=temp['HashRateUpper'],\n",
    "        mode='lines',\n",
    "        marker=dict(color=\"#444\"),\n",
    "        line=dict(width=0),\n",
    "        showlegend=False\n",
    "    ),\n",
    "    go.Scatter(\n",
    "        name='Lower Bound',\n",
    "        x=temp['date'],\n",
    "        y=temp['HashRateLower'],\n",
    "        marker=dict(color=\"#444\"),\n",
    "        line=dict(width=0),\n",
    "        mode='lines',\n",
    "        fillcolor='rgba(190, 190, 190, 0.3)',\n",
    "        fill='tonexty',\n",
    "        showlegend=False\n",
    "    )\n",
    "])\n",
    "fig.update_layout(\n",
    "        annotations=[\n",
    "            dict(x=1, y=-0.1,\n",
    "                 text=\"Chart by: @typerbole; Data: Coinmetrics\",\n",
    "                 showarrow=False, xref='paper', yref='paper',\n",
    "                 xanchor='right', yanchor='auto', xshift=0, yshift=0)\n",
    "        ],\n",
    "        showlegend=True,\n",
    "        legend_orientation=\"h\",\n",
    "        template=\"plotly_dark\"\n",
    "\n",
    ")\n",
    "fig.update_layout(\n",
    "        title_text='Bitcoin Hash Rate with 95% Poisson Confidence Bounds'\n",
    ")\n",
    "fig.update_yaxes(\n",
    "        title_text='Hash Rate'\n",
    ")\n",
    "fig.show()"
   ]
  },
  {
   "cell_type": "code",
   "execution_count": 34,
   "metadata": {},
   "outputs": [
    {
     "data": {
      "application/vnd.plotly.v1+json": {
       "config": {
        "plotlyServerURL": "https://plot.ly"
       },
       "data": [
        {
         "line": {
          "color": "darkorange"
         },
         "mode": "lines",
         "name": "Hash Rate (Day)",
         "type": "scatter",
         "x": [
          "2021-01-01",
          "2021-01-02",
          "2021-01-03",
          "2021-01-04",
          "2021-01-05",
          "2021-01-06",
          "2021-01-07",
          "2021-01-08",
          "2021-01-09",
          "2021-01-10",
          "2021-01-11",
          "2021-01-12",
          "2021-01-13",
          "2021-01-14",
          "2021-01-15",
          "2021-01-16",
          "2021-01-17",
          "2021-01-18",
          "2021-01-19",
          "2021-01-20",
          "2021-01-21",
          "2021-01-22",
          "2021-01-23",
          "2021-01-24",
          "2021-01-25",
          "2021-01-26",
          "2021-01-27",
          "2021-01-28",
          "2021-01-29",
          "2021-01-30",
          "2021-01-31",
          "2021-02-01",
          "2021-02-02",
          "2021-02-03",
          "2021-02-04",
          "2021-02-05",
          "2021-02-06",
          "2021-02-07",
          "2021-02-08",
          "2021-02-09",
          "2021-02-10",
          "2021-02-11",
          "2021-02-12",
          "2021-02-13",
          "2021-02-14",
          "2021-02-15",
          "2021-02-16",
          "2021-02-17",
          "2021-02-18",
          "2021-02-19",
          "2021-02-20",
          "2021-02-21",
          "2021-02-22",
          "2021-02-23",
          "2021-02-24",
          "2021-02-25",
          "2021-02-26",
          "2021-02-27",
          "2021-02-28",
          "2021-03-01",
          "2021-03-02",
          "2021-03-03",
          "2021-03-04",
          "2021-03-05",
          "2021-03-06",
          "2021-03-07",
          "2021-03-08",
          "2021-03-09",
          "2021-03-10",
          "2021-03-11",
          "2021-03-12",
          "2021-03-13",
          "2021-03-14",
          "2021-03-15",
          "2021-03-16",
          "2021-03-17",
          "2021-03-18",
          "2021-03-19",
          "2021-03-20",
          "2021-03-21",
          "2021-03-22",
          "2021-03-23",
          "2021-03-24",
          "2021-03-25",
          "2021-03-26",
          "2021-03-27",
          "2021-03-28",
          "2021-03-29",
          "2021-03-30",
          "2021-03-31",
          "2021-04-01",
          "2021-04-02",
          "2021-04-03",
          "2021-04-04",
          "2021-04-05",
          "2021-04-06",
          "2021-04-07",
          "2021-04-08",
          "2021-04-09",
          "2021-04-10",
          "2021-04-11",
          "2021-04-12",
          "2021-04-13",
          "2021-04-14",
          "2021-04-15",
          "2021-04-16",
          "2021-04-17",
          "2021-04-18",
          "2021-04-19",
          "2021-04-20",
          "2021-04-21",
          "2021-04-22",
          "2021-04-23",
          "2021-04-24",
          "2021-04-25",
          "2021-04-26",
          "2021-04-27",
          "2021-04-28",
          "2021-04-29",
          "2021-04-30",
          "2021-05-01",
          "2021-05-02",
          "2021-05-03",
          "2021-05-04",
          "2021-05-05",
          "2021-05-06",
          "2021-05-07",
          "2021-05-08",
          "2021-05-09",
          "2021-05-10",
          "2021-05-11",
          "2021-05-12",
          "2021-05-13",
          "2021-05-14",
          "2021-05-15",
          "2021-05-16",
          "2021-05-17",
          "2021-05-18",
          "2021-05-19",
          "2021-05-20",
          "2021-05-21",
          "2021-05-22",
          "2021-05-23",
          "2021-05-24",
          "2021-05-25",
          "2021-05-26",
          "2021-05-27",
          "2021-05-28",
          "2021-05-29",
          "2021-05-30",
          "2021-05-31",
          "2021-06-01",
          "2021-06-02",
          "2021-06-03",
          "2021-06-04",
          "2021-06-05",
          "2021-06-06",
          "2021-06-07",
          "2021-06-08",
          "2021-06-09",
          "2021-06-10",
          "2021-06-11"
         ],
         "y": [
          137764026.7335514,
          139613208.60028526,
          146085344.09831175,
          159954206.02773148,
          145160753.60874835,
          163652569.02152643,
          155331252.39643875,
          136839436.24398822,
          134307072.19635198,
          162879650.92477036,
          157757649.32336253,
          151611247.72948113,
          155708849.33841556,
          150586847.08139154,
          158782049.80754817,
          150586846.5896793,
          136245242.43354538,
          148538046.4408284,
          152635647.72195467,
          144440445.15970212,
          132147640.82461096,
          144440445.15970212,
          160859266.69140872,
          143884925.71895775,
          144920068.404579,
          166658079.04619855,
          146990355.43205088,
          150095785.47638997,
          157341788.91318125,
          140779494.68088108,
          149060642.12827694,
          123182058.42545108,
          158376932.26129428,
          155271502.21695518,
          165622935.53246272,
          174939225.66548002,
          169173097.28623733,
          166219497.49211165,
          172612555.61907768,
          152367873.85185274,
          152367873.85185274,
          137450738.2222654,
          151302363.3968582,
          167285007.9471062,
          157695421.52382413,
          161957460.27513483,
          128926662.25397786,
          147040324.6455475,
          145974815.72488675,
          163253417.2080339,
          157667240.26214835,
          152267677.5909614,
          143628376.07300296,
          137148899.93453413,
          171706104.45129374,
          168466365.60452223,
          150107852.21147177,
          169546279.07180414,
          141468550.69351333,
          140388638.78130564,
          154427502.97045097,
          164146716.40061715,
          138228813.401816,
          160906977.5538457,
          162185767.0079194,
          155665152.0772381,
          165260949.11257938,
          149267953.54190147,
          158863750.57724273,
          140738357.0301135,
          159929951.10079587,
          152466553.57723358,
          167393348.62435818,
          157797551.589017,
          158863750.57724273,
          145003154.51834372,
          162062350.61257476,
          158461331.28345826,
          167389188.34834236,
          169563074.09425306,
          164128360.5120752,
          174997789.24162847,
          165215304.16762936,
          167389188.34834236,
          147824218.2003441,
          172823903.49571785,
          172823903.49571785,
          164128360.5120752,
          158693646.9298973,
          170650017.74980715,
          157606703.27434322,
          160833893.90764645,
          150672055.3630555,
          167924581.38053048,
          179426264.28801885,
          165624244.46778432,
          180576433.57251322,
          154122561.56029588,
          174825592.11876905,
          180576433.57251322,
          166774412.0960362,
          165624244.46778432,
          163323907.55503815,
          155272729.1885478,
          198624496.42859578,
          120743465.93956694,
          106676264.94260551,
          145361065.15215343,
          113709865.44108625,
          150050132.1511406,
          118398932.44007339,
          167634132.55331042,
          158255998.55533603,
          169978664.36474,
          165289599.0538168,
          133638399.3427496,
          166461864.95953158,
          166461864.95953158,
          143016531.65265983,
          169978664.36474,
          158215613.46069756,
          189527186.1724504,
          181331416.76498827,
          185429300.73110002,
          160841991.0334749,
          174160117.98024434,
          176209059.2256809,
          175184588.60296264,
          190551658.2704073,
          184404830.10838172,
          176209059.2256809,
          176209059.2256809,
          186999513.86234713,
          166839066.08152363,
          153143321.7171525,
          164348930.5795564,
          150653186.21518525,
          124506764.34097786,
          155633457.21911973,
          139447577.35278136,
          136957441.85081413,
          144427848.3567158,
          148163050.71321806,
          156878524.07365465,
          153143321.7171525,
          151898253.06972018,
          145672915.21125072,
          148163050.71321806,
          144427848.3567158,
          150864303.39569443,
          147526659.5228379,
          148572947.21506175,
          173683868.40164095,
          153804388.68949127,
          137063775.06732354,
          137063775.06732354,
          156943254.7794732,
          139156351.95842642,
          155896965.5805942,
          131832333.59289402,
          123462026.02848256,
          109860278.4962968
         ]
        },
        {
         "line": {
          "color": "yellow"
         },
         "mode": "lines",
         "name": "Hash Rate (7DMA)",
         "type": "scatter",
         "x": [
          "2021-01-01",
          "2021-01-02",
          "2021-01-03",
          "2021-01-04",
          "2021-01-05",
          "2021-01-06",
          "2021-01-07",
          "2021-01-08",
          "2021-01-09",
          "2021-01-10",
          "2021-01-11",
          "2021-01-12",
          "2021-01-13",
          "2021-01-14",
          "2021-01-15",
          "2021-01-16",
          "2021-01-17",
          "2021-01-18",
          "2021-01-19",
          "2021-01-20",
          "2021-01-21",
          "2021-01-22",
          "2021-01-23",
          "2021-01-24",
          "2021-01-25",
          "2021-01-26",
          "2021-01-27",
          "2021-01-28",
          "2021-01-29",
          "2021-01-30",
          "2021-01-31",
          "2021-02-01",
          "2021-02-02",
          "2021-02-03",
          "2021-02-04",
          "2021-02-05",
          "2021-02-06",
          "2021-02-07",
          "2021-02-08",
          "2021-02-09",
          "2021-02-10",
          "2021-02-11",
          "2021-02-12",
          "2021-02-13",
          "2021-02-14",
          "2021-02-15",
          "2021-02-16",
          "2021-02-17",
          "2021-02-18",
          "2021-02-19",
          "2021-02-20",
          "2021-02-21",
          "2021-02-22",
          "2021-02-23",
          "2021-02-24",
          "2021-02-25",
          "2021-02-26",
          "2021-02-27",
          "2021-02-28",
          "2021-03-01",
          "2021-03-02",
          "2021-03-03",
          "2021-03-04",
          "2021-03-05",
          "2021-03-06",
          "2021-03-07",
          "2021-03-08",
          "2021-03-09",
          "2021-03-10",
          "2021-03-11",
          "2021-03-12",
          "2021-03-13",
          "2021-03-14",
          "2021-03-15",
          "2021-03-16",
          "2021-03-17",
          "2021-03-18",
          "2021-03-19",
          "2021-03-20",
          "2021-03-21",
          "2021-03-22",
          "2021-03-23",
          "2021-03-24",
          "2021-03-25",
          "2021-03-26",
          "2021-03-27",
          "2021-03-28",
          "2021-03-29",
          "2021-03-30",
          "2021-03-31",
          "2021-04-01",
          "2021-04-02",
          "2021-04-03",
          "2021-04-04",
          "2021-04-05",
          "2021-04-06",
          "2021-04-07",
          "2021-04-08",
          "2021-04-09",
          "2021-04-10",
          "2021-04-11",
          "2021-04-12",
          "2021-04-13",
          "2021-04-14",
          "2021-04-15",
          "2021-04-16",
          "2021-04-17",
          "2021-04-18",
          "2021-04-19",
          "2021-04-20",
          "2021-04-21",
          "2021-04-22",
          "2021-04-23",
          "2021-04-24",
          "2021-04-25",
          "2021-04-26",
          "2021-04-27",
          "2021-04-28",
          "2021-04-29",
          "2021-04-30",
          "2021-05-01",
          "2021-05-02",
          "2021-05-03",
          "2021-05-04",
          "2021-05-05",
          "2021-05-06",
          "2021-05-07",
          "2021-05-08",
          "2021-05-09",
          "2021-05-10",
          "2021-05-11",
          "2021-05-12",
          "2021-05-13",
          "2021-05-14",
          "2021-05-15",
          "2021-05-16",
          "2021-05-17",
          "2021-05-18",
          "2021-05-19",
          "2021-05-20",
          "2021-05-21",
          "2021-05-22",
          "2021-05-23",
          "2021-05-24",
          "2021-05-25",
          "2021-05-26",
          "2021-05-27",
          "2021-05-28",
          "2021-05-29",
          "2021-05-30",
          "2021-05-31",
          "2021-06-01",
          "2021-06-02",
          "2021-06-03",
          "2021-06-04",
          "2021-06-05",
          "2021-06-06",
          "2021-06-07",
          "2021-06-08",
          "2021-06-09",
          "2021-06-10",
          "2021-06-11"
         ],
         "y": [
          142732071.00325897,
          143320321.63921073,
          145100840.226336,
          146349512.8941493,
          148066610.08822858,
          148727032.1200901,
          149387454.10968465,
          149651622.92665598,
          149519538.5710041,
          148761519.0847279,
          151160705.774222,
          150846911.95931214,
          151768411.11941683,
          150633594.02182955,
          149955821.83396566,
          153090480.91447422,
          155416162.97066382,
          151611247.4719174,
          150294161.34584108,
          150440504.2019087,
          148830732.17637822,
          146196559.853981,
          144147759.19000298,
          145615247.77596432,
          146706631.1024518,
          146189777.0972733,
          148192981.57216528,
          148557254.46821508,
          151121275.13275495,
          152964324.24039483,
          150095785.38174802,
          150835173.44022217,
          147729743.4432039,
          146546722.47393185,
          147729743.4432039,
          149947907.73692858,
          152461827.27297124,
          156518056.21659356,
          158969321.26856995,
          166030820.86765948,
          165172383.95202494,
          164757579.89986745,
          160732980.284125,
          157356285.67432186,
          157086558.62587455,
          155868833.48754779,
          154346677.00984165,
          150997932.4958595,
          150236854.0378159,
          151454579.39533323,
          153161872.79692978,
          151787905.98479292,
          151012513.99438396,
          148394073.39407942,
          149568678.777016,
          153092361.60640833,
          156305440.16064197,
          154427502.30399027,
          156124507.8482268,
          154581775.43430564,
          154118955.821206,
          156587327.68347982,
          155507415.10481173,
          151187764.7901394,
          152730496.9819071,
          151678995.25849497,
          153707081.17045566,
          157260268.36063763,
          156523189.87084484,
          155768480.46750566,
          156126986.70011955,
          155987411.49254102,
          154598952.43101448,
          156274409.08060306,
          155208209.43437985,
          156579037.58228573,
          154598952.43101448,
          157645237.22850895,
          157435434.39746073,
          159567239.364762,
          159877200.14617556,
          160781601.42089817,
          163086464.087239,
          165973914.03713694,
          166734890.8565323,
          165215303.27323028,
          165991691.15142676,
          166457523.92306456,
          166457523.92306456,
          164128360.7356744,
          164904748.39027125,
          163507250.52255708,
          165365775.62360027,
          162201225.8903628,
          161501322.7310503,
          163686737.55618516,
          164676822.91874045,
          166094882.3219842,
          165597147.79140598,
          167595961.82156634,
          171868015.8514889,
          171703705.95370403,
          169731988.83652765,
          169403369.2775639,
          165788554.36556885,
          172145973.63246885,
          164419955.60686854,
          153862788.65973887,
          150803739.09632707,
          143387399.23537022,
          141491145.60624197,
          136223460.35645992,
          131796265.51713344,
          137155198.7479576,
          146198398.66540536,
          149045332.0799287,
          151892265.49445203,
          154236798.75279358,
          161102931.96985903,
          157586131.84119466,
          159260798.38539526,
          157580362.54196066,
          161042874.98747972,
          167856163.19065666,
          170565796.8723093,
          169762957.7400155,
          174212041.50109902,
          175102097.90980482,
          177526237.2158427,
          177672590.3726937,
          178111649.4217499,
          176794472.06383285,
          178989767.51986226,
          180823966.93159124,
          179485396.48242593,
          176336644.07016733,
          172593397.25718865,
          167771733.84387487,
          160385691.71748874,
          157446320.00226572,
          150653186.2151849,
          146384382.75365496,
          145139315.13073543,
          142827046.57840136,
          143716380.5581827,
          147807317.32620764,
          147273716.7334363,
          148163050.71321765,
          149763851.97927532,
          149763851.97927535,
          150149745.2196291,
          148813764.56951243,
          148160853.9263566,
          151273084.6880596,
          152434723.75637966,
          150849112.9498233,
          149797102.4799101,
          150665524.10616422,
          149469765.88267687,
          150516054.22061008,
          144537263.53364626,
          140202640.29635927
         ]
        },
        {
         "line": {
          "width": 0
         },
         "marker": {
          "color": "#444"
         },
         "mode": "lines",
         "name": "Upper Bound",
         "showlegend": false,
         "type": "scatter",
         "x": [
          "2021-01-01",
          "2021-01-02",
          "2021-01-03",
          "2021-01-04",
          "2021-01-05",
          "2021-01-06",
          "2021-01-07",
          "2021-01-08",
          "2021-01-09",
          "2021-01-10",
          "2021-01-11",
          "2021-01-12",
          "2021-01-13",
          "2021-01-14",
          "2021-01-15",
          "2021-01-16",
          "2021-01-17",
          "2021-01-18",
          "2021-01-19",
          "2021-01-20",
          "2021-01-21",
          "2021-01-22",
          "2021-01-23",
          "2021-01-24",
          "2021-01-25",
          "2021-01-26",
          "2021-01-27",
          "2021-01-28",
          "2021-01-29",
          "2021-01-30",
          "2021-01-31",
          "2021-02-01",
          "2021-02-02",
          "2021-02-03",
          "2021-02-04",
          "2021-02-05",
          "2021-02-06",
          "2021-02-07",
          "2021-02-08",
          "2021-02-09",
          "2021-02-10",
          "2021-02-11",
          "2021-02-12",
          "2021-02-13",
          "2021-02-14",
          "2021-02-15",
          "2021-02-16",
          "2021-02-17",
          "2021-02-18",
          "2021-02-19",
          "2021-02-20",
          "2021-02-21",
          "2021-02-22",
          "2021-02-23",
          "2021-02-24",
          "2021-02-25",
          "2021-02-26",
          "2021-02-27",
          "2021-02-28",
          "2021-03-01",
          "2021-03-02",
          "2021-03-03",
          "2021-03-04",
          "2021-03-05",
          "2021-03-06",
          "2021-03-07",
          "2021-03-08",
          "2021-03-09",
          "2021-03-10",
          "2021-03-11",
          "2021-03-12",
          "2021-03-13",
          "2021-03-14",
          "2021-03-15",
          "2021-03-16",
          "2021-03-17",
          "2021-03-18",
          "2021-03-19",
          "2021-03-20",
          "2021-03-21",
          "2021-03-22",
          "2021-03-23",
          "2021-03-24",
          "2021-03-25",
          "2021-03-26",
          "2021-03-27",
          "2021-03-28",
          "2021-03-29",
          "2021-03-30",
          "2021-03-31",
          "2021-04-01",
          "2021-04-02",
          "2021-04-03",
          "2021-04-04",
          "2021-04-05",
          "2021-04-06",
          "2021-04-07",
          "2021-04-08",
          "2021-04-09",
          "2021-04-10",
          "2021-04-11",
          "2021-04-12",
          "2021-04-13",
          "2021-04-14",
          "2021-04-15",
          "2021-04-16",
          "2021-04-17",
          "2021-04-18",
          "2021-04-19",
          "2021-04-20",
          "2021-04-21",
          "2021-04-22",
          "2021-04-23",
          "2021-04-24",
          "2021-04-25",
          "2021-04-26",
          "2021-04-27",
          "2021-04-28",
          "2021-04-29",
          "2021-04-30",
          "2021-05-01",
          "2021-05-02",
          "2021-05-03",
          "2021-05-04",
          "2021-05-05",
          "2021-05-06",
          "2021-05-07",
          "2021-05-08",
          "2021-05-09",
          "2021-05-10",
          "2021-05-11",
          "2021-05-12",
          "2021-05-13",
          "2021-05-14",
          "2021-05-15",
          "2021-05-16",
          "2021-05-17",
          "2021-05-18",
          "2021-05-19",
          "2021-05-20",
          "2021-05-21",
          "2021-05-22",
          "2021-05-23",
          "2021-05-24",
          "2021-05-25",
          "2021-05-26",
          "2021-05-27",
          "2021-05-28",
          "2021-05-29",
          "2021-05-30",
          "2021-05-31",
          "2021-06-01",
          "2021-06-02",
          "2021-06-03",
          "2021-06-04",
          "2021-06-05",
          "2021-06-06",
          "2021-06-07",
          "2021-06-08",
          "2021-06-09",
          "2021-06-10",
          "2021-06-11"
         ],
         "y": [
          159954205.87979695,
          162727978.23609403,
          146085344.09831175,
          159954206.02773148,
          168275522.94868815,
          163652569.02152643,
          155331252.39643875,
          159029615.0943646,
          157496782.50363567,
          162879650.92477036,
          157757649.32336253,
          151611247.72948113,
          155708849.33841556,
          175172454.76814926,
          158782049.80754817,
          175172454.76814926,
          159806449.96392563,
          173123654.12758613,
          152635647.72195467,
          169026052.8464598,
          155708848.68279934,
          169026052.8464598,
          160859266.69140872,
          168728365.74242473,
          169763509.0905378,
          166658079.04619855,
          171833795.78676382,
          150095785.47638997,
          157341788.91318125,
          164587792.3499726,
          173904082.48298994,
          145955212.08393794,
          158376932.26129428,
          155271502.21695518,
          165622935.53246272,
          174939225.66548002,
          169173097.28623733,
          166219497.49211165,
          172612555.61907768,
          177940103.6320122,
          177940103.6320122,
          161957459.5932087,
          176874594.02942526,
          167285007.9471062,
          157695421.52382413,
          161957460.27513483,
          152367873.16992658,
          171547046.0164908,
          170481536.4139039,
          163253417.2080339,
          157667240.26214835,
          152267677.5909614,
          168466366.12288028,
          161986890.50276953,
          171706104.45129374,
          168466365.60452223,
          176025754.34634286,
          169546279.07180414,
          166306540.91617668,
          165226628.31282488,
          154427502.97045097,
          164146716.40061715,
          163066803.1061213,
          160906977.5538457,
          162185767.0079194,
          155665152.0772381,
          165260949.11257938,
          174856745.9773286,
          158863750.57724273,
          165260948.9419874,
          159929951.10079587,
          178055344.98910904,
          167393348.62435818,
          157797551.589017,
          158863750.57724273,
          169525747.62436128,
          162062350.61257476,
          158461331.28345826,
          167389188.34834236,
          169563074.09425306,
          164128360.5120752,
          174997789.24162847,
          165215304.16762936,
          167389188.34834236,
          172823902.97398537,
          172823903.49571785,
          172823903.49571785,
          191301930.33598378,
          184780273.61998433,
          170650017.74980715,
          183693330.83398443,
          188405419.00816965,
          177125928.11138046,
          167924581.38053048,
          179426264.28801885,
          165624244.46778432,
          180576433.57251322,
          180576433.20445925,
          174825592.11876905,
          180576433.57251322,
          194378453.57677463,
          193228285.21241504,
          190927948.48369578,
          181726601.56881893,
          198624496.42859578,
          144188798.68375063,
          128949332.15619974,
          171150931.77095604,
          137155198.74795792,
          150050132.1511406,
          141844265.37181973,
          167634132.55331042,
          158255998.55533603,
          169978664.36474,
          165289599.0538168,
          158255998.55533606,
          166461864.95953158,
          166461864.95953158,
          168806398.45902514,
          169978664.36474,
          185533416.7965684,
          189527186.1724504,
          181331416.76498827,
          185429300.73110002,
          186453772.66514152,
          174160117.98024434,
          176209059.2256809,
          175184588.60296264,
          190551658.2704073,
          184404830.10838172,
          202845313.1192199,
          202845313.1192199,
          186999513.86234713,
          195475621.26637918,
          180534809.44984066,
          192985485.96362278,
          178044674.14708424,
          149408118.1653854,
          183024944.75259706,
          165593997.63330212,
          163103862.3305457,
          171819335.8901932,
          148163050.71321806,
          156878524.07365465,
          153143321.7171525,
          151898253.06972018,
          173064403.54157138,
          148163050.71321806,
          171819335.8901932,
          150864303.39569443,
          172637579.70498025,
          173683868.0668286,
          173683868.40164095,
          153804388.68949127,
          161128407.72464827,
          161128407.72464827,
          156943254.7794732,
          163220984.44834498,
          155896965.5805942,
          154850677.55355805,
          146480370.65877116,
          131832333.59289402
         ]
        },
        {
         "fill": "tonexty",
         "fillcolor": "rgba(190, 190, 190, 0.3)",
         "line": {
          "width": 0
         },
         "marker": {
          "color": "#444"
         },
         "mode": "lines",
         "name": "Lower Bound",
         "showlegend": false,
         "type": "scatter",
         "x": [
          "2021-01-01",
          "2021-01-02",
          "2021-01-03",
          "2021-01-04",
          "2021-01-05",
          "2021-01-06",
          "2021-01-07",
          "2021-01-08",
          "2021-01-09",
          "2021-01-10",
          "2021-01-11",
          "2021-01-12",
          "2021-01-13",
          "2021-01-14",
          "2021-01-15",
          "2021-01-16",
          "2021-01-17",
          "2021-01-18",
          "2021-01-19",
          "2021-01-20",
          "2021-01-21",
          "2021-01-22",
          "2021-01-23",
          "2021-01-24",
          "2021-01-25",
          "2021-01-26",
          "2021-01-27",
          "2021-01-28",
          "2021-01-29",
          "2021-01-30",
          "2021-01-31",
          "2021-02-01",
          "2021-02-02",
          "2021-02-03",
          "2021-02-04",
          "2021-02-05",
          "2021-02-06",
          "2021-02-07",
          "2021-02-08",
          "2021-02-09",
          "2021-02-10",
          "2021-02-11",
          "2021-02-12",
          "2021-02-13",
          "2021-02-14",
          "2021-02-15",
          "2021-02-16",
          "2021-02-17",
          "2021-02-18",
          "2021-02-19",
          "2021-02-20",
          "2021-02-21",
          "2021-02-22",
          "2021-02-23",
          "2021-02-24",
          "2021-02-25",
          "2021-02-26",
          "2021-02-27",
          "2021-02-28",
          "2021-03-01",
          "2021-03-02",
          "2021-03-03",
          "2021-03-04",
          "2021-03-05",
          "2021-03-06",
          "2021-03-07",
          "2021-03-08",
          "2021-03-09",
          "2021-03-10",
          "2021-03-11",
          "2021-03-12",
          "2021-03-13",
          "2021-03-14",
          "2021-03-15",
          "2021-03-16",
          "2021-03-17",
          "2021-03-18",
          "2021-03-19",
          "2021-03-20",
          "2021-03-21",
          "2021-03-22",
          "2021-03-23",
          "2021-03-24",
          "2021-03-25",
          "2021-03-26",
          "2021-03-27",
          "2021-03-28",
          "2021-03-29",
          "2021-03-30",
          "2021-03-31",
          "2021-04-01",
          "2021-04-02",
          "2021-04-03",
          "2021-04-04",
          "2021-04-05",
          "2021-04-06",
          "2021-04-07",
          "2021-04-08",
          "2021-04-09",
          "2021-04-10",
          "2021-04-11",
          "2021-04-12",
          "2021-04-13",
          "2021-04-14",
          "2021-04-15",
          "2021-04-16",
          "2021-04-17",
          "2021-04-18",
          "2021-04-19",
          "2021-04-20",
          "2021-04-21",
          "2021-04-22",
          "2021-04-23",
          "2021-04-24",
          "2021-04-25",
          "2021-04-26",
          "2021-04-27",
          "2021-04-28",
          "2021-04-29",
          "2021-04-30",
          "2021-05-01",
          "2021-05-02",
          "2021-05-03",
          "2021-05-04",
          "2021-05-05",
          "2021-05-06",
          "2021-05-07",
          "2021-05-08",
          "2021-05-09",
          "2021-05-10",
          "2021-05-11",
          "2021-05-12",
          "2021-05-13",
          "2021-05-14",
          "2021-05-15",
          "2021-05-16",
          "2021-05-17",
          "2021-05-18",
          "2021-05-19",
          "2021-05-20",
          "2021-05-21",
          "2021-05-22",
          "2021-05-23",
          "2021-05-24",
          "2021-05-25",
          "2021-05-26",
          "2021-05-27",
          "2021-05-28",
          "2021-05-29",
          "2021-05-30",
          "2021-05-31",
          "2021-06-01",
          "2021-06-02",
          "2021-06-03",
          "2021-06-04",
          "2021-06-05",
          "2021-06-06",
          "2021-06-07",
          "2021-06-08",
          "2021-06-09",
          "2021-06-10",
          "2021-06-11"
         ],
         "y": [
          137764026.7335514,
          139613208.60028526,
          123895165.24793522,
          136839436.24398816,
          145160753.60874835,
          139613208.6002852,
          132216482.31682639,
          136839436.24398822,
          134307072.19635198,
          138294043.23801258,
          133172041.6366047,
          128050040.03519683,
          131123240.99604154,
          150586847.08139154,
          134196441.95688628,
          150586846.5896793,
          136245242.43354538,
          148538046.4408284,
          129074440.3554784,
          144440445.15970212,
          132147640.82461096,
          144440445.15970212,
          136111687.20042282,
          143884925.71895775,
          144920068.404579,
          141814638.69148582,
          146990355.43205088,
          126287488.4697903,
          132498348.55846849,
          140779494.68088108,
          149060642.12827694,
          123182058.42545108,
          133533491.90658154,
          130428061.86224242,
          140779495.34337276,
          149060642.12827706,
          143637534.9980882,
          140647267.54147068,
          147040325.1569921,
          152367873.85185274,
          152367873.85185274,
          137450738.2222654,
          151302363.3968582,
          141712777.1440576,
          133188700.32336241,
          136385229.1311231,
          128926662.25397786,
          147040324.6455475,
          145974815.72488675,
          137645038.0381463,
          132829250.21227098,
          127429687.19551201,
          143628376.07300296,
          137148899.93453413,
          145788201.45249256,
          142548463.64243713,
          150107852.21147177,
          143628376.24578896,
          141468550.69351333,
          140388638.78130564,
          129589512.40221561,
          138228813.22902998,
          138228813.401816,
          136068988.02232638,
          136577487.43160582,
          131142559.48299643,
          139672156.8477442,
          149267953.54190147,
          134341158.49477684,
          140738357.0301135,
          134341158.49477684,
          152466553.57723358,
          141804556.1889311,
          133274958.82418339,
          134341158.49477684,
          145003154.51834372,
          136473557.8359638,
          133835583.56489803,
          141302562.179988,
          143476447.75198784,
          138041733.82198828,
          148911161.68198735,
          139128676.6079882,
          141302562.179988,
          147824218.2003441,
          146737276.10998756,
          146737276.10998756,
          164128360.5120752,
          158693646.9298973,
          144563390.53798777,
          157606703.27434322,
          160833893.90764645,
          150672055.3630555,
          141470708.8162324,
          151822224.09546894,
          139170372.0875132,
          152972392.45982856,
          154122561.56029588,
          147221550.63803047,
          152972392.45982856,
          166774412.0960362,
          165624244.46778432,
          163323907.55503815,
          155272729.1885478,
          169754657.4630614,
          120743465.93956694,
          106676264.94260551,
          145361065.15215343,
          113709865.44108625,
          124260265.53233796,
          118398932.44007339,
          140671998.7158543,
          132466132.12409611,
          143016532.0277852,
          138327465.4039234,
          133638399.3427496,
          139499732.05988884,
          139499732.05988884,
          143016531.65265983,
          143016532.0277852,
          158215613.46069756,
          162890933.26240388,
          154695163.0353647,
          158793048.14888427,
          160841991.0334749,
          148548335.36508527,
          150597277.92184508,
          149572806.6434652,
          163915404.54078376,
          157768576.87050438,
          176209059.2256809,
          176209059.2256809,
          159123809.30001438,
          166839066.08152363,
          153143321.7171525,
          164348930.5795564,
          150653186.21518525,
          124506764.34097786,
          155633457.21911973,
          139447577.35278136,
          136957441.85081413,
          144427848.3567158,
          122016629.83506474,
          129487035.743334,
          126996900.4405776,
          125751832.78919937,
          145672915.21125072,
          122016629.83506474,
          144427848.3567158,
          126767921.6033266,
          147526659.5228379,
          148572947.21506175,
          147526659.0206195,
          129739756.86919731,
          137063775.06732354,
          137063775.06732354,
          131832333.59289402,
          139156351.95842642,
          131832333.59289402,
          131832333.59289402,
          123462026.02848256,
          109860278.4962968
         ]
        }
       ],
       "layout": {
        "annotations": [
         {
          "showarrow": false,
          "text": "Chart by: @typerbole; Data: Coinmetrics",
          "x": 1,
          "xanchor": "right",
          "xref": "paper",
          "xshift": 0,
          "y": -0.1,
          "yanchor": "auto",
          "yref": "paper",
          "yshift": 0
         }
        ],
        "legend": {
         "orientation": "h"
        },
        "showlegend": true,
        "template": {
         "data": {
          "bar": [
           {
            "error_x": {
             "color": "#f2f5fa"
            },
            "error_y": {
             "color": "#f2f5fa"
            },
            "marker": {
             "line": {
              "color": "rgb(17,17,17)",
              "width": 0.5
             }
            },
            "type": "bar"
           }
          ],
          "barpolar": [
           {
            "marker": {
             "line": {
              "color": "rgb(17,17,17)",
              "width": 0.5
             }
            },
            "type": "barpolar"
           }
          ],
          "carpet": [
           {
            "aaxis": {
             "endlinecolor": "#A2B1C6",
             "gridcolor": "#506784",
             "linecolor": "#506784",
             "minorgridcolor": "#506784",
             "startlinecolor": "#A2B1C6"
            },
            "baxis": {
             "endlinecolor": "#A2B1C6",
             "gridcolor": "#506784",
             "linecolor": "#506784",
             "minorgridcolor": "#506784",
             "startlinecolor": "#A2B1C6"
            },
            "type": "carpet"
           }
          ],
          "choropleth": [
           {
            "colorbar": {
             "outlinewidth": 0,
             "ticks": ""
            },
            "type": "choropleth"
           }
          ],
          "contour": [
           {
            "colorbar": {
             "outlinewidth": 0,
             "ticks": ""
            },
            "colorscale": [
             [
              0,
              "#0d0887"
             ],
             [
              0.1111111111111111,
              "#46039f"
             ],
             [
              0.2222222222222222,
              "#7201a8"
             ],
             [
              0.3333333333333333,
              "#9c179e"
             ],
             [
              0.4444444444444444,
              "#bd3786"
             ],
             [
              0.5555555555555556,
              "#d8576b"
             ],
             [
              0.6666666666666666,
              "#ed7953"
             ],
             [
              0.7777777777777778,
              "#fb9f3a"
             ],
             [
              0.8888888888888888,
              "#fdca26"
             ],
             [
              1,
              "#f0f921"
             ]
            ],
            "type": "contour"
           }
          ],
          "contourcarpet": [
           {
            "colorbar": {
             "outlinewidth": 0,
             "ticks": ""
            },
            "type": "contourcarpet"
           }
          ],
          "heatmap": [
           {
            "colorbar": {
             "outlinewidth": 0,
             "ticks": ""
            },
            "colorscale": [
             [
              0,
              "#0d0887"
             ],
             [
              0.1111111111111111,
              "#46039f"
             ],
             [
              0.2222222222222222,
              "#7201a8"
             ],
             [
              0.3333333333333333,
              "#9c179e"
             ],
             [
              0.4444444444444444,
              "#bd3786"
             ],
             [
              0.5555555555555556,
              "#d8576b"
             ],
             [
              0.6666666666666666,
              "#ed7953"
             ],
             [
              0.7777777777777778,
              "#fb9f3a"
             ],
             [
              0.8888888888888888,
              "#fdca26"
             ],
             [
              1,
              "#f0f921"
             ]
            ],
            "type": "heatmap"
           }
          ],
          "heatmapgl": [
           {
            "colorbar": {
             "outlinewidth": 0,
             "ticks": ""
            },
            "colorscale": [
             [
              0,
              "#0d0887"
             ],
             [
              0.1111111111111111,
              "#46039f"
             ],
             [
              0.2222222222222222,
              "#7201a8"
             ],
             [
              0.3333333333333333,
              "#9c179e"
             ],
             [
              0.4444444444444444,
              "#bd3786"
             ],
             [
              0.5555555555555556,
              "#d8576b"
             ],
             [
              0.6666666666666666,
              "#ed7953"
             ],
             [
              0.7777777777777778,
              "#fb9f3a"
             ],
             [
              0.8888888888888888,
              "#fdca26"
             ],
             [
              1,
              "#f0f921"
             ]
            ],
            "type": "heatmapgl"
           }
          ],
          "histogram": [
           {
            "marker": {
             "colorbar": {
              "outlinewidth": 0,
              "ticks": ""
             }
            },
            "type": "histogram"
           }
          ],
          "histogram2d": [
           {
            "colorbar": {
             "outlinewidth": 0,
             "ticks": ""
            },
            "colorscale": [
             [
              0,
              "#0d0887"
             ],
             [
              0.1111111111111111,
              "#46039f"
             ],
             [
              0.2222222222222222,
              "#7201a8"
             ],
             [
              0.3333333333333333,
              "#9c179e"
             ],
             [
              0.4444444444444444,
              "#bd3786"
             ],
             [
              0.5555555555555556,
              "#d8576b"
             ],
             [
              0.6666666666666666,
              "#ed7953"
             ],
             [
              0.7777777777777778,
              "#fb9f3a"
             ],
             [
              0.8888888888888888,
              "#fdca26"
             ],
             [
              1,
              "#f0f921"
             ]
            ],
            "type": "histogram2d"
           }
          ],
          "histogram2dcontour": [
           {
            "colorbar": {
             "outlinewidth": 0,
             "ticks": ""
            },
            "colorscale": [
             [
              0,
              "#0d0887"
             ],
             [
              0.1111111111111111,
              "#46039f"
             ],
             [
              0.2222222222222222,
              "#7201a8"
             ],
             [
              0.3333333333333333,
              "#9c179e"
             ],
             [
              0.4444444444444444,
              "#bd3786"
             ],
             [
              0.5555555555555556,
              "#d8576b"
             ],
             [
              0.6666666666666666,
              "#ed7953"
             ],
             [
              0.7777777777777778,
              "#fb9f3a"
             ],
             [
              0.8888888888888888,
              "#fdca26"
             ],
             [
              1,
              "#f0f921"
             ]
            ],
            "type": "histogram2dcontour"
           }
          ],
          "mesh3d": [
           {
            "colorbar": {
             "outlinewidth": 0,
             "ticks": ""
            },
            "type": "mesh3d"
           }
          ],
          "parcoords": [
           {
            "line": {
             "colorbar": {
              "outlinewidth": 0,
              "ticks": ""
             }
            },
            "type": "parcoords"
           }
          ],
          "pie": [
           {
            "automargin": true,
            "type": "pie"
           }
          ],
          "scatter": [
           {
            "marker": {
             "line": {
              "color": "#283442"
             }
            },
            "type": "scatter"
           }
          ],
          "scatter3d": [
           {
            "line": {
             "colorbar": {
              "outlinewidth": 0,
              "ticks": ""
             }
            },
            "marker": {
             "colorbar": {
              "outlinewidth": 0,
              "ticks": ""
             }
            },
            "type": "scatter3d"
           }
          ],
          "scattercarpet": [
           {
            "marker": {
             "colorbar": {
              "outlinewidth": 0,
              "ticks": ""
             }
            },
            "type": "scattercarpet"
           }
          ],
          "scattergeo": [
           {
            "marker": {
             "colorbar": {
              "outlinewidth": 0,
              "ticks": ""
             }
            },
            "type": "scattergeo"
           }
          ],
          "scattergl": [
           {
            "marker": {
             "line": {
              "color": "#283442"
             }
            },
            "type": "scattergl"
           }
          ],
          "scattermapbox": [
           {
            "marker": {
             "colorbar": {
              "outlinewidth": 0,
              "ticks": ""
             }
            },
            "type": "scattermapbox"
           }
          ],
          "scatterpolar": [
           {
            "marker": {
             "colorbar": {
              "outlinewidth": 0,
              "ticks": ""
             }
            },
            "type": "scatterpolar"
           }
          ],
          "scatterpolargl": [
           {
            "marker": {
             "colorbar": {
              "outlinewidth": 0,
              "ticks": ""
             }
            },
            "type": "scatterpolargl"
           }
          ],
          "scatterternary": [
           {
            "marker": {
             "colorbar": {
              "outlinewidth": 0,
              "ticks": ""
             }
            },
            "type": "scatterternary"
           }
          ],
          "surface": [
           {
            "colorbar": {
             "outlinewidth": 0,
             "ticks": ""
            },
            "colorscale": [
             [
              0,
              "#0d0887"
             ],
             [
              0.1111111111111111,
              "#46039f"
             ],
             [
              0.2222222222222222,
              "#7201a8"
             ],
             [
              0.3333333333333333,
              "#9c179e"
             ],
             [
              0.4444444444444444,
              "#bd3786"
             ],
             [
              0.5555555555555556,
              "#d8576b"
             ],
             [
              0.6666666666666666,
              "#ed7953"
             ],
             [
              0.7777777777777778,
              "#fb9f3a"
             ],
             [
              0.8888888888888888,
              "#fdca26"
             ],
             [
              1,
              "#f0f921"
             ]
            ],
            "type": "surface"
           }
          ],
          "table": [
           {
            "cells": {
             "fill": {
              "color": "#506784"
             },
             "line": {
              "color": "rgb(17,17,17)"
             }
            },
            "header": {
             "fill": {
              "color": "#2a3f5f"
             },
             "line": {
              "color": "rgb(17,17,17)"
             }
            },
            "type": "table"
           }
          ]
         },
         "layout": {
          "annotationdefaults": {
           "arrowcolor": "#f2f5fa",
           "arrowhead": 0,
           "arrowwidth": 1
          },
          "coloraxis": {
           "colorbar": {
            "outlinewidth": 0,
            "ticks": ""
           }
          },
          "colorscale": {
           "diverging": [
            [
             0,
             "#8e0152"
            ],
            [
             0.1,
             "#c51b7d"
            ],
            [
             0.2,
             "#de77ae"
            ],
            [
             0.3,
             "#f1b6da"
            ],
            [
             0.4,
             "#fde0ef"
            ],
            [
             0.5,
             "#f7f7f7"
            ],
            [
             0.6,
             "#e6f5d0"
            ],
            [
             0.7,
             "#b8e186"
            ],
            [
             0.8,
             "#7fbc41"
            ],
            [
             0.9,
             "#4d9221"
            ],
            [
             1,
             "#276419"
            ]
           ],
           "sequential": [
            [
             0,
             "#0d0887"
            ],
            [
             0.1111111111111111,
             "#46039f"
            ],
            [
             0.2222222222222222,
             "#7201a8"
            ],
            [
             0.3333333333333333,
             "#9c179e"
            ],
            [
             0.4444444444444444,
             "#bd3786"
            ],
            [
             0.5555555555555556,
             "#d8576b"
            ],
            [
             0.6666666666666666,
             "#ed7953"
            ],
            [
             0.7777777777777778,
             "#fb9f3a"
            ],
            [
             0.8888888888888888,
             "#fdca26"
            ],
            [
             1,
             "#f0f921"
            ]
           ],
           "sequentialminus": [
            [
             0,
             "#0d0887"
            ],
            [
             0.1111111111111111,
             "#46039f"
            ],
            [
             0.2222222222222222,
             "#7201a8"
            ],
            [
             0.3333333333333333,
             "#9c179e"
            ],
            [
             0.4444444444444444,
             "#bd3786"
            ],
            [
             0.5555555555555556,
             "#d8576b"
            ],
            [
             0.6666666666666666,
             "#ed7953"
            ],
            [
             0.7777777777777778,
             "#fb9f3a"
            ],
            [
             0.8888888888888888,
             "#fdca26"
            ],
            [
             1,
             "#f0f921"
            ]
           ]
          },
          "colorway": [
           "#636efa",
           "#EF553B",
           "#00cc96",
           "#ab63fa",
           "#FFA15A",
           "#19d3f3",
           "#FF6692",
           "#B6E880",
           "#FF97FF",
           "#FECB52"
          ],
          "font": {
           "color": "#f2f5fa"
          },
          "geo": {
           "bgcolor": "rgb(17,17,17)",
           "lakecolor": "rgb(17,17,17)",
           "landcolor": "rgb(17,17,17)",
           "showlakes": true,
           "showland": true,
           "subunitcolor": "#506784"
          },
          "hoverlabel": {
           "align": "left"
          },
          "hovermode": "closest",
          "mapbox": {
           "style": "dark"
          },
          "paper_bgcolor": "rgb(17,17,17)",
          "plot_bgcolor": "rgb(17,17,17)",
          "polar": {
           "angularaxis": {
            "gridcolor": "#506784",
            "linecolor": "#506784",
            "ticks": ""
           },
           "bgcolor": "rgb(17,17,17)",
           "radialaxis": {
            "gridcolor": "#506784",
            "linecolor": "#506784",
            "ticks": ""
           }
          },
          "scene": {
           "xaxis": {
            "backgroundcolor": "rgb(17,17,17)",
            "gridcolor": "#506784",
            "gridwidth": 2,
            "linecolor": "#506784",
            "showbackground": true,
            "ticks": "",
            "zerolinecolor": "#C8D4E3"
           },
           "yaxis": {
            "backgroundcolor": "rgb(17,17,17)",
            "gridcolor": "#506784",
            "gridwidth": 2,
            "linecolor": "#506784",
            "showbackground": true,
            "ticks": "",
            "zerolinecolor": "#C8D4E3"
           },
           "zaxis": {
            "backgroundcolor": "rgb(17,17,17)",
            "gridcolor": "#506784",
            "gridwidth": 2,
            "linecolor": "#506784",
            "showbackground": true,
            "ticks": "",
            "zerolinecolor": "#C8D4E3"
           }
          },
          "shapedefaults": {
           "line": {
            "color": "#f2f5fa"
           }
          },
          "sliderdefaults": {
           "bgcolor": "#C8D4E3",
           "bordercolor": "rgb(17,17,17)",
           "borderwidth": 1,
           "tickwidth": 0
          },
          "ternary": {
           "aaxis": {
            "gridcolor": "#506784",
            "linecolor": "#506784",
            "ticks": ""
           },
           "baxis": {
            "gridcolor": "#506784",
            "linecolor": "#506784",
            "ticks": ""
           },
           "bgcolor": "rgb(17,17,17)",
           "caxis": {
            "gridcolor": "#506784",
            "linecolor": "#506784",
            "ticks": ""
           }
          },
          "title": {
           "x": 0.05
          },
          "updatemenudefaults": {
           "bgcolor": "#506784",
           "borderwidth": 0
          },
          "xaxis": {
           "automargin": true,
           "gridcolor": "#283442",
           "linecolor": "#506784",
           "ticks": "",
           "title": {
            "standoff": 15
           },
           "zerolinecolor": "#283442",
           "zerolinewidth": 2
          },
          "yaxis": {
           "automargin": true,
           "gridcolor": "#283442",
           "linecolor": "#506784",
           "ticks": "",
           "title": {
            "standoff": 15
           },
           "zerolinecolor": "#283442",
           "zerolinewidth": 2
          }
         }
        },
        "title": {
         "text": "Bitcoin Hash Rate with 95% Poisson Confidence Bounds"
        },
        "yaxis": {
         "title": {
          "text": "Hash Rate"
         }
        }
       }
      },
      "text/html": [
       "<div>                            <div id=\"b2566f15-a006-4bf6-afa7-71d9456ee68b\" class=\"plotly-graph-div\" style=\"height:525px; width:100%;\"></div>            <script type=\"text/javascript\">                require([\"plotly\"], function(Plotly) {                    window.PLOTLYENV=window.PLOTLYENV || {};                                    if (document.getElementById(\"b2566f15-a006-4bf6-afa7-71d9456ee68b\")) {                    Plotly.newPlot(                        \"b2566f15-a006-4bf6-afa7-71d9456ee68b\",                        [{\"line\": {\"color\": \"darkorange\"}, \"mode\": \"lines\", \"name\": \"Hash Rate (Day)\", \"type\": \"scatter\", \"x\": [\"2021-01-01\", \"2021-01-02\", \"2021-01-03\", \"2021-01-04\", \"2021-01-05\", \"2021-01-06\", \"2021-01-07\", \"2021-01-08\", \"2021-01-09\", \"2021-01-10\", \"2021-01-11\", \"2021-01-12\", \"2021-01-13\", \"2021-01-14\", \"2021-01-15\", \"2021-01-16\", \"2021-01-17\", \"2021-01-18\", \"2021-01-19\", \"2021-01-20\", \"2021-01-21\", \"2021-01-22\", \"2021-01-23\", \"2021-01-24\", \"2021-01-25\", \"2021-01-26\", \"2021-01-27\", \"2021-01-28\", \"2021-01-29\", \"2021-01-30\", \"2021-01-31\", \"2021-02-01\", \"2021-02-02\", \"2021-02-03\", \"2021-02-04\", \"2021-02-05\", \"2021-02-06\", \"2021-02-07\", \"2021-02-08\", \"2021-02-09\", \"2021-02-10\", \"2021-02-11\", \"2021-02-12\", \"2021-02-13\", \"2021-02-14\", \"2021-02-15\", \"2021-02-16\", \"2021-02-17\", \"2021-02-18\", \"2021-02-19\", \"2021-02-20\", \"2021-02-21\", \"2021-02-22\", \"2021-02-23\", \"2021-02-24\", \"2021-02-25\", \"2021-02-26\", \"2021-02-27\", \"2021-02-28\", \"2021-03-01\", \"2021-03-02\", \"2021-03-03\", \"2021-03-04\", \"2021-03-05\", \"2021-03-06\", \"2021-03-07\", \"2021-03-08\", \"2021-03-09\", \"2021-03-10\", \"2021-03-11\", \"2021-03-12\", \"2021-03-13\", \"2021-03-14\", \"2021-03-15\", \"2021-03-16\", \"2021-03-17\", \"2021-03-18\", \"2021-03-19\", \"2021-03-20\", \"2021-03-21\", \"2021-03-22\", \"2021-03-23\", \"2021-03-24\", \"2021-03-25\", \"2021-03-26\", \"2021-03-27\", \"2021-03-28\", \"2021-03-29\", \"2021-03-30\", \"2021-03-31\", \"2021-04-01\", \"2021-04-02\", \"2021-04-03\", \"2021-04-04\", \"2021-04-05\", \"2021-04-06\", \"2021-04-07\", \"2021-04-08\", \"2021-04-09\", \"2021-04-10\", \"2021-04-11\", \"2021-04-12\", \"2021-04-13\", \"2021-04-14\", \"2021-04-15\", \"2021-04-16\", \"2021-04-17\", \"2021-04-18\", \"2021-04-19\", \"2021-04-20\", \"2021-04-21\", \"2021-04-22\", \"2021-04-23\", \"2021-04-24\", \"2021-04-25\", \"2021-04-26\", \"2021-04-27\", \"2021-04-28\", \"2021-04-29\", \"2021-04-30\", \"2021-05-01\", \"2021-05-02\", \"2021-05-03\", \"2021-05-04\", \"2021-05-05\", \"2021-05-06\", \"2021-05-07\", \"2021-05-08\", \"2021-05-09\", \"2021-05-10\", \"2021-05-11\", \"2021-05-12\", \"2021-05-13\", \"2021-05-14\", \"2021-05-15\", \"2021-05-16\", \"2021-05-17\", \"2021-05-18\", \"2021-05-19\", \"2021-05-20\", \"2021-05-21\", \"2021-05-22\", \"2021-05-23\", \"2021-05-24\", \"2021-05-25\", \"2021-05-26\", \"2021-05-27\", \"2021-05-28\", \"2021-05-29\", \"2021-05-30\", \"2021-05-31\", \"2021-06-01\", \"2021-06-02\", \"2021-06-03\", \"2021-06-04\", \"2021-06-05\", \"2021-06-06\", \"2021-06-07\", \"2021-06-08\", \"2021-06-09\", \"2021-06-10\", \"2021-06-11\"], \"y\": [137764026.7335514, 139613208.60028526, 146085344.09831175, 159954206.02773148, 145160753.60874835, 163652569.02152643, 155331252.39643875, 136839436.24398822, 134307072.19635198, 162879650.92477036, 157757649.32336253, 151611247.72948113, 155708849.33841556, 150586847.08139154, 158782049.80754817, 150586846.5896793, 136245242.43354538, 148538046.4408284, 152635647.72195467, 144440445.15970212, 132147640.82461096, 144440445.15970212, 160859266.69140872, 143884925.71895775, 144920068.404579, 166658079.04619855, 146990355.43205088, 150095785.47638997, 157341788.91318125, 140779494.68088108, 149060642.12827694, 123182058.42545108, 158376932.26129428, 155271502.21695518, 165622935.53246272, 174939225.66548002, 169173097.28623733, 166219497.49211165, 172612555.61907768, 152367873.85185274, 152367873.85185274, 137450738.2222654, 151302363.3968582, 167285007.9471062, 157695421.52382413, 161957460.27513483, 128926662.25397786, 147040324.6455475, 145974815.72488675, 163253417.2080339, 157667240.26214835, 152267677.5909614, 143628376.07300296, 137148899.93453413, 171706104.45129374, 168466365.60452223, 150107852.21147177, 169546279.07180414, 141468550.69351333, 140388638.78130564, 154427502.97045097, 164146716.40061715, 138228813.401816, 160906977.5538457, 162185767.0079194, 155665152.0772381, 165260949.11257938, 149267953.54190147, 158863750.57724273, 140738357.0301135, 159929951.10079587, 152466553.57723358, 167393348.62435818, 157797551.589017, 158863750.57724273, 145003154.51834372, 162062350.61257476, 158461331.28345826, 167389188.34834236, 169563074.09425306, 164128360.5120752, 174997789.24162847, 165215304.16762936, 167389188.34834236, 147824218.2003441, 172823903.49571785, 172823903.49571785, 164128360.5120752, 158693646.9298973, 170650017.74980715, 157606703.27434322, 160833893.90764645, 150672055.3630555, 167924581.38053048, 179426264.28801885, 165624244.46778432, 180576433.57251322, 154122561.56029588, 174825592.11876905, 180576433.57251322, 166774412.0960362, 165624244.46778432, 163323907.55503815, 155272729.1885478, 198624496.42859578, 120743465.93956694, 106676264.94260551, 145361065.15215343, 113709865.44108625, 150050132.1511406, 118398932.44007339, 167634132.55331042, 158255998.55533603, 169978664.36474, 165289599.0538168, 133638399.3427496, 166461864.95953158, 166461864.95953158, 143016531.65265983, 169978664.36474, 158215613.46069756, 189527186.1724504, 181331416.76498827, 185429300.73110002, 160841991.0334749, 174160117.98024434, 176209059.2256809, 175184588.60296264, 190551658.2704073, 184404830.10838172, 176209059.2256809, 176209059.2256809, 186999513.86234713, 166839066.08152363, 153143321.7171525, 164348930.5795564, 150653186.21518525, 124506764.34097786, 155633457.21911973, 139447577.35278136, 136957441.85081413, 144427848.3567158, 148163050.71321806, 156878524.07365465, 153143321.7171525, 151898253.06972018, 145672915.21125072, 148163050.71321806, 144427848.3567158, 150864303.39569443, 147526659.5228379, 148572947.21506175, 173683868.40164095, 153804388.68949127, 137063775.06732354, 137063775.06732354, 156943254.7794732, 139156351.95842642, 155896965.5805942, 131832333.59289402, 123462026.02848256, 109860278.4962968]}, {\"line\": {\"color\": \"yellow\"}, \"mode\": \"lines\", \"name\": \"Hash Rate (7DMA)\", \"type\": \"scatter\", \"x\": [\"2021-01-01\", \"2021-01-02\", \"2021-01-03\", \"2021-01-04\", \"2021-01-05\", \"2021-01-06\", \"2021-01-07\", \"2021-01-08\", \"2021-01-09\", \"2021-01-10\", \"2021-01-11\", \"2021-01-12\", \"2021-01-13\", \"2021-01-14\", \"2021-01-15\", \"2021-01-16\", \"2021-01-17\", \"2021-01-18\", \"2021-01-19\", \"2021-01-20\", \"2021-01-21\", \"2021-01-22\", \"2021-01-23\", \"2021-01-24\", \"2021-01-25\", \"2021-01-26\", \"2021-01-27\", \"2021-01-28\", \"2021-01-29\", \"2021-01-30\", \"2021-01-31\", \"2021-02-01\", \"2021-02-02\", \"2021-02-03\", \"2021-02-04\", \"2021-02-05\", \"2021-02-06\", \"2021-02-07\", \"2021-02-08\", \"2021-02-09\", \"2021-02-10\", \"2021-02-11\", \"2021-02-12\", \"2021-02-13\", \"2021-02-14\", \"2021-02-15\", \"2021-02-16\", \"2021-02-17\", \"2021-02-18\", \"2021-02-19\", \"2021-02-20\", \"2021-02-21\", \"2021-02-22\", \"2021-02-23\", \"2021-02-24\", \"2021-02-25\", \"2021-02-26\", \"2021-02-27\", \"2021-02-28\", \"2021-03-01\", \"2021-03-02\", \"2021-03-03\", \"2021-03-04\", \"2021-03-05\", \"2021-03-06\", \"2021-03-07\", \"2021-03-08\", \"2021-03-09\", \"2021-03-10\", \"2021-03-11\", \"2021-03-12\", \"2021-03-13\", \"2021-03-14\", \"2021-03-15\", \"2021-03-16\", \"2021-03-17\", \"2021-03-18\", \"2021-03-19\", \"2021-03-20\", \"2021-03-21\", \"2021-03-22\", \"2021-03-23\", \"2021-03-24\", \"2021-03-25\", \"2021-03-26\", \"2021-03-27\", \"2021-03-28\", \"2021-03-29\", \"2021-03-30\", \"2021-03-31\", \"2021-04-01\", \"2021-04-02\", \"2021-04-03\", \"2021-04-04\", \"2021-04-05\", \"2021-04-06\", \"2021-04-07\", \"2021-04-08\", \"2021-04-09\", \"2021-04-10\", \"2021-04-11\", \"2021-04-12\", \"2021-04-13\", \"2021-04-14\", \"2021-04-15\", \"2021-04-16\", \"2021-04-17\", \"2021-04-18\", \"2021-04-19\", \"2021-04-20\", \"2021-04-21\", \"2021-04-22\", \"2021-04-23\", \"2021-04-24\", \"2021-04-25\", \"2021-04-26\", \"2021-04-27\", \"2021-04-28\", \"2021-04-29\", \"2021-04-30\", \"2021-05-01\", \"2021-05-02\", \"2021-05-03\", \"2021-05-04\", \"2021-05-05\", \"2021-05-06\", \"2021-05-07\", \"2021-05-08\", \"2021-05-09\", \"2021-05-10\", \"2021-05-11\", \"2021-05-12\", \"2021-05-13\", \"2021-05-14\", \"2021-05-15\", \"2021-05-16\", \"2021-05-17\", \"2021-05-18\", \"2021-05-19\", \"2021-05-20\", \"2021-05-21\", \"2021-05-22\", \"2021-05-23\", \"2021-05-24\", \"2021-05-25\", \"2021-05-26\", \"2021-05-27\", \"2021-05-28\", \"2021-05-29\", \"2021-05-30\", \"2021-05-31\", \"2021-06-01\", \"2021-06-02\", \"2021-06-03\", \"2021-06-04\", \"2021-06-05\", \"2021-06-06\", \"2021-06-07\", \"2021-06-08\", \"2021-06-09\", \"2021-06-10\", \"2021-06-11\"], \"y\": [142732071.00325897, 143320321.63921073, 145100840.226336, 146349512.8941493, 148066610.08822858, 148727032.1200901, 149387454.10968465, 149651622.92665598, 149519538.5710041, 148761519.0847279, 151160705.774222, 150846911.95931214, 151768411.11941683, 150633594.02182955, 149955821.83396566, 153090480.91447422, 155416162.97066382, 151611247.4719174, 150294161.34584108, 150440504.2019087, 148830732.17637822, 146196559.853981, 144147759.19000298, 145615247.77596432, 146706631.1024518, 146189777.0972733, 148192981.57216528, 148557254.46821508, 151121275.13275495, 152964324.24039483, 150095785.38174802, 150835173.44022217, 147729743.4432039, 146546722.47393185, 147729743.4432039, 149947907.73692858, 152461827.27297124, 156518056.21659356, 158969321.26856995, 166030820.86765948, 165172383.95202494, 164757579.89986745, 160732980.284125, 157356285.67432186, 157086558.62587455, 155868833.48754779, 154346677.00984165, 150997932.4958595, 150236854.0378159, 151454579.39533323, 153161872.79692978, 151787905.98479292, 151012513.99438396, 148394073.39407942, 149568678.777016, 153092361.60640833, 156305440.16064197, 154427502.30399027, 156124507.8482268, 154581775.43430564, 154118955.821206, 156587327.68347982, 155507415.10481173, 151187764.7901394, 152730496.9819071, 151678995.25849497, 153707081.17045566, 157260268.36063763, 156523189.87084484, 155768480.46750566, 156126986.70011955, 155987411.49254102, 154598952.43101448, 156274409.08060306, 155208209.43437985, 156579037.58228573, 154598952.43101448, 157645237.22850895, 157435434.39746073, 159567239.364762, 159877200.14617556, 160781601.42089817, 163086464.087239, 165973914.03713694, 166734890.8565323, 165215303.27323028, 165991691.15142676, 166457523.92306456, 166457523.92306456, 164128360.7356744, 164904748.39027125, 163507250.52255708, 165365775.62360027, 162201225.8903628, 161501322.7310503, 163686737.55618516, 164676822.91874045, 166094882.3219842, 165597147.79140598, 167595961.82156634, 171868015.8514889, 171703705.95370403, 169731988.83652765, 169403369.2775639, 165788554.36556885, 172145973.63246885, 164419955.60686854, 153862788.65973887, 150803739.09632707, 143387399.23537022, 141491145.60624197, 136223460.35645992, 131796265.51713344, 137155198.7479576, 146198398.66540536, 149045332.0799287, 151892265.49445203, 154236798.75279358, 161102931.96985903, 157586131.84119466, 159260798.38539526, 157580362.54196066, 161042874.98747972, 167856163.19065666, 170565796.8723093, 169762957.7400155, 174212041.50109902, 175102097.90980482, 177526237.2158427, 177672590.3726937, 178111649.4217499, 176794472.06383285, 178989767.51986226, 180823966.93159124, 179485396.48242593, 176336644.07016733, 172593397.25718865, 167771733.84387487, 160385691.71748874, 157446320.00226572, 150653186.2151849, 146384382.75365496, 145139315.13073543, 142827046.57840136, 143716380.5581827, 147807317.32620764, 147273716.7334363, 148163050.71321765, 149763851.97927532, 149763851.97927535, 150149745.2196291, 148813764.56951243, 148160853.9263566, 151273084.6880596, 152434723.75637966, 150849112.9498233, 149797102.4799101, 150665524.10616422, 149469765.88267687, 150516054.22061008, 144537263.53364626, 140202640.29635927]}, {\"line\": {\"width\": 0}, \"marker\": {\"color\": \"#444\"}, \"mode\": \"lines\", \"name\": \"Upper Bound\", \"showlegend\": false, \"type\": \"scatter\", \"x\": [\"2021-01-01\", \"2021-01-02\", \"2021-01-03\", \"2021-01-04\", \"2021-01-05\", \"2021-01-06\", \"2021-01-07\", \"2021-01-08\", \"2021-01-09\", \"2021-01-10\", \"2021-01-11\", \"2021-01-12\", \"2021-01-13\", \"2021-01-14\", \"2021-01-15\", \"2021-01-16\", \"2021-01-17\", \"2021-01-18\", \"2021-01-19\", \"2021-01-20\", \"2021-01-21\", \"2021-01-22\", \"2021-01-23\", \"2021-01-24\", \"2021-01-25\", \"2021-01-26\", \"2021-01-27\", \"2021-01-28\", \"2021-01-29\", \"2021-01-30\", \"2021-01-31\", \"2021-02-01\", \"2021-02-02\", \"2021-02-03\", \"2021-02-04\", \"2021-02-05\", \"2021-02-06\", \"2021-02-07\", \"2021-02-08\", \"2021-02-09\", \"2021-02-10\", \"2021-02-11\", \"2021-02-12\", \"2021-02-13\", \"2021-02-14\", \"2021-02-15\", \"2021-02-16\", \"2021-02-17\", \"2021-02-18\", \"2021-02-19\", \"2021-02-20\", \"2021-02-21\", \"2021-02-22\", \"2021-02-23\", \"2021-02-24\", \"2021-02-25\", \"2021-02-26\", \"2021-02-27\", \"2021-02-28\", \"2021-03-01\", \"2021-03-02\", \"2021-03-03\", \"2021-03-04\", \"2021-03-05\", \"2021-03-06\", \"2021-03-07\", \"2021-03-08\", \"2021-03-09\", \"2021-03-10\", \"2021-03-11\", \"2021-03-12\", \"2021-03-13\", \"2021-03-14\", \"2021-03-15\", \"2021-03-16\", \"2021-03-17\", \"2021-03-18\", \"2021-03-19\", \"2021-03-20\", \"2021-03-21\", \"2021-03-22\", \"2021-03-23\", \"2021-03-24\", \"2021-03-25\", \"2021-03-26\", \"2021-03-27\", \"2021-03-28\", \"2021-03-29\", \"2021-03-30\", \"2021-03-31\", \"2021-04-01\", \"2021-04-02\", \"2021-04-03\", \"2021-04-04\", \"2021-04-05\", \"2021-04-06\", \"2021-04-07\", \"2021-04-08\", \"2021-04-09\", \"2021-04-10\", \"2021-04-11\", \"2021-04-12\", \"2021-04-13\", \"2021-04-14\", \"2021-04-15\", \"2021-04-16\", \"2021-04-17\", \"2021-04-18\", \"2021-04-19\", \"2021-04-20\", \"2021-04-21\", \"2021-04-22\", \"2021-04-23\", \"2021-04-24\", \"2021-04-25\", \"2021-04-26\", \"2021-04-27\", \"2021-04-28\", \"2021-04-29\", \"2021-04-30\", \"2021-05-01\", \"2021-05-02\", \"2021-05-03\", \"2021-05-04\", \"2021-05-05\", \"2021-05-06\", \"2021-05-07\", \"2021-05-08\", \"2021-05-09\", \"2021-05-10\", \"2021-05-11\", \"2021-05-12\", \"2021-05-13\", \"2021-05-14\", \"2021-05-15\", \"2021-05-16\", \"2021-05-17\", \"2021-05-18\", \"2021-05-19\", \"2021-05-20\", \"2021-05-21\", \"2021-05-22\", \"2021-05-23\", \"2021-05-24\", \"2021-05-25\", \"2021-05-26\", \"2021-05-27\", \"2021-05-28\", \"2021-05-29\", \"2021-05-30\", \"2021-05-31\", \"2021-06-01\", \"2021-06-02\", \"2021-06-03\", \"2021-06-04\", \"2021-06-05\", \"2021-06-06\", \"2021-06-07\", \"2021-06-08\", \"2021-06-09\", \"2021-06-10\", \"2021-06-11\"], \"y\": [159954205.87979695, 162727978.23609403, 146085344.09831175, 159954206.02773148, 168275522.94868815, 163652569.02152643, 155331252.39643875, 159029615.0943646, 157496782.50363567, 162879650.92477036, 157757649.32336253, 151611247.72948113, 155708849.33841556, 175172454.76814926, 158782049.80754817, 175172454.76814926, 159806449.96392563, 173123654.12758613, 152635647.72195467, 169026052.8464598, 155708848.68279934, 169026052.8464598, 160859266.69140872, 168728365.74242473, 169763509.0905378, 166658079.04619855, 171833795.78676382, 150095785.47638997, 157341788.91318125, 164587792.3499726, 173904082.48298994, 145955212.08393794, 158376932.26129428, 155271502.21695518, 165622935.53246272, 174939225.66548002, 169173097.28623733, 166219497.49211165, 172612555.61907768, 177940103.6320122, 177940103.6320122, 161957459.5932087, 176874594.02942526, 167285007.9471062, 157695421.52382413, 161957460.27513483, 152367873.16992658, 171547046.0164908, 170481536.4139039, 163253417.2080339, 157667240.26214835, 152267677.5909614, 168466366.12288028, 161986890.50276953, 171706104.45129374, 168466365.60452223, 176025754.34634286, 169546279.07180414, 166306540.91617668, 165226628.31282488, 154427502.97045097, 164146716.40061715, 163066803.1061213, 160906977.5538457, 162185767.0079194, 155665152.0772381, 165260949.11257938, 174856745.9773286, 158863750.57724273, 165260948.9419874, 159929951.10079587, 178055344.98910904, 167393348.62435818, 157797551.589017, 158863750.57724273, 169525747.62436128, 162062350.61257476, 158461331.28345826, 167389188.34834236, 169563074.09425306, 164128360.5120752, 174997789.24162847, 165215304.16762936, 167389188.34834236, 172823902.97398537, 172823903.49571785, 172823903.49571785, 191301930.33598378, 184780273.61998433, 170650017.74980715, 183693330.83398443, 188405419.00816965, 177125928.11138046, 167924581.38053048, 179426264.28801885, 165624244.46778432, 180576433.57251322, 180576433.20445925, 174825592.11876905, 180576433.57251322, 194378453.57677463, 193228285.21241504, 190927948.48369578, 181726601.56881893, 198624496.42859578, 144188798.68375063, 128949332.15619974, 171150931.77095604, 137155198.74795792, 150050132.1511406, 141844265.37181973, 167634132.55331042, 158255998.55533603, 169978664.36474, 165289599.0538168, 158255998.55533606, 166461864.95953158, 166461864.95953158, 168806398.45902514, 169978664.36474, 185533416.7965684, 189527186.1724504, 181331416.76498827, 185429300.73110002, 186453772.66514152, 174160117.98024434, 176209059.2256809, 175184588.60296264, 190551658.2704073, 184404830.10838172, 202845313.1192199, 202845313.1192199, 186999513.86234713, 195475621.26637918, 180534809.44984066, 192985485.96362278, 178044674.14708424, 149408118.1653854, 183024944.75259706, 165593997.63330212, 163103862.3305457, 171819335.8901932, 148163050.71321806, 156878524.07365465, 153143321.7171525, 151898253.06972018, 173064403.54157138, 148163050.71321806, 171819335.8901932, 150864303.39569443, 172637579.70498025, 173683868.0668286, 173683868.40164095, 153804388.68949127, 161128407.72464827, 161128407.72464827, 156943254.7794732, 163220984.44834498, 155896965.5805942, 154850677.55355805, 146480370.65877116, 131832333.59289402]}, {\"fill\": \"tonexty\", \"fillcolor\": \"rgba(190, 190, 190, 0.3)\", \"line\": {\"width\": 0}, \"marker\": {\"color\": \"#444\"}, \"mode\": \"lines\", \"name\": \"Lower Bound\", \"showlegend\": false, \"type\": \"scatter\", \"x\": [\"2021-01-01\", \"2021-01-02\", \"2021-01-03\", \"2021-01-04\", \"2021-01-05\", \"2021-01-06\", \"2021-01-07\", \"2021-01-08\", \"2021-01-09\", \"2021-01-10\", \"2021-01-11\", \"2021-01-12\", \"2021-01-13\", \"2021-01-14\", \"2021-01-15\", \"2021-01-16\", \"2021-01-17\", \"2021-01-18\", \"2021-01-19\", \"2021-01-20\", \"2021-01-21\", \"2021-01-22\", \"2021-01-23\", \"2021-01-24\", \"2021-01-25\", \"2021-01-26\", \"2021-01-27\", \"2021-01-28\", \"2021-01-29\", \"2021-01-30\", \"2021-01-31\", \"2021-02-01\", \"2021-02-02\", \"2021-02-03\", \"2021-02-04\", \"2021-02-05\", \"2021-02-06\", \"2021-02-07\", \"2021-02-08\", \"2021-02-09\", \"2021-02-10\", \"2021-02-11\", \"2021-02-12\", \"2021-02-13\", \"2021-02-14\", \"2021-02-15\", \"2021-02-16\", \"2021-02-17\", \"2021-02-18\", \"2021-02-19\", \"2021-02-20\", \"2021-02-21\", \"2021-02-22\", \"2021-02-23\", \"2021-02-24\", \"2021-02-25\", \"2021-02-26\", \"2021-02-27\", \"2021-02-28\", \"2021-03-01\", \"2021-03-02\", \"2021-03-03\", \"2021-03-04\", \"2021-03-05\", \"2021-03-06\", \"2021-03-07\", \"2021-03-08\", \"2021-03-09\", \"2021-03-10\", \"2021-03-11\", \"2021-03-12\", \"2021-03-13\", \"2021-03-14\", \"2021-03-15\", \"2021-03-16\", \"2021-03-17\", \"2021-03-18\", \"2021-03-19\", \"2021-03-20\", \"2021-03-21\", \"2021-03-22\", \"2021-03-23\", \"2021-03-24\", \"2021-03-25\", \"2021-03-26\", \"2021-03-27\", \"2021-03-28\", \"2021-03-29\", \"2021-03-30\", \"2021-03-31\", \"2021-04-01\", \"2021-04-02\", \"2021-04-03\", \"2021-04-04\", \"2021-04-05\", \"2021-04-06\", \"2021-04-07\", \"2021-04-08\", \"2021-04-09\", \"2021-04-10\", \"2021-04-11\", \"2021-04-12\", \"2021-04-13\", \"2021-04-14\", \"2021-04-15\", \"2021-04-16\", \"2021-04-17\", \"2021-04-18\", \"2021-04-19\", \"2021-04-20\", \"2021-04-21\", \"2021-04-22\", \"2021-04-23\", \"2021-04-24\", \"2021-04-25\", \"2021-04-26\", \"2021-04-27\", \"2021-04-28\", \"2021-04-29\", \"2021-04-30\", \"2021-05-01\", \"2021-05-02\", \"2021-05-03\", \"2021-05-04\", \"2021-05-05\", \"2021-05-06\", \"2021-05-07\", \"2021-05-08\", \"2021-05-09\", \"2021-05-10\", \"2021-05-11\", \"2021-05-12\", \"2021-05-13\", \"2021-05-14\", \"2021-05-15\", \"2021-05-16\", \"2021-05-17\", \"2021-05-18\", \"2021-05-19\", \"2021-05-20\", \"2021-05-21\", \"2021-05-22\", \"2021-05-23\", \"2021-05-24\", \"2021-05-25\", \"2021-05-26\", \"2021-05-27\", \"2021-05-28\", \"2021-05-29\", \"2021-05-30\", \"2021-05-31\", \"2021-06-01\", \"2021-06-02\", \"2021-06-03\", \"2021-06-04\", \"2021-06-05\", \"2021-06-06\", \"2021-06-07\", \"2021-06-08\", \"2021-06-09\", \"2021-06-10\", \"2021-06-11\"], \"y\": [137764026.7335514, 139613208.60028526, 123895165.24793522, 136839436.24398816, 145160753.60874835, 139613208.6002852, 132216482.31682639, 136839436.24398822, 134307072.19635198, 138294043.23801258, 133172041.6366047, 128050040.03519683, 131123240.99604154, 150586847.08139154, 134196441.95688628, 150586846.5896793, 136245242.43354538, 148538046.4408284, 129074440.3554784, 144440445.15970212, 132147640.82461096, 144440445.15970212, 136111687.20042282, 143884925.71895775, 144920068.404579, 141814638.69148582, 146990355.43205088, 126287488.4697903, 132498348.55846849, 140779494.68088108, 149060642.12827694, 123182058.42545108, 133533491.90658154, 130428061.86224242, 140779495.34337276, 149060642.12827706, 143637534.9980882, 140647267.54147068, 147040325.1569921, 152367873.85185274, 152367873.85185274, 137450738.2222654, 151302363.3968582, 141712777.1440576, 133188700.32336241, 136385229.1311231, 128926662.25397786, 147040324.6455475, 145974815.72488675, 137645038.0381463, 132829250.21227098, 127429687.19551201, 143628376.07300296, 137148899.93453413, 145788201.45249256, 142548463.64243713, 150107852.21147177, 143628376.24578896, 141468550.69351333, 140388638.78130564, 129589512.40221561, 138228813.22902998, 138228813.401816, 136068988.02232638, 136577487.43160582, 131142559.48299643, 139672156.8477442, 149267953.54190147, 134341158.49477684, 140738357.0301135, 134341158.49477684, 152466553.57723358, 141804556.1889311, 133274958.82418339, 134341158.49477684, 145003154.51834372, 136473557.8359638, 133835583.56489803, 141302562.179988, 143476447.75198784, 138041733.82198828, 148911161.68198735, 139128676.6079882, 141302562.179988, 147824218.2003441, 146737276.10998756, 146737276.10998756, 164128360.5120752, 158693646.9298973, 144563390.53798777, 157606703.27434322, 160833893.90764645, 150672055.3630555, 141470708.8162324, 151822224.09546894, 139170372.0875132, 152972392.45982856, 154122561.56029588, 147221550.63803047, 152972392.45982856, 166774412.0960362, 165624244.46778432, 163323907.55503815, 155272729.1885478, 169754657.4630614, 120743465.93956694, 106676264.94260551, 145361065.15215343, 113709865.44108625, 124260265.53233796, 118398932.44007339, 140671998.7158543, 132466132.12409611, 143016532.0277852, 138327465.4039234, 133638399.3427496, 139499732.05988884, 139499732.05988884, 143016531.65265983, 143016532.0277852, 158215613.46069756, 162890933.26240388, 154695163.0353647, 158793048.14888427, 160841991.0334749, 148548335.36508527, 150597277.92184508, 149572806.6434652, 163915404.54078376, 157768576.87050438, 176209059.2256809, 176209059.2256809, 159123809.30001438, 166839066.08152363, 153143321.7171525, 164348930.5795564, 150653186.21518525, 124506764.34097786, 155633457.21911973, 139447577.35278136, 136957441.85081413, 144427848.3567158, 122016629.83506474, 129487035.743334, 126996900.4405776, 125751832.78919937, 145672915.21125072, 122016629.83506474, 144427848.3567158, 126767921.6033266, 147526659.5228379, 148572947.21506175, 147526659.0206195, 129739756.86919731, 137063775.06732354, 137063775.06732354, 131832333.59289402, 139156351.95842642, 131832333.59289402, 131832333.59289402, 123462026.02848256, 109860278.4962968]}],                        {\"annotations\": [{\"showarrow\": false, \"text\": \"Chart by: @typerbole; Data: Coinmetrics\", \"x\": 1, \"xanchor\": \"right\", \"xref\": \"paper\", \"xshift\": 0, \"y\": -0.1, \"yanchor\": \"auto\", \"yref\": \"paper\", \"yshift\": 0}], \"legend\": {\"orientation\": \"h\"}, \"showlegend\": true, \"template\": {\"data\": {\"bar\": [{\"error_x\": {\"color\": \"#f2f5fa\"}, \"error_y\": {\"color\": \"#f2f5fa\"}, \"marker\": {\"line\": {\"color\": \"rgb(17,17,17)\", \"width\": 0.5}}, \"type\": \"bar\"}], \"barpolar\": [{\"marker\": {\"line\": {\"color\": \"rgb(17,17,17)\", \"width\": 0.5}}, \"type\": \"barpolar\"}], \"carpet\": [{\"aaxis\": {\"endlinecolor\": \"#A2B1C6\", \"gridcolor\": \"#506784\", \"linecolor\": \"#506784\", \"minorgridcolor\": \"#506784\", \"startlinecolor\": \"#A2B1C6\"}, \"baxis\": {\"endlinecolor\": \"#A2B1C6\", \"gridcolor\": \"#506784\", \"linecolor\": \"#506784\", \"minorgridcolor\": \"#506784\", \"startlinecolor\": \"#A2B1C6\"}, \"type\": \"carpet\"}], \"choropleth\": [{\"colorbar\": {\"outlinewidth\": 0, \"ticks\": \"\"}, \"type\": \"choropleth\"}], \"contour\": [{\"colorbar\": {\"outlinewidth\": 0, \"ticks\": \"\"}, \"colorscale\": [[0.0, \"#0d0887\"], [0.1111111111111111, \"#46039f\"], [0.2222222222222222, \"#7201a8\"], [0.3333333333333333, \"#9c179e\"], [0.4444444444444444, \"#bd3786\"], [0.5555555555555556, \"#d8576b\"], [0.6666666666666666, \"#ed7953\"], [0.7777777777777778, \"#fb9f3a\"], [0.8888888888888888, \"#fdca26\"], [1.0, \"#f0f921\"]], \"type\": \"contour\"}], \"contourcarpet\": [{\"colorbar\": {\"outlinewidth\": 0, \"ticks\": \"\"}, \"type\": \"contourcarpet\"}], \"heatmap\": [{\"colorbar\": {\"outlinewidth\": 0, \"ticks\": \"\"}, \"colorscale\": [[0.0, \"#0d0887\"], [0.1111111111111111, \"#46039f\"], [0.2222222222222222, \"#7201a8\"], [0.3333333333333333, \"#9c179e\"], [0.4444444444444444, \"#bd3786\"], [0.5555555555555556, \"#d8576b\"], [0.6666666666666666, \"#ed7953\"], [0.7777777777777778, \"#fb9f3a\"], [0.8888888888888888, \"#fdca26\"], [1.0, \"#f0f921\"]], \"type\": \"heatmap\"}], \"heatmapgl\": [{\"colorbar\": {\"outlinewidth\": 0, \"ticks\": \"\"}, \"colorscale\": [[0.0, \"#0d0887\"], [0.1111111111111111, \"#46039f\"], [0.2222222222222222, \"#7201a8\"], [0.3333333333333333, \"#9c179e\"], [0.4444444444444444, \"#bd3786\"], [0.5555555555555556, \"#d8576b\"], [0.6666666666666666, \"#ed7953\"], [0.7777777777777778, \"#fb9f3a\"], [0.8888888888888888, \"#fdca26\"], [1.0, \"#f0f921\"]], \"type\": \"heatmapgl\"}], \"histogram\": [{\"marker\": {\"colorbar\": {\"outlinewidth\": 0, \"ticks\": \"\"}}, \"type\": \"histogram\"}], \"histogram2d\": [{\"colorbar\": {\"outlinewidth\": 0, \"ticks\": \"\"}, \"colorscale\": [[0.0, \"#0d0887\"], [0.1111111111111111, \"#46039f\"], [0.2222222222222222, \"#7201a8\"], [0.3333333333333333, \"#9c179e\"], [0.4444444444444444, \"#bd3786\"], [0.5555555555555556, \"#d8576b\"], [0.6666666666666666, \"#ed7953\"], [0.7777777777777778, \"#fb9f3a\"], [0.8888888888888888, \"#fdca26\"], [1.0, \"#f0f921\"]], \"type\": \"histogram2d\"}], \"histogram2dcontour\": [{\"colorbar\": {\"outlinewidth\": 0, \"ticks\": \"\"}, \"colorscale\": [[0.0, \"#0d0887\"], [0.1111111111111111, \"#46039f\"], [0.2222222222222222, \"#7201a8\"], [0.3333333333333333, \"#9c179e\"], [0.4444444444444444, \"#bd3786\"], [0.5555555555555556, \"#d8576b\"], [0.6666666666666666, \"#ed7953\"], [0.7777777777777778, \"#fb9f3a\"], [0.8888888888888888, \"#fdca26\"], [1.0, \"#f0f921\"]], \"type\": \"histogram2dcontour\"}], \"mesh3d\": [{\"colorbar\": {\"outlinewidth\": 0, \"ticks\": \"\"}, \"type\": \"mesh3d\"}], \"parcoords\": [{\"line\": {\"colorbar\": {\"outlinewidth\": 0, \"ticks\": \"\"}}, \"type\": \"parcoords\"}], \"pie\": [{\"automargin\": true, \"type\": \"pie\"}], \"scatter\": [{\"marker\": {\"line\": {\"color\": \"#283442\"}}, \"type\": \"scatter\"}], \"scatter3d\": [{\"line\": {\"colorbar\": {\"outlinewidth\": 0, \"ticks\": \"\"}}, \"marker\": {\"colorbar\": {\"outlinewidth\": 0, \"ticks\": \"\"}}, \"type\": \"scatter3d\"}], \"scattercarpet\": [{\"marker\": {\"colorbar\": {\"outlinewidth\": 0, \"ticks\": \"\"}}, \"type\": \"scattercarpet\"}], \"scattergeo\": [{\"marker\": {\"colorbar\": {\"outlinewidth\": 0, \"ticks\": \"\"}}, \"type\": \"scattergeo\"}], \"scattergl\": [{\"marker\": {\"line\": {\"color\": \"#283442\"}}, \"type\": \"scattergl\"}], \"scattermapbox\": [{\"marker\": {\"colorbar\": {\"outlinewidth\": 0, \"ticks\": \"\"}}, \"type\": \"scattermapbox\"}], \"scatterpolar\": [{\"marker\": {\"colorbar\": {\"outlinewidth\": 0, \"ticks\": \"\"}}, \"type\": \"scatterpolar\"}], \"scatterpolargl\": [{\"marker\": {\"colorbar\": {\"outlinewidth\": 0, \"ticks\": \"\"}}, \"type\": \"scatterpolargl\"}], \"scatterternary\": [{\"marker\": {\"colorbar\": {\"outlinewidth\": 0, \"ticks\": \"\"}}, \"type\": \"scatterternary\"}], \"surface\": [{\"colorbar\": {\"outlinewidth\": 0, \"ticks\": \"\"}, \"colorscale\": [[0.0, \"#0d0887\"], [0.1111111111111111, \"#46039f\"], [0.2222222222222222, \"#7201a8\"], [0.3333333333333333, \"#9c179e\"], [0.4444444444444444, \"#bd3786\"], [0.5555555555555556, \"#d8576b\"], [0.6666666666666666, \"#ed7953\"], [0.7777777777777778, \"#fb9f3a\"], [0.8888888888888888, \"#fdca26\"], [1.0, \"#f0f921\"]], \"type\": \"surface\"}], \"table\": [{\"cells\": {\"fill\": {\"color\": \"#506784\"}, \"line\": {\"color\": \"rgb(17,17,17)\"}}, \"header\": {\"fill\": {\"color\": \"#2a3f5f\"}, \"line\": {\"color\": \"rgb(17,17,17)\"}}, \"type\": \"table\"}]}, \"layout\": {\"annotationdefaults\": {\"arrowcolor\": \"#f2f5fa\", \"arrowhead\": 0, \"arrowwidth\": 1}, \"coloraxis\": {\"colorbar\": {\"outlinewidth\": 0, \"ticks\": \"\"}}, \"colorscale\": {\"diverging\": [[0, \"#8e0152\"], [0.1, \"#c51b7d\"], [0.2, \"#de77ae\"], [0.3, \"#f1b6da\"], [0.4, \"#fde0ef\"], [0.5, \"#f7f7f7\"], [0.6, \"#e6f5d0\"], [0.7, \"#b8e186\"], [0.8, \"#7fbc41\"], [0.9, \"#4d9221\"], [1, \"#276419\"]], \"sequential\": [[0.0, \"#0d0887\"], [0.1111111111111111, \"#46039f\"], [0.2222222222222222, \"#7201a8\"], [0.3333333333333333, \"#9c179e\"], [0.4444444444444444, \"#bd3786\"], [0.5555555555555556, \"#d8576b\"], [0.6666666666666666, \"#ed7953\"], [0.7777777777777778, \"#fb9f3a\"], [0.8888888888888888, \"#fdca26\"], [1.0, \"#f0f921\"]], \"sequentialminus\": [[0.0, \"#0d0887\"], [0.1111111111111111, \"#46039f\"], [0.2222222222222222, \"#7201a8\"], [0.3333333333333333, \"#9c179e\"], [0.4444444444444444, \"#bd3786\"], [0.5555555555555556, \"#d8576b\"], [0.6666666666666666, \"#ed7953\"], [0.7777777777777778, \"#fb9f3a\"], [0.8888888888888888, \"#fdca26\"], [1.0, \"#f0f921\"]]}, \"colorway\": [\"#636efa\", \"#EF553B\", \"#00cc96\", \"#ab63fa\", \"#FFA15A\", \"#19d3f3\", \"#FF6692\", \"#B6E880\", \"#FF97FF\", \"#FECB52\"], \"font\": {\"color\": \"#f2f5fa\"}, \"geo\": {\"bgcolor\": \"rgb(17,17,17)\", \"lakecolor\": \"rgb(17,17,17)\", \"landcolor\": \"rgb(17,17,17)\", \"showlakes\": true, \"showland\": true, \"subunitcolor\": \"#506784\"}, \"hoverlabel\": {\"align\": \"left\"}, \"hovermode\": \"closest\", \"mapbox\": {\"style\": \"dark\"}, \"paper_bgcolor\": \"rgb(17,17,17)\", \"plot_bgcolor\": \"rgb(17,17,17)\", \"polar\": {\"angularaxis\": {\"gridcolor\": \"#506784\", \"linecolor\": \"#506784\", \"ticks\": \"\"}, \"bgcolor\": \"rgb(17,17,17)\", \"radialaxis\": {\"gridcolor\": \"#506784\", \"linecolor\": \"#506784\", \"ticks\": \"\"}}, \"scene\": {\"xaxis\": {\"backgroundcolor\": \"rgb(17,17,17)\", \"gridcolor\": \"#506784\", \"gridwidth\": 2, \"linecolor\": \"#506784\", \"showbackground\": true, \"ticks\": \"\", \"zerolinecolor\": \"#C8D4E3\"}, \"yaxis\": {\"backgroundcolor\": \"rgb(17,17,17)\", \"gridcolor\": \"#506784\", \"gridwidth\": 2, \"linecolor\": \"#506784\", \"showbackground\": true, \"ticks\": \"\", \"zerolinecolor\": \"#C8D4E3\"}, \"zaxis\": {\"backgroundcolor\": \"rgb(17,17,17)\", \"gridcolor\": \"#506784\", \"gridwidth\": 2, \"linecolor\": \"#506784\", \"showbackground\": true, \"ticks\": \"\", \"zerolinecolor\": \"#C8D4E3\"}}, \"shapedefaults\": {\"line\": {\"color\": \"#f2f5fa\"}}, \"sliderdefaults\": {\"bgcolor\": \"#C8D4E3\", \"bordercolor\": \"rgb(17,17,17)\", \"borderwidth\": 1, \"tickwidth\": 0}, \"ternary\": {\"aaxis\": {\"gridcolor\": \"#506784\", \"linecolor\": \"#506784\", \"ticks\": \"\"}, \"baxis\": {\"gridcolor\": \"#506784\", \"linecolor\": \"#506784\", \"ticks\": \"\"}, \"bgcolor\": \"rgb(17,17,17)\", \"caxis\": {\"gridcolor\": \"#506784\", \"linecolor\": \"#506784\", \"ticks\": \"\"}}, \"title\": {\"x\": 0.05}, \"updatemenudefaults\": {\"bgcolor\": \"#506784\", \"borderwidth\": 0}, \"xaxis\": {\"automargin\": true, \"gridcolor\": \"#283442\", \"linecolor\": \"#506784\", \"ticks\": \"\", \"title\": {\"standoff\": 15}, \"zerolinecolor\": \"#283442\", \"zerolinewidth\": 2}, \"yaxis\": {\"automargin\": true, \"gridcolor\": \"#283442\", \"linecolor\": \"#506784\", \"ticks\": \"\", \"title\": {\"standoff\": 15}, \"zerolinecolor\": \"#283442\", \"zerolinewidth\": 2}}}, \"title\": {\"text\": \"Bitcoin Hash Rate with 95% Poisson Confidence Bounds\"}, \"yaxis\": {\"title\": {\"text\": \"Hash Rate\"}}},                        {\"responsive\": true}                    ).then(function(){\n",
       "                            \n",
       "var gd = document.getElementById('b2566f15-a006-4bf6-afa7-71d9456ee68b');\n",
       "var x = new MutationObserver(function (mutations, observer) {{\n",
       "        var display = window.getComputedStyle(gd).display;\n",
       "        if (!display || display === 'none') {{\n",
       "            console.log([gd, 'removed!']);\n",
       "            Plotly.purge(gd);\n",
       "            observer.disconnect();\n",
       "        }}\n",
       "}});\n",
       "\n",
       "// Listen for the removal of the full notebook cells\n",
       "var notebookContainer = gd.closest('#notebook-container');\n",
       "if (notebookContainer) {{\n",
       "    x.observe(notebookContainer, {childList: true});\n",
       "}}\n",
       "\n",
       "// Listen for the clearing of the current output cell\n",
       "var outputEl = gd.closest('.output');\n",
       "if (outputEl) {{\n",
       "    x.observe(outputEl, {childList: true});\n",
       "}}\n",
       "\n",
       "                        })                };                });            </script>        </div>"
      ]
     },
     "metadata": {},
     "output_type": "display_data"
    }
   ],
   "source": [
    "import plotly.graph_objs as go\n",
    "\n",
    "temp = data.loc[\n",
    "    data['date'] >= '2021-01-01'\n",
    "]\n",
    "\n",
    "\n",
    "fig = go.Figure([\n",
    "    go.Scatter(\n",
    "        x=temp['date'],\n",
    "        y=temp['HashRate'],\n",
    "        line=dict(color='darkorange'),\n",
    "        mode='lines',\n",
    "        name='Hash Rate (Day)'\n",
    "    ),\n",
    "    go.Scatter(\n",
    "        x=temp['date'],\n",
    "        y=temp['HashRateL7D'],\n",
    "        line=dict(color='yellow'),\n",
    "        mode='lines',\n",
    "        name='Hash Rate (7DMA)'\n",
    "    ),\n",
    "    go.Scatter(\n",
    "        name='Upper Bound',\n",
    "        x=temp['date'],\n",
    "        y=temp['HashRateUpper1Side'],\n",
    "        mode='lines',\n",
    "        marker=dict(color=\"#444\"),\n",
    "        line=dict(width=0),\n",
    "        showlegend=False\n",
    "    ),\n",
    "    go.Scatter(\n",
    "        name='Lower Bound',\n",
    "        x=temp['date'],\n",
    "        y=temp['HashRateLower1Side'],\n",
    "        marker=dict(color=\"#444\"),\n",
    "        line=dict(width=0),\n",
    "        mode='lines',\n",
    "        fillcolor='rgba(190, 190, 190, 0.3)',\n",
    "        fill='tonexty',\n",
    "        showlegend=False\n",
    "    )\n",
    "])\n",
    "fig.update_layout(\n",
    "        annotations=[\n",
    "            dict(x=1, y=-0.1,\n",
    "                 text=\"Chart by: @typerbole; Data: Coinmetrics\",\n",
    "                 showarrow=False, xref='paper', yref='paper',\n",
    "                 xanchor='right', yanchor='auto', xshift=0, yshift=0)\n",
    "        ],\n",
    "        showlegend=True,\n",
    "        legend_orientation=\"h\",\n",
    "        template=\"plotly_dark\"\n",
    "\n",
    ")\n",
    "fig.update_layout(\n",
    "        title_text='Bitcoin Hash Rate with 95% Poisson Confidence Bounds'\n",
    ")\n",
    "fig.update_yaxes(\n",
    "        title_text='Hash Rate'\n",
    ")\n",
    "fig.show()"
   ]
  },
  {
   "cell_type": "code",
   "execution_count": null,
   "metadata": {},
   "outputs": [],
   "source": []
  }
 ],
 "metadata": {
  "kernelspec": {
   "display_name": "Python 3 (ipykernel)",
   "language": "python",
   "name": "python3"
  },
  "language_info": {
   "codemirror_mode": {
    "name": "ipython",
    "version": 3
   },
   "file_extension": ".py",
   "mimetype": "text/x-python",
   "name": "python",
   "nbconvert_exporter": "python",
   "pygments_lexer": "ipython3",
   "version": "3.9.5"
  }
 },
 "nbformat": 4,
 "nbformat_minor": 4
}
