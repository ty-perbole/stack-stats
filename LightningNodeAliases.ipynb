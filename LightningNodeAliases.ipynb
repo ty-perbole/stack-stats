{
 "cells": [
  {
   "cell_type": "code",
   "execution_count": 1,
   "id": "8c419e17",
   "metadata": {},
   "outputs": [],
   "source": [
    "import numpy as np\n",
    "import pandas as pd"
   ]
  },
  {
   "cell_type": "code",
   "execution_count": 2,
   "id": "ed678639",
   "metadata": {},
   "outputs": [],
   "source": [
    "aliases = pd.read_csv(\"./data/ln_nodes.csv\")\n",
    "lnchan = pd.read_csv(\"../bitcoindash/ln_channels.csv\")\n",
    "lnpol = pd.read_csv(\"../bitcoindash/data/ln_policies.csv\")\n",
    "lnchan['open_ts'] = pd.to_datetime(lnchan['open_ts'] * 1000000000)\n",
    "lnchan['close_ts'] = pd.to_datetime(lnchan['close_ts'] * 1000000000)"
   ]
  },
  {
   "cell_type": "code",
   "execution_count": 3,
   "id": "dec5283e",
   "metadata": {},
   "outputs": [
    {
     "data": {
      "text/html": [
       "<div>\n",
       "<style scoped>\n",
       "    .dataframe tbody tr th:only-of-type {\n",
       "        vertical-align: middle;\n",
       "    }\n",
       "\n",
       "    .dataframe tbody tr th {\n",
       "        vertical-align: top;\n",
       "    }\n",
       "\n",
       "    .dataframe thead th {\n",
       "        text-align: right;\n",
       "    }\n",
       "</style>\n",
       "<table border=\"1\" class=\"dataframe\">\n",
       "  <thead>\n",
       "    <tr style=\"text-align: right;\">\n",
       "      <th></th>\n",
       "      <th>pubkey</th>\n",
       "      <th>alias</th>\n",
       "      <th>first_seen</th>\n",
       "      <th>color</th>\n",
       "    </tr>\n",
       "  </thead>\n",
       "  <tbody>\n",
       "    <tr>\n",
       "      <th>17919</th>\n",
       "      <td>02606ea860ed369e3749890253b4e0d55ed0a5c7ef3ef8...</td>\n",
       "      <td>ANCAPISTOLA</td>\n",
       "      <td>2021-04-29 07:58:16.123511</td>\n",
       "      <td>ffff00</td>\n",
       "    </tr>\n",
       "    <tr>\n",
       "      <th>11300</th>\n",
       "      <td>03c519c0f2ba26c6987b7741a62fca255ceea933a88b2b...</td>\n",
       "      <td>CRYPTOCU_LLC</td>\n",
       "      <td>2020-10-23 08:23:26.33768</td>\n",
       "      <td>ff00ff</td>\n",
       "    </tr>\n",
       "    <tr>\n",
       "      <th>4295</th>\n",
       "      <td>0213c1c382938ec1baeeb71671be63d29d25e867e1b7c0...</td>\n",
       "      <td>KONTIKI</td>\n",
       "      <td>2020-03-22 13:32:46.47699</td>\n",
       "      <td>006666</td>\n",
       "    </tr>\n",
       "    <tr>\n",
       "      <th>6017</th>\n",
       "      <td>02c338d7db703a80ffc07ece4a93acf88e8a8c6a12b5d5...</td>\n",
       "      <td>NL-Node-FirmW4re</td>\n",
       "      <td>2020-04-09 14:33:28.902268</td>\n",
       "      <td>ff7f00</td>\n",
       "    </tr>\n",
       "    <tr>\n",
       "      <th>22096</th>\n",
       "      <td>039dfee8f7c9f57fcf13639665a9d0ceed259a30787e13...</td>\n",
       "      <td>NOYB_LN_99</td>\n",
       "      <td>2021-07-01 07:51:28.09278</td>\n",
       "      <td>ffa07a</td>\n",
       "    </tr>\n",
       "    <tr>\n",
       "      <th>...</th>\n",
       "      <td>...</td>\n",
       "      <td>...</td>\n",
       "      <td>...</td>\n",
       "      <td>...</td>\n",
       "    </tr>\n",
       "    <tr>\n",
       "      <th>15185</th>\n",
       "      <td>03ce3e749ade68c9a797cac0cb5149cd9b97c610bfb164...</td>\n",
       "      <td>NaN</td>\n",
       "      <td>2021-03-12 08:43:40.630126</td>\n",
       "      <td>68f442</td>\n",
       "    </tr>\n",
       "    <tr>\n",
       "      <th>15248</th>\n",
       "      <td>03ce3e749ade68c9a797cac0cb5149cd9b97c610bfb164...</td>\n",
       "      <td>NaN</td>\n",
       "      <td>2021-03-14 07:16:39.743559</td>\n",
       "      <td>68f442</td>\n",
       "    </tr>\n",
       "    <tr>\n",
       "      <th>15338</th>\n",
       "      <td>03ce3e749ade68c9a797cac0cb5149cd9b97c610bfb164...</td>\n",
       "      <td>NaN</td>\n",
       "      <td>2021-03-16 07:47:34.922558</td>\n",
       "      <td>68f442</td>\n",
       "    </tr>\n",
       "    <tr>\n",
       "      <th>15508</th>\n",
       "      <td>03ce3e749ade68c9a797cac0cb5149cd9b97c610bfb164...</td>\n",
       "      <td>NaN</td>\n",
       "      <td>2021-03-18 07:03:44.600138</td>\n",
       "      <td>68f442</td>\n",
       "    </tr>\n",
       "    <tr>\n",
       "      <th>17938</th>\n",
       "      <td>029deb431c53ef237d6f2b896ef480bbfead34c35628d4...</td>\n",
       "      <td>NaN</td>\n",
       "      <td>2021-05-01 03:03:23.83097</td>\n",
       "      <td>3399ff</td>\n",
       "    </tr>\n",
       "  </tbody>\n",
       "</table>\n",
       "<p>22667 rows × 4 columns</p>\n",
       "</div>"
      ],
      "text/plain": [
       "                                                  pubkey              alias  \\\n",
       "17919  02606ea860ed369e3749890253b4e0d55ed0a5c7ef3ef8...        ANCAPISTOLA   \n",
       "11300  03c519c0f2ba26c6987b7741a62fca255ceea933a88b2b...       CRYPTOCU_LLC   \n",
       "4295   0213c1c382938ec1baeeb71671be63d29d25e867e1b7c0...            KONTIKI   \n",
       "6017   02c338d7db703a80ffc07ece4a93acf88e8a8c6a12b5d5...   NL-Node-FirmW4re   \n",
       "22096  039dfee8f7c9f57fcf13639665a9d0ceed259a30787e13...         NOYB_LN_99   \n",
       "...                                                  ...                ...   \n",
       "15185  03ce3e749ade68c9a797cac0cb5149cd9b97c610bfb164...                NaN   \n",
       "15248  03ce3e749ade68c9a797cac0cb5149cd9b97c610bfb164...                NaN   \n",
       "15338  03ce3e749ade68c9a797cac0cb5149cd9b97c610bfb164...                NaN   \n",
       "15508  03ce3e749ade68c9a797cac0cb5149cd9b97c610bfb164...                NaN   \n",
       "17938  029deb431c53ef237d6f2b896ef480bbfead34c35628d4...                NaN   \n",
       "\n",
       "                       first_seen   color  \n",
       "17919  2021-04-29 07:58:16.123511  ffff00  \n",
       "11300   2020-10-23 08:23:26.33768  ff00ff  \n",
       "4295    2020-03-22 13:32:46.47699  006666  \n",
       "6017   2020-04-09 14:33:28.902268  ff7f00  \n",
       "22096   2021-07-01 07:51:28.09278  ffa07a  \n",
       "...                           ...     ...  \n",
       "15185  2021-03-12 08:43:40.630126  68f442  \n",
       "15248  2021-03-14 07:16:39.743559  68f442  \n",
       "15338  2021-03-16 07:47:34.922558  68f442  \n",
       "15508  2021-03-18 07:03:44.600138  68f442  \n",
       "17938   2021-05-01 03:03:23.83097  3399ff  \n",
       "\n",
       "[22667 rows x 4 columns]"
      ]
     },
     "execution_count": 3,
     "metadata": {},
     "output_type": "execute_result"
    }
   ],
   "source": [
    "aliases.sort_values(by='alias')"
   ]
  },
  {
   "cell_type": "code",
   "execution_count": 4,
   "id": "58a34a78",
   "metadata": {},
   "outputs": [
    {
     "name": "stdout",
     "output_type": "stream",
     "text": [
      "<class 'pandas.core.frame.DataFrame'>\n",
      "RangeIndex: 22667 entries, 0 to 22666\n",
      "Data columns (total 4 columns):\n",
      " #   Column      Non-Null Count  Dtype \n",
      "---  ------      --------------  ----- \n",
      " 0   pubkey      22667 non-null  object\n",
      " 1   alias       22645 non-null  object\n",
      " 2   first_seen  22667 non-null  object\n",
      " 3   color       20117 non-null  object\n",
      "dtypes: object(4)\n",
      "memory usage: 708.5+ KB\n"
     ]
    }
   ],
   "source": [
    "aliases.info()"
   ]
  },
  {
   "cell_type": "code",
   "execution_count": 5,
   "id": "abca4225",
   "metadata": {},
   "outputs": [],
   "source": [
    "aliases['first_20'] = [x[:20] for x in aliases['pubkey']]"
   ]
  },
  {
   "cell_type": "code",
   "execution_count": 6,
   "id": "137e8e27",
   "metadata": {},
   "outputs": [
    {
     "data": {
      "text/plain": [
       "0.2808929280451758"
      ]
     },
     "execution_count": 6,
     "metadata": {},
     "output_type": "execute_result"
    }
   ],
   "source": [
    "np.mean(aliases['first_20'] == aliases['alias'])"
   ]
  },
  {
   "cell_type": "code",
   "execution_count": null,
   "id": "e2ae2535",
   "metadata": {},
   "outputs": [],
   "source": []
  }
 ],
 "metadata": {
  "kernelspec": {
   "display_name": "Python 3 (ipykernel)",
   "language": "python",
   "name": "python3"
  },
  "language_info": {
   "codemirror_mode": {
    "name": "ipython",
    "version": 3
   },
   "file_extension": ".py",
   "mimetype": "text/x-python",
   "name": "python",
   "nbconvert_exporter": "python",
   "pygments_lexer": "ipython3",
   "version": "3.9.5"
  }
 },
 "nbformat": 4,
 "nbformat_minor": 5
}
