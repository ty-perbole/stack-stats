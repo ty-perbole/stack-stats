{
 "cells": [
  {
   "cell_type": "code",
   "execution_count": 2,
   "metadata": {},
   "outputs": [],
   "source": [
    "import pandas as pd"
   ]
  },
  {
   "cell_type": "code",
   "execution_count": 1,
   "metadata": {},
   "outputs": [],
   "source": [
    "KEY = '''nKSDng5RRBUBiN1r8Alc'''"
   ]
  },
  {
   "cell_type": "code",
   "execution_count": 12,
   "metadata": {},
   "outputs": [],
   "source": [
    "import requests\n",
    "response = requests.get('https://api.coinmetrics.io/v4/catalog/assets?pretty=true&&assets=btc&api_key={}'.format(KEY)).json()"
   ]
  },
  {
   "cell_type": "code",
   "execution_count": 22,
   "metadata": {
    "scrolled": false
   },
   "outputs": [],
   "source": [
    "df = pd.DataFrame(response.get('data')[0].get('metrics'))"
   ]
  },
  {
   "cell_type": "code",
   "execution_count": 25,
   "metadata": {
    "scrolled": false
   },
   "outputs": [
    {
     "data": {
      "text/plain": [
       "array(['AdrActCnt', 'AdrActRecCnt', 'AdrActSentCnt', 'AdrBal1in100KCnt',\n",
       "       'AdrBal1in100MCnt', 'AdrBal1in10BCnt', 'AdrBal1in10KCnt',\n",
       "       'AdrBal1in10MCnt', 'AdrBal1in1BCnt', 'AdrBal1in1KCnt',\n",
       "       'AdrBal1in1MCnt', 'AdrBalCnt', 'AdrBalNtv0.001Cnt',\n",
       "       'AdrBalNtv0.01Cnt', 'AdrBalNtv0.1Cnt', 'AdrBalNtv100Cnt',\n",
       "       'AdrBalNtv100KCnt', 'AdrBalNtv10Cnt', 'AdrBalNtv10KCnt',\n",
       "       'AdrBalNtv1Cnt', 'AdrBalNtv1KCnt', 'AdrBalNtv1MCnt',\n",
       "       'AdrBalUSD100Cnt', 'AdrBalUSD100KCnt', 'AdrBalUSD10Cnt',\n",
       "       'AdrBalUSD10KCnt', 'AdrBalUSD10MCnt', 'AdrBalUSD1Cnt',\n",
       "       'AdrBalUSD1KCnt', 'AdrBalUSD1MCnt', 'AssetEODCompletionTime',\n",
       "       'BlkCnt', 'BlkHgt', 'BlkIntMean', 'BlkSizeByte', 'BlkSizeMeanByte',\n",
       "       'BlkWghtMean', 'BlkWghtTot', 'CapAct1yrUSD', 'CapFutExp10yrUSD',\n",
       "       'CapMVRVCur', 'CapMVRVFF', 'CapMrktCurUSD', 'CapMrktFFUSD',\n",
       "       'CapRealUSD', 'DiffLast', 'DiffMean', 'FeeByteMeanNtv',\n",
       "       'FeeMeanNtv', 'FeeMeanUSD', 'FeeMedNtv', 'FeeMedUSD', 'FeeRevPct',\n",
       "       'FeeTotNtv', 'FeeTotUSD', 'FeeWghtMeanNtv', 'FlowInBFXNtv',\n",
       "       'FlowInBFXUSD', 'FlowInBMXNtv', 'FlowInBMXUSD', 'FlowInBNBNtv',\n",
       "       'FlowInBNBUSD', 'FlowInBSPNtv', 'FlowInBSPUSD', 'FlowInBTXNtv',\n",
       "       'FlowInBTXUSD', 'FlowInExInclNtv', 'FlowInExInclUSD',\n",
       "       'FlowInExNtv', 'FlowInExUSD', 'FlowInGEMNtv', 'FlowInGEMUSD',\n",
       "       'FlowInHUONtv', 'FlowInHUOUSD', 'FlowInKRKNtv', 'FlowInKRKUSD',\n",
       "       'FlowInPOLNtv', 'FlowInPOLUSD', 'FlowMinerIn0HopAllExNtv',\n",
       "       'FlowMinerIn0HopAllExUSD', 'FlowMinerIn0HopAllNtv',\n",
       "       'FlowMinerIn0HopAllUSD', 'FlowMinerIn1HopAllBFXNtv',\n",
       "       'FlowMinerIn1HopAllBFXUSD', 'FlowMinerIn1HopAllBMXNtv',\n",
       "       'FlowMinerIn1HopAllBMXUSD', 'FlowMinerIn1HopAllBNBNtv',\n",
       "       'FlowMinerIn1HopAllBNBUSD', 'FlowMinerIn1HopAllBSPNtv',\n",
       "       'FlowMinerIn1HopAllBSPUSD', 'FlowMinerIn1HopAllBTXNtv',\n",
       "       'FlowMinerIn1HopAllBTXUSD', 'FlowMinerIn1HopAllExNtv',\n",
       "       'FlowMinerIn1HopAllExUSD', 'FlowMinerIn1HopAllGEMNtv',\n",
       "       'FlowMinerIn1HopAllGEMUSD', 'FlowMinerIn1HopAllHUONtv',\n",
       "       'FlowMinerIn1HopAllHUOUSD', 'FlowMinerIn1HopAllKRKNtv',\n",
       "       'FlowMinerIn1HopAllKRKUSD', 'FlowMinerIn1HopAllNtv',\n",
       "       'FlowMinerIn1HopAllPOLNtv', 'FlowMinerIn1HopAllPOLUSD',\n",
       "       'FlowMinerIn1HopAllUSD', 'FlowMinerNet0HopAllNtv',\n",
       "       'FlowMinerNet0HopAllUSD', 'FlowMinerNet1HopAllNtv',\n",
       "       'FlowMinerNet1HopAllUSD', 'FlowMinerOut0HopAllExNtv',\n",
       "       'FlowMinerOut0HopAllExUSD', 'FlowMinerOut0HopAllNtv',\n",
       "       'FlowMinerOut0HopAllUSD', 'FlowMinerOut1HopAllBFXNtv',\n",
       "       'FlowMinerOut1HopAllBFXUSD', 'FlowMinerOut1HopAllBMXNtv',\n",
       "       'FlowMinerOut1HopAllBMXUSD', 'FlowMinerOut1HopAllBNBNtv',\n",
       "       'FlowMinerOut1HopAllBNBUSD', 'FlowMinerOut1HopAllBSPNtv',\n",
       "       'FlowMinerOut1HopAllBSPUSD', 'FlowMinerOut1HopAllBTXNtv',\n",
       "       'FlowMinerOut1HopAllBTXUSD', 'FlowMinerOut1HopAllExNtv',\n",
       "       'FlowMinerOut1HopAllExUSD', 'FlowMinerOut1HopAllGEMNtv',\n",
       "       'FlowMinerOut1HopAllGEMUSD', 'FlowMinerOut1HopAllHUONtv',\n",
       "       'FlowMinerOut1HopAllHUOUSD', 'FlowMinerOut1HopAllKRKNtv',\n",
       "       'FlowMinerOut1HopAllKRKUSD', 'FlowMinerOut1HopAllNtv',\n",
       "       'FlowMinerOut1HopAllPOLNtv', 'FlowMinerOut1HopAllPOLUSD',\n",
       "       'FlowMinerOut1HopAllUSD', 'FlowNetBFXNtv', 'FlowNetBFXUSD',\n",
       "       'FlowNetBMXNtv', 'FlowNetBMXUSD', 'FlowNetBNBNtv', 'FlowNetBNBUSD',\n",
       "       'FlowNetBSPNtv', 'FlowNetBSPUSD', 'FlowNetBTXNtv', 'FlowNetBTXUSD',\n",
       "       'FlowNetGEMNtv', 'FlowNetGEMUSD', 'FlowNetHUONtv', 'FlowNetHUOUSD',\n",
       "       'FlowNetKRKNtv', 'FlowNetKRKUSD', 'FlowNetPOLNtv', 'FlowNetPOLUSD',\n",
       "       'FlowOutBFXNtv', 'FlowOutBFXUSD', 'FlowOutBMXNtv', 'FlowOutBMXUSD',\n",
       "       'FlowOutBNBNtv', 'FlowOutBNBUSD', 'FlowOutBSPNtv', 'FlowOutBSPUSD',\n",
       "       'FlowOutBTXNtv', 'FlowOutBTXUSD', 'FlowOutExInclNtv',\n",
       "       'FlowOutExInclUSD', 'FlowOutExNtv', 'FlowOutExUSD',\n",
       "       'FlowOutGEMNtv', 'FlowOutGEMUSD', 'FlowOutHUONtv', 'FlowOutHUOUSD',\n",
       "       'FlowOutKRKNtv', 'FlowOutKRKUSD', 'FlowOutPOLNtv', 'FlowOutPOLUSD',\n",
       "       'FlowTfrFromExCnt', 'FlowTfrFromExInclCnt', 'FlowTfrInBFXCnt',\n",
       "       'FlowTfrInBMXCnt', 'FlowTfrInBNBCnt', 'FlowTfrInBSPCnt',\n",
       "       'FlowTfrInBTXCnt', 'FlowTfrInGEMCnt', 'FlowTfrInHUOCnt',\n",
       "       'FlowTfrInKRKCnt', 'FlowTfrInPOLCnt', 'FlowTfrOutBFXCnt',\n",
       "       'FlowTfrOutBMXCnt', 'FlowTfrOutBNBCnt', 'FlowTfrOutBSPCnt',\n",
       "       'FlowTfrOutBTXCnt', 'FlowTfrOutGEMCnt', 'FlowTfrOutHUOCnt',\n",
       "       'FlowTfrOutKRKCnt', 'FlowTfrOutPOLCnt', 'FlowTfrToExCnt',\n",
       "       'FlowTfrToExInclCnt', 'HashRate', 'HashRate30d',\n",
       "       'HashRate30dOtherHardware', 'HashRate30dOtherHardwarePct',\n",
       "       'HashRate30dS7', 'HashRate30dS7Pct', 'HashRate30dS9',\n",
       "       'HashRate30dS9Pct', 'IssContNtv', 'IssContPctAnn', 'IssContPctDay',\n",
       "       'IssContUSD', 'IssTotNtv', 'IssTotUSD', 'MRI0HopAll30d',\n",
       "       'MRI1HopAll30d', 'NDF', 'NVTAdj', 'NVTAdj90', 'NVTAdjFF',\n",
       "       'NVTAdjFF90', 'PriceBTC', 'PriceUSD', 'PuellMulCont',\n",
       "       'PuellMulRev', 'PuellMulTot', 'ROI1yr', 'ROI30d', 'RVTAdj',\n",
       "       'RVTAdj90', 'ReferenceRate', 'ReferenceRateEUR',\n",
       "       'ReferenceRateUSD', 'RevAllTimeUSD', 'RevHashNtv',\n",
       "       'RevHashRateNtv', 'RevHashRateUSD', 'RevHashUSD', 'RevNtv',\n",
       "       'RevUSD', 'SER', 'SOPR', 'SOPROut', 'SplyAct10yr', 'SplyAct180d',\n",
       "       'SplyAct1d', 'SplyAct1yr', 'SplyAct2yr', 'SplyAct30d',\n",
       "       'SplyAct3yr', 'SplyAct4yr', 'SplyAct5yr', 'SplyAct7d',\n",
       "       'SplyAct90d', 'SplyActEver', 'SplyActPct1yr', 'SplyAdrBal1in100K',\n",
       "       'SplyAdrBal1in100M', 'SplyAdrBal1in10B', 'SplyAdrBal1in10K',\n",
       "       'SplyAdrBal1in10M', 'SplyAdrBal1in1B', 'SplyAdrBal1in1K',\n",
       "       'SplyAdrBal1in1M', 'SplyAdrBalNtv0.001', 'SplyAdrBalNtv0.01',\n",
       "       'SplyAdrBalNtv0.1', 'SplyAdrBalNtv1', 'SplyAdrBalNtv10',\n",
       "       'SplyAdrBalNtv100', 'SplyAdrBalNtv100K', 'SplyAdrBalNtv10K',\n",
       "       'SplyAdrBalNtv1K', 'SplyAdrBalNtv1M', 'SplyAdrBalUSD1',\n",
       "       'SplyAdrBalUSD10', 'SplyAdrBalUSD100', 'SplyAdrBalUSD100K',\n",
       "       'SplyAdrBalUSD10K', 'SplyAdrBalUSD10M', 'SplyAdrBalUSD1K',\n",
       "       'SplyAdrBalUSD1M', 'SplyAdrTop100', 'SplyAdrTop10Pct',\n",
       "       'SplyAdrTop1Pct', 'SplyBFXNtv', 'SplyBFXUSD', 'SplyBMXNtv',\n",
       "       'SplyBMXUSD', 'SplyBNBNtv', 'SplyBNBUSD', 'SplyBSPNtv',\n",
       "       'SplyBSPUSD', 'SplyBTXNtv', 'SplyBTXUSD', 'SplyCur', 'SplyExNtv',\n",
       "       'SplyExUSD', 'SplyExpFut10yr', 'SplyExpFut10yrCMBI', 'SplyFF',\n",
       "       'SplyGEMNtv', 'SplyGEMUSD', 'SplyHUONtv', 'SplyHUOUSD',\n",
       "       'SplyKRKNtv', 'SplyKRKUSD', 'SplyMiner0HopAllNtv',\n",
       "       'SplyMiner0HopAllUSD', 'SplyMiner1HopAllNtv',\n",
       "       'SplyMiner1HopAllUSD', 'SplyPOLNtv', 'SplyPOLUSD', 'SplyRvv180d',\n",
       "       'SplyRvv1yr', 'SplyRvv2yr', 'SplyRvv30d', 'SplyRvv3yr',\n",
       "       'SplyRvv4yr', 'SplyRvv5yr', 'SplyRvv7d', 'SplyRvv90d',\n",
       "       'SplyUTXOLoss', 'SplyUTXOProf', 'TxCnt', 'TxCntSec', 'TxExCnt',\n",
       "       'TxMeanByte', 'TxOpRetCnt', 'TxTfrCnt', 'TxTfrMeanByte',\n",
       "       'TxTfrValAdjByte', 'TxTfrValAdjNtv', 'TxTfrValAdjUSD',\n",
       "       'TxTfrValDayDst', 'TxTfrValDayDstMean', 'TxTfrValMeanNtv',\n",
       "       'TxTfrValMeanUSD', 'TxTfrValMedNtv', 'TxTfrValMedUSD',\n",
       "       'TxTfrValNtv', 'TxTfrValUSD', 'UTXOAgeMean', 'UTXOAgeMed',\n",
       "       'UTXOAgeValMean', 'UTXOCnt', 'UTXODay', 'UTXOLossCnt',\n",
       "       'UTXOLossUnrealUSD', 'UTXOProfCnt', 'UTXOProfUnrealUSD',\n",
       "       'VelAct1yr', 'VelActAdj1yr', 'VelCur1yr', 'VelCurAdj1yr',\n",
       "       'VtyDayRet180d', 'VtyDayRet30d', 'VtyDayRet60d'], dtype=object)"
      ]
     },
     "execution_count": 25,
     "metadata": {},
     "output_type": "execute_result"
    }
   ],
   "source": [
    "df.metric.unique()"
   ]
  },
  {
   "cell_type": "code",
   "execution_count": null,
   "metadata": {},
   "outputs": [],
   "source": []
  }
 ],
 "metadata": {
  "kernelspec": {
   "display_name": "Python 3",
   "language": "python",
   "name": "python3"
  },
  "language_info": {
   "codemirror_mode": {
    "name": "ipython",
    "version": 3
   },
   "file_extension": ".py",
   "mimetype": "text/x-python",
   "name": "python",
   "nbconvert_exporter": "python",
   "pygments_lexer": "ipython3",
   "version": "3.8.6"
  }
 },
 "nbformat": 4,
 "nbformat_minor": 4
}
